{
 "cells": [
  {
   "cell_type": "markdown",
   "metadata": {
    "deletable": true,
    "editable": true
   },
   "source": [
    "TODO :\n",
    "\n",
    "definir un modèle probabiliste \"conditionnel\" hiérarchique\n",
    "\n",
    "et le tester en premier avec info complete (tous les pixels)"
   ]
  },
  {
   "cell_type": "code",
   "execution_count": 1,
   "metadata": {
    "collapsed": false,
    "deletable": true,
    "editable": true
   },
   "outputs": [],
   "source": [
    "%matplotlib inline"
   ]
  },
  {
   "cell_type": "code",
   "execution_count": 2,
   "metadata": {
    "collapsed": true,
    "deletable": true,
    "editable": true
   },
   "outputs": [],
   "source": [
    "import numpy as np\n",
    "import scipy as sp\n",
    "import matplotlib.pyplot as plt"
   ]
  },
  {
   "cell_type": "code",
   "execution_count": 14,
   "metadata": {
    "collapsed": false,
    "deletable": true,
    "editable": true
   },
   "outputs": [],
   "source": [
    "from waveimage import WaveImage, calc_dim, calc_U, mnist_reshape_32, WaveDict"
   ]
  },
  {
   "cell_type": "code",
   "execution_count": 4,
   "metadata": {
    "collapsed": false,
    "deletable": true,
    "editable": true
   },
   "outputs": [],
   "source": [
    "import math"
   ]
  },
  {
   "cell_type": "code",
   "execution_count": 5,
   "metadata": {
    "collapsed": false,
    "deletable": true,
    "editable": true
   },
   "outputs": [
    {
     "name": "stdout",
     "output_type": "stream",
     "text": [
      "Extracting MNIST_data/train-images-idx3-ubyte.gz\n",
      "Extracting MNIST_data/train-labels-idx1-ubyte.gz\n",
      "Extracting MNIST_data/t10k-images-idx3-ubyte.gz\n",
      "Extracting MNIST_data/t10k-labels-idx1-ubyte.gz\n"
     ]
    }
   ],
   "source": [
    "from tensorflow.examples.tutorials.mnist import input_data\n",
    "mnist = input_data.read_data_sets(\"MNIST_data/\")"
   ]
  },
  {
   "cell_type": "markdown",
   "metadata": {
    "deletable": true,
    "editable": true
   },
   "source": [
    "#### Ajout des bords"
   ]
  },
  {
   "cell_type": "code",
   "execution_count": 6,
   "metadata": {
    "collapsed": false,
    "deletable": true,
    "editable": true
   },
   "outputs": [],
   "source": [
    "image = mnist_reshape_32(mnist.train.images[0])"
   ]
  },
  {
   "cell_type": "markdown",
   "metadata": {
    "deletable": true,
    "editable": true
   },
   "source": [
    "#### insertion de quatre points (avec leur descendance)"
   ]
  },
  {
   "cell_type": "code",
   "execution_count": 7,
   "metadata": {
    "collapsed": false,
    "deletable": true,
    "editable": true
   },
   "outputs": [],
   "source": [
    "#image = image[:3,:]\n",
    "w1 = WaveImage()\n",
    "w2 = WaveImage(image = image)\n",
    "w1.add_coeffs(w2, u = (15, 15), h_ref = w2.get_h_max())\n",
    "w1.add_coeffs(w2, u = (15, 17), h_ref = w2.get_h_max())\n",
    "w1.add_coeffs(w2, u = (17, 15), h_ref = w2.get_h_max())\n",
    "w1.add_coeffs(w2, u = (17, 17), h_ref = w2.get_h_max())\n"
   ]
  },
  {
   "cell_type": "code",
   "execution_count": 8,
   "metadata": {
    "collapsed": false,
    "deletable": true,
    "editable": true,
    "scrolled": false
   },
   "outputs": [
    {
     "data": {
      "image/png": "[encoded data removed]",
      "text/plain": [
       "<matplotlib.figure.Figure at 0x7f32311af0d0>"
      ]
     },
     "metadata": {},
     "output_type": "display_data"
    }
   ],
   "source": [
    "plt.figure(figsize = (20,20))\n",
    "plt.subplot(1,2,1)\n",
    "plt.imshow(w2.get_image(), cmap = 'gray_r', interpolation = 'nearest')\n",
    "plt.plot([-0.5, 31.5],[15.5, 15.5],'r--')\n",
    "plt.plot([15.5, 15.5],[-0.5, 31.5],'r--')\n",
    "plt.xlim([-0.5, 31.5])\n",
    "plt.ylim([-0.5, 31.5])\n",
    "plt.gca().invert_yaxis()\n",
    "plt.subplot(1,2,2)\n",
    "plt.imshow(w1.get_image(), cmap = 'gray_r', interpolation = 'nearest')\n",
    "plt.plot([-0.5, 31.5],[15.5, 15.5],'r--')\n",
    "plt.plot([15.5, 15.5],[-0.5, 31.5],'r--')\n",
    "plt.plot(15 - .5, 15 - .5, 'r+', markersize = 12)\n",
    "plt.plot(15 - .5, 17 - .5, 'r+', markersize = 12)\n",
    "plt.plot(17 - .5, 15 - .5, 'r+', markersize = 12)\n",
    "plt.plot(17 - .5, 17 - .5, 'r+', markersize = 12)\n",
    "plt.xlim([-0.5, 31.5])\n",
    "plt.ylim([-0.5, 31.5])\n",
    "plt.gca().invert_yaxis()"
   ]
  },
  {
   "cell_type": "markdown",
   "metadata": {
    "deletable": true,
    "editable": true
   },
   "source": [
    "#### Test de la fonction de copie"
   ]
  },
  {
   "cell_type": "code",
   "execution_count": 9,
   "metadata": {
    "collapsed": false,
    "deletable": true,
    "editable": true
   },
   "outputs": [
    {
     "data": {
      "image/png": "[encoded data removed]",
      "text/plain": [
       "<matplotlib.figure.Figure at 0x7f323176c510>"
      ]
     },
     "metadata": {},
     "output_type": "display_data"
    }
   ],
   "source": [
    "w3 = w2.copy()\n",
    "\n",
    "h_max = w3.get_h_max()\n",
    "data =  w3.get_data()\n",
    "h_ref = h_max - 1\n",
    "for u in data[h_ref]:\n",
    "    w3.set_data(h_ref, u, np.zeros(3))\n",
    "\n",
    "plt.subplot(1,2,1)\n",
    "plt.imshow(w3.get_image(), cmap = 'gray_r', interpolation = 'nearest')\n",
    "plt.plot([-0.5, 31.5],[15.5, 15.5],'r--')\n",
    "plt.plot([15.5, 15.5],[-0.5, 31.5],'r--')\n",
    "plt.xlim([-0.5, 31.5])\n",
    "plt.ylim([-0.5, 31.5])\n",
    "plt.gca().invert_yaxis()\n",
    "\n",
    "w3 = w2.copy()\n",
    "data =  w3.get_data()\n",
    "\n",
    "for u in data[0]:\n",
    "    w3.set_data(0, u, 0)\n",
    "for h in range(1,h_ref):\n",
    "    for u in data[h]: \n",
    "        w3.set_data(h, u, np.zeros(3))\n",
    "        \n",
    "plt.subplot(1,2,2)\n",
    "plt.imshow(w3.get_image(), cmap = 'gray_r', interpolation = 'nearest')\n",
    "plt.plot([-0.5, 31.5],[15.5, 15.5],'r--')\n",
    "plt.plot([15.5, 15.5],[-0.5, 31.5],'r--')\n",
    "plt.xlim([-0.5, 31.5])\n",
    "plt.ylim([-0.5, 31.5])\n",
    "plt.gca().invert_yaxis()\n"
   ]
  },
  {
   "cell_type": "markdown",
   "metadata": {
    "collapsed": true,
    "deletable": true,
    "editable": true
   },
   "source": [
    "#### Base d'apprentissage"
   ]
  },
  {
   "cell_type": "code",
   "execution_count": 10,
   "metadata": {
    "collapsed": false,
    "deletable": true,
    "editable": true,
    "scrolled": true
   },
   "outputs": [
    {
     "name": "stdout",
     "output_type": "stream",
     "text": [
      "0\n",
      "1000\n",
      "2000\n",
      "3000\n",
      "4000\n",
      "5000\n",
      "6000\n",
      "7000\n",
      "8000\n",
      "9000\n",
      "10000\n",
      "11000\n",
      "12000\n",
      "13000\n",
      "14000\n",
      "15000\n",
      "16000\n",
      "17000\n",
      "18000\n",
      "19000\n",
      "20000\n",
      "21000\n",
      "22000\n",
      "23000\n",
      "24000\n",
      "25000\n",
      "26000\n",
      "27000\n",
      "28000\n",
      "29000\n",
      "30000\n",
      "31000\n",
      "32000\n",
      "33000\n",
      "34000\n",
      "35000\n",
      "36000\n",
      "37000\n",
      "38000\n",
      "39000\n",
      "40000\n",
      "41000\n",
      "42000\n",
      "43000\n",
      "44000\n",
      "45000\n",
      "46000\n",
      "47000\n",
      "48000\n",
      "49000\n",
      "50000\n",
      "51000\n",
      "52000\n",
      "53000\n",
      "54000\n"
     ]
    }
   ],
   "source": [
    "B_app = []\n",
    "for i in range(len(mnist.train.images)):\n",
    "    if i % 1000 == 0 :\n",
    "        print i\n",
    "    c = mnist.train.labels[i]\n",
    "    image =  mnist_reshape_32(mnist.train.images[i])\n",
    "    B_app += [(WaveImage(image = image), c)]\n",
    "    "
   ]
  },
  {
   "cell_type": "markdown",
   "metadata": {
    "deletable": true,
    "editable": true
   },
   "source": [
    "#### Base de test"
   ]
  },
  {
   "cell_type": "code",
   "execution_count": 11,
   "metadata": {
    "collapsed": false,
    "deletable": true,
    "editable": true
   },
   "outputs": [
    {
     "name": "stdout",
     "output_type": "stream",
     "text": [
      "0\n",
      "1000\n",
      "2000\n",
      "3000\n",
      "4000\n",
      "5000\n",
      "6000\n",
      "7000\n",
      "8000\n",
      "9000\n"
     ]
    }
   ],
   "source": [
    "B_test = []\n",
    "for i in range(len(mnist.test.images)):\n",
    "    if i % 1000 == 0 :\n",
    "        print i\n",
    "    c = mnist.test.labels[i]\n",
    "    image =  mnist_reshape_32(mnist.test.images[i])\n",
    "    B_test += [(WaveImage(image = image), c)]\n",
    "    "
   ]
  },
  {
   "cell_type": "markdown",
   "metadata": {
    "collapsed": false,
    "deletable": true,
    "editable": true
   },
   "source": [
    "## Dictionnaire (Base d'apprentissage)"
   ]
  },
  {
   "cell_type": "code",
   "execution_count": 53,
   "metadata": {
    "collapsed": false
   },
   "outputs": [],
   "source": [
    "class WaveDict:\n",
    "\tdef __init__(self, shape = (32, 32), nb_classes = 10):\n",
    "\t\t# Attribut shape\n",
    "\t\tself.__shape = shape\t\n",
    "\t\t# Attribut h_max : profondeur de l'image\n",
    "\t\tself.__h_max = min(int(math.log(self.__shape[0], 2)) + 1, \tint(math.log(self.__shape[1], 2)) + 1)\n",
    "\t\t# Attribut data : L'attribut data contient les vecteurs en position [c][h][u] (dictionnaire)\n",
    "\t\tself.__data = {}\n",
    "\t\tfor c in range(nb_classes):\n",
    "\t\t\tself.__data[c] = {}\n",
    "\t\t\tfor h in range(self.__h_max):\n",
    "\t\t\t\tself.__data[c][h] = {}\n",
    "\t\t\t\tdim_i, dim_j = calc_dim(self.__shape, h, self.__h_max)\n",
    "\t\t\t\tfor i in range(dim_i):\n",
    "\t\t\t\t\tfor j in range(dim_j):\n",
    "\t\t\t\t\t\tself.__data[c][h][(i, j)] = []\n",
    "\t\tself.__nb_classes = nb_classes\n",
    "\t\t\t\t\t\t\n",
    "\tdef get_shape(self):\n",
    "\t\treturn self.__shape\n",
    "\t\n",
    "\tdef get_h_max(self):\n",
    "\t\treturn self.__h_max\n",
    "\t\t\n",
    "\tdef get_data(self):\n",
    "\t\treturn self.__data\n",
    "\t\t\n",
    "\tdef append(self, c, h, u, v):\n",
    "\t\tassert 0 <= c < self.__nb_classes\n",
    "\t\tassert 0 <= h < self.__h_max\n",
    "\t\tif u in self.__data[c][h]:\n",
    "\t\t\tself.__data[c][h][u] += [v]\n",
    "\t\telse:\n",
    "\t\t\tself.__data[c][h][u] = [v]\n",
    "\n",
    "\tdef add(self, (waveImage, c)):\n",
    "\t\tdata = waveImage.get_data()\n",
    "\t\tfor h in range(waveImage.get_h_max()):\n",
    "\t\t\tfor u in calc_U((32, 32), h, waveImage.get_h_max()):\n",
    "\t\t\t#for u in calc_U(waveImage.get_shape(), h, waveImage.get_h_max()):\n",
    "\t\t\t\tself.append(c, h, u, data[h][u])"
   ]
  },
  {
   "cell_type": "code",
   "execution_count": 54,
   "metadata": {
    "collapsed": true,
    "deletable": true,
    "editable": true
   },
   "outputs": [],
   "source": [
    "waveDict_app = WaveDict(shape = (32, 32), nb_classes = 10)\n",
    "for sample in B_app:\n",
    "    waveDict_app.add(sample)"
   ]
  },
  {
   "cell_type": "code",
   "execution_count": 55,
   "metadata": {
    "collapsed": false
   },
   "outputs": [],
   "source": []
  },
  {
   "cell_type": "code",
   "execution_count": 42,
   "metadata": {
    "collapsed": false
   },
   "outputs": [
    {
     "data": {
      "text/plain": [
       "7"
      ]
     },
     "execution_count": 42,
     "metadata": {},
     "output_type": "execute_result"
    }
   ],
   "source": [
    "sample[1]"
   ]
  },
  {
   "cell_type": "code",
   "execution_count": 39,
   "metadata": {
    "collapsed": false
   },
   "outputs": [
    {
     "data": {
      "text/plain": [
       "[(0, 0),\n",
       " (0, 1),\n",
       " (0, 2),\n",
       " (0, 3),\n",
       " (0, 4),\n",
       " (0, 5),\n",
       " (0, 6),\n",
       " (0, 7),\n",
       " (1, 0),\n",
       " (1, 1),\n",
       " (1, 2),\n",
       " (1, 3),\n",
       " (1, 4),\n",
       " (1, 5),\n",
       " (1, 6),\n",
       " (1, 7),\n",
       " (2, 0),\n",
       " (2, 1),\n",
       " (2, 2),\n",
       " (2, 3),\n",
       " (2, 4),\n",
       " (2, 5),\n",
       " (2, 6),\n",
       " (2, 7),\n",
       " (3, 0),\n",
       " (3, 1),\n",
       " (3, 2),\n",
       " (3, 3),\n",
       " (3, 4),\n",
       " (3, 5),\n",
       " (3, 6),\n",
       " (3, 7),\n",
       " (4, 0),\n",
       " (4, 1),\n",
       " (4, 2),\n",
       " (4, 3),\n",
       " (4, 4),\n",
       " (4, 5),\n",
       " (4, 6),\n",
       " (4, 7),\n",
       " (5, 0),\n",
       " (5, 1),\n",
       " (5, 2),\n",
       " (5, 3),\n",
       " (5, 4),\n",
       " (5, 5),\n",
       " (5, 6),\n",
       " (5, 7),\n",
       " (6, 0),\n",
       " (6, 1),\n",
       " (6, 2),\n",
       " (6, 3),\n",
       " (6, 4),\n",
       " (6, 5),\n",
       " (6, 6),\n",
       " (6, 7),\n",
       " (7, 0),\n",
       " (7, 1),\n",
       " (7, 2),\n",
       " (7, 3),\n",
       " (7, 4),\n",
       " (7, 5),\n",
       " (7, 6),\n",
       " (7, 7)]"
      ]
     },
     "execution_count": 39,
     "metadata": {},
     "output_type": "execute_result"
    }
   ],
   "source": [
    "calc_U((32, 32), h, 6)"
   ]
  },
  {
   "cell_type": "code",
   "execution_count": 40,
   "metadata": {
    "collapsed": false
   },
   "outputs": [
    {
     "data": {
      "text/plain": [
       "4"
      ]
     },
     "execution_count": 40,
     "metadata": {},
     "output_type": "execute_result"
    }
   ],
   "source": [
    "h"
   ]
  },
  {
   "cell_type": "code",
   "execution_count": null,
   "metadata": {
    "collapsed": true
   },
   "outputs": [],
   "source": []
  }
 ],
 "metadata": {
  "kernelspec": {
   "display_name": "Python 2",
   "language": "python",
   "name": "python2"
  },
  "language_info": {
   "codemirror_mode": {
    "name": "ipython",
    "version": 2
   },
   "file_extension": ".py",
   "mimetype": "text/x-python",
   "name": "python",
   "nbconvert_exporter": "python",
   "pygments_lexer": "ipython2",
   "version": "2.7.13"
  }
 },
 "nbformat": 4,
 "nbformat_minor": 2
}
