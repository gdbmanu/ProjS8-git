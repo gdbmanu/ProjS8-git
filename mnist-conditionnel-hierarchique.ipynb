{
 "cells": [
  {
   "cell_type": "markdown",
   "metadata": {
    "deletable": true,
    "editable": true
   },
   "source": [
    "TODO :\n",
    "\n",
    "definir un modèle probabiliste \"conditionnel\" hiérarchique\n",
    "\n",
    "et le tester en premier avec info complete (tous les pixels)"
   ]
  },
  {
   "cell_type": "code",
   "execution_count": null,
   "metadata": {
    "collapsed": false,
    "deletable": true,
    "editable": true
   },
   "outputs": [],
   "source": [
    "%matplotlib inline"
   ]
  },
  {
   "cell_type": "code",
   "execution_count": null,
   "metadata": {
    "collapsed": true,
    "deletable": true,
    "editable": true
   },
   "outputs": [],
   "source": [
    "import numpy as np\n",
    "import scipy as sp\n",
    "import matplotlib.pyplot as plt"
   ]
  },
  {
   "cell_type": "code",
   "execution_count": null,
   "metadata": {
    "collapsed": false,
    "deletable": true,
    "editable": true
   },
   "outputs": [],
   "source": [
    "from waveimage import WaveImage"
   ]
  },
  {
   "cell_type": "code",
   "execution_count": null,
   "metadata": {
    "collapsed": false,
    "deletable": true,
    "editable": true
   },
   "outputs": [],
   "source": [
    "import math"
   ]
  },
  {
   "cell_type": "code",
   "execution_count": null,
   "metadata": {
    "collapsed": false,
    "deletable": true,
    "editable": true
   },
   "outputs": [],
   "source": [
    "from tensorflow.examples.tutorials.mnist import input_data\n",
    "mnist = input_data.read_data_sets(\"MNIST_data/\")"
   ]
  },
  {
   "cell_type": "code",
   "execution_count": null,
   "metadata": {
    "collapsed": false,
    "deletable": true,
    "editable": true
   },
   "outputs": [],
   "source": [
    "image = mnist.train.images[1].reshape(28,28)\n",
    "\n",
    "image = np.append(np.zeros((2,28)), image, axis = 0)\n",
    "image = np.append(image, np.zeros((2,28)), axis = 0)\n",
    "image = np.append(np.zeros((32,2)), image, axis = 1)\n",
    "image = np.append(image, np.zeros((32,2)), axis = 1)\n"
   ]
  },
  {
   "cell_type": "code",
   "execution_count": null,
   "metadata": {
    "collapsed": false,
    "deletable": true,
    "editable": true
   },
   "outputs": [],
   "source": [
    "#image = image[:3,:]\n",
    "u = (15,15)\n",
    "w1 = WaveImage()\n",
    "w2 = WaveImage(image = image)\n",
    "w1.add_coeffs(w2, u = (15, 15), h_ref = w2.getHmax())\n",
    "w1.add_coeffs(w2, u = (15, 17), h_ref = w2.getHmax())\n",
    "w1.add_coeffs(w2, u = (17, 15), h_ref = w2.getHmax())\n",
    "w1.add_coeffs(w2, u = (17, 17), h_ref = w2.getHmax())\n"
   ]
  },
  {
   "cell_type": "code",
   "execution_count": null,
   "metadata": {
    "collapsed": false,
    "deletable": true,
    "editable": true,
    "scrolled": false
   },
   "outputs": [],
   "source": [
    "plt.figure(figsize = (20,20))\n",
    "plt.subplot(1,2,1)\n",
    "plt.imshow(w2.getImage(), cmap = 'gray_r', interpolation = 'nearest')\n",
    "plt.plot([-0.5, 31.5],[15.5, 15.5],'r--')\n",
    "plt.plot([15.5, 15.5],[-0.5, 31.5],'r--')\n",
    "plt.xlim([-0.5, 31.5])\n",
    "plt.ylim([-0.5, 31.5])\n",
    "plt.gca().invert_yaxis()\n",
    "plt.subplot(1,2,2)\n",
    "plt.imshow(w1.getImage(), cmap = 'gray_r', interpolation = 'nearest')\n",
    "plt.plot([-0.5, 31.5],[15.5, 15.5],'r--')\n",
    "plt.plot([15.5, 15.5],[-0.5, 31.5],'r--')\n",
    "plt.plot(15 - .5, 15 - .5, 'r+', markersize = 12)\n",
    "plt.plot(15 - .5, 17 - .5, 'r+', markersize = 12)\n",
    "plt.plot(17 - .5, 15 - .5, 'r+', markersize = 12)\n",
    "plt.plot(17 - .5, 17 - .5, 'r+', markersize = 12)\n",
    "plt.xlim([-0.5, 31.5])\n",
    "plt.ylim([-0.5, 31.5])\n",
    "plt.gca().invert_yaxis()"
   ]
  },
  {
   "cell_type": "code",
   "execution_count": null,
   "metadata": {
    "collapsed": false,
    "deletable": true,
    "editable": true
   },
   "outputs": [],
   "source": [
    "d = w1.getData()\n",
    "for h in range(w1.getHmax()):\n",
    "    print h, d[h]"
   ]
  },
  {
   "cell_type": "code",
   "execution_count": null,
   "metadata": {
    "collapsed": false,
    "deletable": true,
    "editable": true,
    "scrolled": false
   },
   "outputs": [],
   "source": [
    "print w"
   ]
  },
  {
   "cell_type": "code",
   "execution_count": null,
   "metadata": {
    "collapsed": false,
    "deletable": true,
    "editable": true,
    "scrolled": false
   },
   "outputs": [],
   "source": [
    "print w"
   ]
  },
  {
   "cell_type": "code",
   "execution_count": null,
   "metadata": {
    "collapsed": false,
    "deletable": true,
    "editable": true
   },
   "outputs": [],
   "source": [
    "print w"
   ]
  },
  {
   "cell_type": "code",
   "execution_count": null,
   "metadata": {
    "collapsed": false,
    "deletable": true,
    "editable": true
   },
   "outputs": [],
   "source": [
    "print w"
   ]
  },
  {
   "cell_type": "code",
   "execution_count": null,
   "metadata": {
    "collapsed": false,
    "deletable": true,
    "editable": true
   },
   "outputs": [],
   "source": [
    "import pywt\n",
    "pywt.wavedec2(image, 'haar')[1]"
   ]
  },
  {
   "cell_type": "code",
   "execution_count": null,
   "metadata": {
    "collapsed": false,
    "deletable": true,
    "editable": true
   },
   "outputs": [],
   "source": [
    "min(int(math.log(28, 2)) + 1, \tint(math.log(3, 2)) + 1)"
   ]
  },
  {
   "cell_type": "code",
   "execution_count": null,
   "metadata": {
    "collapsed": false,
    "deletable": true,
    "editable": true
   },
   "outputs": [],
   "source": [
    "28 / 2, 3 / 2"
   ]
  },
  {
   "cell_type": "code",
   "execution_count": null,
   "metadata": {
    "collapsed": false,
    "deletable": true,
    "editable": true
   },
   "outputs": [],
   "source": [
    "image.shape"
   ]
  },
  {
   "cell_type": "code",
   "execution_count": null,
   "metadata": {
    "collapsed": false,
    "deletable": true,
    "editable": true
   },
   "outputs": [],
   "source": [
    "2**5"
   ]
  },
  {
   "cell_type": "code",
   "execution_count": null,
   "metadata": {
    "collapsed": false,
    "deletable": true,
    "editable": true
   },
   "outputs": [],
   "source": [
    "math.ceil(28. / 2**4) "
   ]
  },
  {
   "cell_type": "code",
   "execution_count": null,
   "metadata": {
    "collapsed": false,
    "deletable": true,
    "editable": true
   },
   "outputs": [],
   "source": [
    "math.ceil(32. / 2**5) "
   ]
  },
  {
   "cell_type": "code",
   "execution_count": null,
   "metadata": {
    "collapsed": false,
    "deletable": true,
    "editable": true
   },
   "outputs": [],
   "source": [
    "28. / 2**4"
   ]
  },
  {
   "cell_type": "code",
   "execution_count": null,
   "metadata": {
    "collapsed": false,
    "deletable": true,
    "editable": true
   },
   "outputs": [],
   "source": [
    "math.ceil(1.75)"
   ]
  },
  {
   "cell_type": "code",
   "execution_count": null,
   "metadata": {
    "collapsed": false,
    "deletable": true,
    "editable": true
   },
   "outputs": [],
   "source": [
    "range(1, 1)"
   ]
  },
  {
   "cell_type": "code",
   "execution_count": null,
   "metadata": {
    "collapsed": true
   },
   "outputs": [],
   "source": []
  }
 ],
 "metadata": {
  "kernelspec": {
   "display_name": "Python 2",
   "language": "python",
   "name": "python2"
  },
  "language_info": {
   "codemirror_mode": {
    "name": "ipython",
    "version": 2
   },
   "file_extension": ".py",
   "mimetype": "text/x-python",
   "name": "python",
   "nbconvert_exporter": "python",
   "pygments_lexer": "ipython2",
   "version": "2.7.9"
  }
 },
 "nbformat": 4,
 "nbformat_minor": 2
}
