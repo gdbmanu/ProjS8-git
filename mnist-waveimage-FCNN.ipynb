{
 "cells": [
  {
   "cell_type": "markdown",
   "metadata": {},
   "source": [
    "TODO : generaliser à images 32x32, etc."
   ]
  },
  {
   "cell_type": "code",
   "execution_count": 2,
   "metadata": {},
   "outputs": [],
   "source": [
    "%matplotlib inline"
   ]
  },
  {
   "cell_type": "code",
   "execution_count": 3,
   "metadata": {},
   "outputs": [],
   "source": [
    "import numpy as np\n",
    "import scipy as sp\n",
    "import matplotlib.pyplot as plt\n",
    "import tensorflow as tf"
   ]
  },
  {
   "cell_type": "code",
   "execution_count": 4,
   "metadata": {},
   "outputs": [],
   "source": [
    "#from waveimage import WaveImage, calc_dim, calc_U, mnist_reshape_32\n",
    "from waveimage import WaveImage, calc_dim, calc_U, mnist_reshape_32"
   ]
  },
  {
   "cell_type": "code",
   "execution_count": 5,
   "metadata": {},
   "outputs": [],
   "source": [
    "from scipy.stats import multivariate_normal"
   ]
  },
  {
   "cell_type": "code",
   "execution_count": 6,
   "metadata": {},
   "outputs": [],
   "source": [
    "import math"
   ]
  },
  {
   "cell_type": "code",
   "execution_count": 7,
   "metadata": {},
   "outputs": [],
   "source": [
    "import sys"
   ]
  },
  {
   "cell_type": "code",
   "execution_count": 8,
   "metadata": {},
   "outputs": [
    {
     "name": "stdout",
     "output_type": "stream",
     "text": [
      "Extracting MNIST_data/train-images-idx3-ubyte.gz\n",
      "Extracting MNIST_data/train-labels-idx1-ubyte.gz\n",
      "Extracting MNIST_data/t10k-images-idx3-ubyte.gz\n",
      "Extracting MNIST_data/t10k-labels-idx1-ubyte.gz\n"
     ]
    }
   ],
   "source": [
    "from tensorflow.examples.tutorials.mnist import input_data\n",
    "mnist = input_data.read_data_sets(\"MNIST_data/\", one_hot=True)\n"
   ]
  },
  {
   "cell_type": "code",
   "execution_count": 9,
   "metadata": {},
   "outputs": [],
   "source": [
    "'''def calc_U(shape, h, h_max): #dim_i, dim_j):\n",
    "    dim_i, dim_j = calc_dim(shape, h, h_max)\n",
    "    U = []\n",
    "    for i in range(dim_i):\n",
    "        for j in range(dim_j):\n",
    "            U += [(i, j)]\n",
    "    return U'''\n",
    "from waveimage import calc_U"
   ]
  },
  {
   "cell_type": "code",
   "execution_count": 10,
   "metadata": {},
   "outputs": [
    {
     "name": "stdout",
     "output_type": "stream",
     "text": [
      "[(0, 0), (0, 1), (0, 2), (0, 3), (0, 4), (0, 5), (0, 6), (0, 7), (0, 8), (0, 9), (0, 10), (0, 11), (0, 12), (0, 13), (0, 14), (0, 15), (1, 0), (1, 1), (1, 2), (1, 3), (1, 4), (1, 5), (1, 6), (1, 7), (1, 8), (1, 9), (1, 10), (1, 11), (1, 12), (1, 13), (1, 14), (1, 15), (2, 0), (2, 1), (2, 2), (2, 3), (2, 4), (2, 5), (2, 6), (2, 7), (2, 8), (2, 9), (2, 10), (2, 11), (2, 12), (2, 13), (2, 14), (2, 15), (3, 0), (3, 1), (3, 2), (3, 3), (3, 4), (3, 5), (3, 6), (3, 7), (3, 8), (3, 9), (3, 10), (3, 11), (3, 12), (3, 13), (3, 14), (3, 15), (4, 0), (4, 1), (4, 2), (4, 3), (4, 4), (4, 5), (4, 6), (4, 7), (4, 8), (4, 9), (4, 10), (4, 11), (4, 12), (4, 13), (4, 14), (4, 15), (5, 0), (5, 1), (5, 2), (5, 3), (5, 4), (5, 5), (5, 6), (5, 7), (5, 8), (5, 9), (5, 10), (5, 11), (5, 12), (5, 13), (5, 14), (5, 15), (6, 0), (6, 1), (6, 2), (6, 3), (6, 4), (6, 5), (6, 6), (6, 7), (6, 8), (6, 9), (6, 10), (6, 11), (6, 12), (6, 13), (6, 14), (6, 15), (7, 0), (7, 1), (7, 2), (7, 3), (7, 4), (7, 5), (7, 6), (7, 7), (7, 8), (7, 9), (7, 10), (7, 11), (7, 12), (7, 13), (7, 14), (7, 15), (8, 0), (8, 1), (8, 2), (8, 3), (8, 4), (8, 5), (8, 6), (8, 7), (8, 8), (8, 9), (8, 10), (8, 11), (8, 12), (8, 13), (8, 14), (8, 15), (9, 0), (9, 1), (9, 2), (9, 3), (9, 4), (9, 5), (9, 6), (9, 7), (9, 8), (9, 9), (9, 10), (9, 11), (9, 12), (9, 13), (9, 14), (9, 15), (10, 0), (10, 1), (10, 2), (10, 3), (10, 4), (10, 5), (10, 6), (10, 7), (10, 8), (10, 9), (10, 10), (10, 11), (10, 12), (10, 13), (10, 14), (10, 15), (11, 0), (11, 1), (11, 2), (11, 3), (11, 4), (11, 5), (11, 6), (11, 7), (11, 8), (11, 9), (11, 10), (11, 11), (11, 12), (11, 13), (11, 14), (11, 15), (12, 0), (12, 1), (12, 2), (12, 3), (12, 4), (12, 5), (12, 6), (12, 7), (12, 8), (12, 9), (12, 10), (12, 11), (12, 12), (12, 13), (12, 14), (12, 15), (13, 0), (13, 1), (13, 2), (13, 3), (13, 4), (13, 5), (13, 6), (13, 7), (13, 8), (13, 9), (13, 10), (13, 11), (13, 12), (13, 13), (13, 14), (13, 15), (14, 0), (14, 1), (14, 2), (14, 3), (14, 4), (14, 5), (14, 6), (14, 7), (14, 8), (14, 9), (14, 10), (14, 11), (14, 12), (14, 13), (14, 14), (14, 15), (15, 0), (15, 1), (15, 2), (15, 3), (15, 4), (15, 5), (15, 6), (15, 7), (15, 8), (15, 9), (15, 10), (15, 11), (15, 12), (15, 13), (15, 14), (15, 15)]\n",
      "256\n",
      "256\n"
     ]
    }
   ],
   "source": [
    "print calc_U((32,32), 5, 6)\n",
    "print len(calc_U((32,32), 5, 6))\n",
    "print 16 * 16"
   ]
  },
  {
   "cell_type": "code",
   "execution_count": 11,
   "metadata": {},
   "outputs": [],
   "source": [
    "x = mnist.train.images[0]\n",
    "image = mnist_reshape_32(x, i_offset = -10, j_offset = -10)\n",
    "waveImage = WaveImage(image = image)"
   ]
  },
  {
   "cell_type": "code",
   "execution_count": 12,
   "metadata": {},
   "outputs": [
    {
     "data": {
      "text/plain": [
       "<matplotlib.image.AxesImage at 0x7fc1b754bdd0>"
      ]
     },
     "execution_count": 12,
     "metadata": {},
     "output_type": "execute_result"
    },
    {
     "data": {
      "image/png": "[encoded data removed]",
      "text/plain": [
       "<matplotlib.figure.Figure at 0x7fc1b760ac50>"
      ]
     },
     "metadata": {},
     "output_type": "display_data"
    }
   ],
   "source": [
    "plt.imshow(x.reshape(28, 28), interpolation = 'nearest', cmap = 'gray_r')"
   ]
  },
  {
   "cell_type": "code",
   "execution_count": 13,
   "metadata": {},
   "outputs": [
    {
     "data": {
      "text/plain": [
       "<matplotlib.image.AxesImage at 0x7fc1b3be2350>"
      ]
     },
     "execution_count": 13,
     "metadata": {},
     "output_type": "execute_result"
    },
    {
     "data": {
      "image/png": "[encoded data removed]",
      "text/plain": [
       "<matplotlib.figure.Figure at 0x7fc1b3c65d90>"
      ]
     },
     "metadata": {},
     "output_type": "display_data"
    }
   ],
   "source": [
    "def mnist_reshape_32_buf(x):\n",
    "    assert x.shape == (28 * 28,)\n",
    "    image = x.reshape(28,28)\n",
    "    image = np.append(np.zeros((2,28)), image, axis = 0)\n",
    "    image = np.append(image, np.zeros((2,28)), axis = 0)\n",
    "    image = np.append(np.zeros((32,2)), image, axis = 1)\n",
    "    image = np.append(image, np.zeros((32,2)), axis = 1)\n",
    "    return image\n",
    "\n",
    "image = mnist_reshape_32_buf(mnist.train.images[0])\n",
    "\n",
    "plt.subplot(1,2,1)\n",
    "plt.imshow(image, interpolation = 'nearest', cmap = 'gray_r')\n",
    "plt.subplot(1,2,2)\n",
    "plt.imshow(waveImage.get_image(), interpolation = 'nearest', cmap = 'gray_r')"
   ]
  },
  {
   "cell_type": "code",
   "execution_count": 14,
   "metadata": {},
   "outputs": [
    {
     "data": {
      "text/plain": [
       "<matplotlib.image.AxesImage at 0x7fc1b39e86d0>"
      ]
     },
     "execution_count": 14,
     "metadata": {},
     "output_type": "execute_result"
    },
    {
     "data": {
      "image/png": "[encoded data removed]",
      "text/plain": [
       "<matplotlib.figure.Figure at 0x7fc1b3b66fd0>"
      ]
     },
     "metadata": {},
     "output_type": "display_data"
    }
   ],
   "source": [
    "w_test = WaveImage(image = mnist_reshape_32(mnist.train.images[0]))\n",
    "w_zero = WaveImage()\n",
    "w_copy = w_test.copy()\n",
    "        \n",
    "plt.figure(figsize=(12,8))\n",
    "plt.subplot(131)\n",
    "plt.imshow(w_test.get_image(), interpolation='nearest', cmap='gray_r')\n",
    "\n",
    "h_max = w_test.get_h_max()\n",
    "for u in w_test.get_data()[h_max - 1]:\n",
    "    w_copy.set_data(h_max - 1,u,np.zeros(3))\n",
    "    w_zero.set_data(h_max - 1,u,w_test.get_data()[h_max - 1][u])\n",
    "    \n",
    "plt.subplot(132)\n",
    "plt.imshow(w_copy.get_image(), interpolation='nearest', cmap='gray_r')\n",
    "\n",
    "    \n",
    "plt.subplot(133)\n",
    "plt.imshow(w_zero.get_image(), interpolation='nearest', cmap='gray')"
   ]
  },
  {
   "cell_type": "markdown",
   "metadata": {
    "collapsed": true
   },
   "source": [
    "## Creation de la base d'apprentissage"
   ]
  },
  {
   "cell_type": "code",
   "execution_count": 15,
   "metadata": {},
   "outputs": [
    {
     "data": {
      "text/plain": [
       "{0: {(0, 0): 2.8753678279463224},\n",
       " 1: {(0, 0): array([-2.87536783, -2.61041683,  2.61041683])},\n",
       " 2: {(0, 0): array([ 0.,  0.,  0.]),\n",
       "  (0, 1): array([ 0.,  0.,  0.]),\n",
       "  (1, 0): array([ 0.264951, -0.264951, -0.264951]),\n",
       "  (1, 1): array([-0.22941178, -1.34166674,  1.18921578])},\n",
       " 3: {(0, 0): array([ 0.,  0.,  0.]),\n",
       "  (0, 1): array([ 0.,  0.,  0.]),\n",
       "  (0, 2): array([ 0.,  0.,  0.]),\n",
       "  (0, 3): array([ 0.,  0.,  0.]),\n",
       "  (1, 0): array([ 0.,  0.,  0.]),\n",
       "  (1, 1): array([ 0.,  0.,  0.]),\n",
       "  (1, 2): array([ 0.,  0.,  0.]),\n",
       "  (1, 3): array([ 0.,  0.,  0.]),\n",
       "  (2, 0): array([ 0.,  0.,  0.]),\n",
       "  (2, 1): array([-0.52990199, -0.52990199,  0.52990199]),\n",
       "  (2, 2): array([-2.45686291,  0.07254903, -0.16764708]),\n",
       "  (2, 3): array([-2.35931386, -0.07990196,  0.42500002]),\n",
       "  (3, 0): array([ 0.,  0.,  0.]),\n",
       "  (3, 1): array([ 0.,  0.,  0.]),\n",
       "  (3, 2): array([-1.56764715, -0.81568632,  0.79117652]),\n",
       "  (3, 3): array([-0.42598043, -1.35245105, -0.77401965])},\n",
       " 4: {(0, 0): array([ 0.,  0.,  0.]),\n",
       "  (0, 1): array([ 0.,  0.,  0.]),\n",
       "  (0, 2): array([ 0.,  0.,  0.]),\n",
       "  (0, 3): array([ 0.,  0.,  0.]),\n",
       "  (0, 4): array([ 0.,  0.,  0.]),\n",
       "  (0, 5): array([ 0.,  0.,  0.]),\n",
       "  (0, 6): array([ 0.,  0.,  0.]),\n",
       "  (0, 7): array([ 0.,  0.,  0.]),\n",
       "  (1, 0): array([ 0.,  0.,  0.]),\n",
       "  (1, 1): array([ 0.,  0.,  0.]),\n",
       "  (1, 2): array([ 0.,  0.,  0.]),\n",
       "  (1, 3): array([ 0.,  0.,  0.]),\n",
       "  (1, 4): array([ 0.,  0.,  0.]),\n",
       "  (1, 5): array([ 0.,  0.,  0.]),\n",
       "  (1, 6): array([ 0.,  0.,  0.]),\n",
       "  (1, 7): array([ 0.,  0.,  0.]),\n",
       "  (2, 0): array([ 0.,  0.,  0.]),\n",
       "  (2, 1): array([ 0.,  0.,  0.]),\n",
       "  (2, 2): array([ 0.,  0.,  0.]),\n",
       "  (2, 3): array([ 0.,  0.,  0.]),\n",
       "  (2, 4): array([ 0.,  0.,  0.]),\n",
       "  (2, 5): array([ 0.,  0.,  0.]),\n",
       "  (2, 6): array([ 0.,  0.,  0.]),\n",
       "  (2, 7): array([ 0.,  0.,  0.]),\n",
       "  (3, 0): array([ 0.,  0.,  0.]),\n",
       "  (3, 1): array([ 0.,  0.,  0.]),\n",
       "  (3, 2): array([ 0.,  0.,  0.]),\n",
       "  (3, 3): array([ 0.,  0.,  0.]),\n",
       "  (3, 4): array([ 0.,  0.,  0.]),\n",
       "  (3, 5): array([ 0.,  0.,  0.]),\n",
       "  (3, 6): array([ 0.,  0.,  0.]),\n",
       "  (3, 7): array([ 0.,  0.,  0.]),\n",
       "  (4, 0): array([ 0.,  0.,  0.]),\n",
       "  (4, 1): array([ 0.,  0.,  0.]),\n",
       "  (4, 2): array([ 0.,  0.,  0.]),\n",
       "  (4, 3): array([ 0.,  0.,  0.]),\n",
       "  (4, 4): array([ 0.,  0.,  0.]),\n",
       "  (4, 5): array([-0.09509805, -0.09509805,  0.09509805]),\n",
       "  (4, 6): array([-0.34509806, -0.00588235,  0.00588235]),\n",
       "  (4, 7): array([ 0.,  0.,  0.]),\n",
       "  (5, 0): array([ 0.,  0.,  0.]),\n",
       "  (5, 1): array([ 0.,  0.,  0.]),\n",
       "  (5, 2): array([ 0.,  0.,  0.]),\n",
       "  (5, 3): array([-0.11666668, -1.05980398,  0.11666668]),\n",
       "  (5, 4): array([ 1.02058828, -0.07352942, -0.11666668]),\n",
       "  (5, 5): array([ 1.48235303,  0.19607845, -0.227451  ]),\n",
       "  (5, 6): array([ 1.66960794, -0.06568628,  0.06568628]),\n",
       "  (5, 7): array([-0.49803926,  0.46274514,  0.90980396]),\n",
       "  (6, 0): array([ 0.,  0.,  0.]),\n",
       "  (6, 1): array([ 0.,  0.,  0.]),\n",
       "  (6, 2): array([ 0.,  0.,  0.]),\n",
       "  (6, 3): array([ 0.,  0.,  0.]),\n",
       "  (6, 4): array([ 0.,  0.,  0.]),\n",
       "  (6, 5): array([-0.02450981, -0.02450981,  0.02450981]),\n",
       "  (6, 6): array([-0.78529418, -0.10882354,  0.10882354]),\n",
       "  (6, 7): array([-0.59019612, -1.07254909, -0.59019612]),\n",
       "  (7, 0): array([ 0.,  0.,  0.]),\n",
       "  (7, 1): array([ 0.,  0.,  0.]),\n",
       "  (7, 2): array([ 0.,  0.,  0.]),\n",
       "  (7, 3): array([ 0.,  0.,  0.]),\n",
       "  (7, 4): array([-0.70392161, -0.77647064,  0.70392161]),\n",
       "  (7, 5): array([ 0.27352943,  0.05196077, -0.71666671]),\n",
       "  (7, 6): array([ 1.75000012,  0.18137255, -0.05392158]),\n",
       "  (7, 7): array([ 0.6284314 , -1.19313734,  0.5539216 ])},\n",
       " 5: {(0, 0): array([ 0.,  0.,  0.]),\n",
       "  (0, 1): array([ 0.,  0.,  0.]),\n",
       "  (0, 2): array([ 0.,  0.,  0.]),\n",
       "  (0, 3): array([ 0.,  0.,  0.]),\n",
       "  (0, 4): array([ 0.,  0.,  0.]),\n",
       "  (0, 5): array([ 0.,  0.,  0.]),\n",
       "  (0, 6): array([ 0.,  0.,  0.]),\n",
       "  (0, 7): array([ 0.,  0.,  0.]),\n",
       "  (0, 8): array([ 0.,  0.,  0.]),\n",
       "  (0, 9): array([ 0.,  0.,  0.]),\n",
       "  (0, 10): array([ 0.,  0.,  0.]),\n",
       "  (0, 11): array([ 0.,  0.,  0.]),\n",
       "  (0, 12): array([ 0.,  0.,  0.]),\n",
       "  (0, 13): array([ 0.,  0.,  0.]),\n",
       "  (0, 14): array([ 0.,  0.,  0.]),\n",
       "  (0, 15): array([ 0.,  0.,  0.]),\n",
       "  (1, 0): array([ 0.,  0.,  0.]),\n",
       "  (1, 1): array([ 0.,  0.,  0.]),\n",
       "  (1, 2): array([ 0.,  0.,  0.]),\n",
       "  (1, 3): array([ 0.,  0.,  0.]),\n",
       "  (1, 4): array([ 0.,  0.,  0.]),\n",
       "  (1, 5): array([ 0.,  0.,  0.]),\n",
       "  (1, 6): array([ 0.,  0.,  0.]),\n",
       "  (1, 7): array([ 0.,  0.,  0.]),\n",
       "  (1, 8): array([ 0.,  0.,  0.]),\n",
       "  (1, 9): array([ 0.,  0.,  0.]),\n",
       "  (1, 10): array([ 0.,  0.,  0.]),\n",
       "  (1, 11): array([ 0.,  0.,  0.]),\n",
       "  (1, 12): array([ 0.,  0.,  0.]),\n",
       "  (1, 13): array([ 0.,  0.,  0.]),\n",
       "  (1, 14): array([ 0.,  0.,  0.]),\n",
       "  (1, 15): array([ 0.,  0.,  0.]),\n",
       "  (2, 0): array([ 0.,  0.,  0.]),\n",
       "  (2, 1): array([ 0.,  0.,  0.]),\n",
       "  (2, 2): array([ 0.,  0.,  0.]),\n",
       "  (2, 3): array([ 0.,  0.,  0.]),\n",
       "  (2, 4): array([ 0.,  0.,  0.]),\n",
       "  (2, 5): array([ 0.,  0.,  0.]),\n",
       "  (2, 6): array([ 0.,  0.,  0.]),\n",
       "  (2, 7): array([ 0.,  0.,  0.]),\n",
       "  (2, 8): array([ 0.,  0.,  0.]),\n",
       "  (2, 9): array([ 0.,  0.,  0.]),\n",
       "  (2, 10): array([ 0.,  0.,  0.]),\n",
       "  (2, 11): array([ 0.,  0.,  0.]),\n",
       "  (2, 12): array([ 0.,  0.,  0.]),\n",
       "  (2, 13): array([ 0.,  0.,  0.]),\n",
       "  (2, 14): array([ 0.,  0.,  0.]),\n",
       "  (2, 15): array([ 0.,  0.,  0.]),\n",
       "  (3, 0): array([ 0.,  0.,  0.]),\n",
       "  (3, 1): array([ 0.,  0.,  0.]),\n",
       "  (3, 2): array([ 0.,  0.,  0.]),\n",
       "  (3, 3): array([ 0.,  0.,  0.]),\n",
       "  (3, 4): array([ 0.,  0.,  0.]),\n",
       "  (3, 5): array([ 0.,  0.,  0.]),\n",
       "  (3, 6): array([ 0.,  0.,  0.]),\n",
       "  (3, 7): array([ 0.,  0.,  0.]),\n",
       "  (3, 8): array([ 0.,  0.,  0.]),\n",
       "  (3, 9): array([ 0.,  0.,  0.]),\n",
       "  (3, 10): array([ 0.,  0.,  0.]),\n",
       "  (3, 11): array([ 0.,  0.,  0.]),\n",
       "  (3, 12): array([ 0.,  0.,  0.]),\n",
       "  (3, 13): array([ 0.,  0.,  0.]),\n",
       "  (3, 14): array([ 0.,  0.,  0.]),\n",
       "  (3, 15): array([ 0.,  0.,  0.]),\n",
       "  (4, 0): array([ 0.,  0.,  0.]),\n",
       "  (4, 1): array([ 0.,  0.,  0.]),\n",
       "  (4, 2): array([ 0.,  0.,  0.]),\n",
       "  (4, 3): array([ 0.,  0.,  0.]),\n",
       "  (4, 4): array([ 0.,  0.,  0.]),\n",
       "  (4, 5): array([ 0.,  0.,  0.]),\n",
       "  (4, 6): array([ 0.,  0.,  0.]),\n",
       "  (4, 7): array([ 0.,  0.,  0.]),\n",
       "  (4, 8): array([ 0.,  0.,  0.]),\n",
       "  (4, 9): array([ 0.,  0.,  0.]),\n",
       "  (4, 10): array([ 0.,  0.,  0.]),\n",
       "  (4, 11): array([ 0.,  0.,  0.]),\n",
       "  (4, 12): array([ 0.,  0.,  0.]),\n",
       "  (4, 13): array([ 0.,  0.,  0.]),\n",
       "  (4, 14): array([ 0.,  0.,  0.]),\n",
       "  (4, 15): array([ 0.,  0.,  0.]),\n",
       "  (5, 0): array([ 0.,  0.,  0.]),\n",
       "  (5, 1): array([ 0.,  0.,  0.]),\n",
       "  (5, 2): array([ 0.,  0.,  0.]),\n",
       "  (5, 3): array([ 0.,  0.,  0.]),\n",
       "  (5, 4): array([ 0.,  0.,  0.]),\n",
       "  (5, 5): array([ 0.,  0.,  0.]),\n",
       "  (5, 6): array([ 0.,  0.,  0.]),\n",
       "  (5, 7): array([ 0.,  0.,  0.]),\n",
       "  (5, 8): array([ 0.,  0.,  0.]),\n",
       "  (5, 9): array([ 0.,  0.,  0.]),\n",
       "  (5, 10): array([ 0.,  0.,  0.]),\n",
       "  (5, 11): array([ 0.,  0.,  0.]),\n",
       "  (5, 12): array([ 0.,  0.,  0.]),\n",
       "  (5, 13): array([ 0.,  0.,  0.]),\n",
       "  (5, 14): array([ 0.,  0.,  0.]),\n",
       "  (5, 15): array([ 0.,  0.,  0.]),\n",
       "  (6, 0): array([ 0.,  0.,  0.]),\n",
       "  (6, 1): array([ 0.,  0.,  0.]),\n",
       "  (6, 2): array([ 0.,  0.,  0.]),\n",
       "  (6, 3): array([ 0.,  0.,  0.]),\n",
       "  (6, 4): array([ 0.,  0.,  0.]),\n",
       "  (6, 5): array([ 0.,  0.,  0.]),\n",
       "  (6, 6): array([ 0.,  0.,  0.]),\n",
       "  (6, 7): array([ 0.,  0.,  0.]),\n",
       "  (6, 8): array([ 0.,  0.,  0.]),\n",
       "  (6, 9): array([ 0.,  0.,  0.]),\n",
       "  (6, 10): array([ 0.,  0.,  0.]),\n",
       "  (6, 11): array([ 0.,  0.,  0.]),\n",
       "  (6, 12): array([ 0.,  0.,  0.]),\n",
       "  (6, 13): array([ 0.,  0.,  0.]),\n",
       "  (6, 14): array([ 0.,  0.,  0.]),\n",
       "  (6, 15): array([ 0.,  0.,  0.]),\n",
       "  (7, 0): array([ 0.,  0.,  0.]),\n",
       "  (7, 1): array([ 0.,  0.,  0.]),\n",
       "  (7, 2): array([ 0.,  0.,  0.]),\n",
       "  (7, 3): array([ 0.,  0.,  0.]),\n",
       "  (7, 4): array([ 0.,  0.,  0.]),\n",
       "  (7, 5): array([ 0.,  0.,  0.]),\n",
       "  (7, 6): array([ 0.,  0.,  0.]),\n",
       "  (7, 7): array([ 0.,  0.,  0.]),\n",
       "  (7, 8): array([ 0.,  0.,  0.]),\n",
       "  (7, 9): array([ 0.,  0.,  0.]),\n",
       "  (7, 10): array([ 0.,  0.,  0.]),\n",
       "  (7, 11): array([ 0.,  0.,  0.]),\n",
       "  (7, 12): array([ 0.,  0.,  0.]),\n",
       "  (7, 13): array([ 0.,  0.,  0.]),\n",
       "  (7, 14): array([ 0.,  0.,  0.]),\n",
       "  (7, 15): array([ 0.,  0.,  0.]),\n",
       "  (8, 0): array([ 0.,  0.,  0.]),\n",
       "  (8, 1): array([ 0.,  0.,  0.]),\n",
       "  (8, 2): array([ 0.,  0.,  0.]),\n",
       "  (8, 3): array([ 0.,  0.,  0.]),\n",
       "  (8, 4): array([ 0.,  0.,  0.]),\n",
       "  (8, 5): array([ 0.,  0.,  0.]),\n",
       "  (8, 6): array([ 0.,  0.,  0.]),\n",
       "  (8, 7): array([ 0.,  0.,  0.]),\n",
       "  (8, 8): array([ 0.,  0.,  0.]),\n",
       "  (8, 9): array([ 0.,  0.,  0.]),\n",
       "  (8, 10): array([ 0.,  0.,  0.]),\n",
       "  (8, 11): array([ 0.,  0.,  0.]),\n",
       "  (8, 12): array([ 0.,  0.,  0.]),\n",
       "  (8, 13): array([ 0.,  0.,  0.]),\n",
       "  (8, 14): array([ 0.,  0.,  0.]),\n",
       "  (8, 15): array([ 0.,  0.,  0.]),\n",
       "  (9, 0): array([ 0.,  0.,  0.]),\n",
       "  (9, 1): array([ 0.,  0.,  0.]),\n",
       "  (9, 2): array([ 0.,  0.,  0.]),\n",
       "  (9, 3): array([ 0.,  0.,  0.]),\n",
       "  (9, 4): array([ 0.,  0.,  0.]),\n",
       "  (9, 5): array([ 0.,  0.,  0.]),\n",
       "  (9, 6): array([ 0.,  0.,  0.]),\n",
       "  (9, 7): array([ 0.,  0.,  0.]),\n",
       "  (9, 8): array([ 0.,  0.,  0.]),\n",
       "  (9, 9): array([ 0.,  0.,  0.]),\n",
       "  (9, 10): array([ 0.,  0.,  0.]),\n",
       "  (9, 11): array([-0.1901961, -0.1901961,  0.1901961]),\n",
       "  (9, 12): array([-0.33921571,  0.03725491, -0.03725491]),\n",
       "  (9, 13): array([-0.35098042,  0.11176471, -0.11176471]),\n",
       "  (9, 14): array([ 0.,  0.,  0.]),\n",
       "  (9, 15): array([ 0.,  0.,  0.]),\n",
       "  (10, 0): array([ 0.,  0.,  0.]),\n",
       "  (10, 1): array([ 0.,  0.,  0.]),\n",
       "  (10, 2): array([ 0.,  0.,  0.]),\n",
       "  (10, 3): array([ 0.,  0.,  0.]),\n",
       "  (10, 4): array([ 0.,  0.,  0.]),\n",
       "  (10, 5): array([ 0.,  0.,  0.]),\n",
       "  (10, 6): array([ 0.,  0.,  0.]),\n",
       "  (10, 7): array([-0.59019612, -0.39411767,  0.04117648]),\n",
       "  (10, 8): array([-0.2647059, -0.1901961, -0.1901961]),\n",
       "  (10, 9): array([-0.0745098,  0.       ,  0.       ]),\n",
       "  (10, 10): array([-0.0745098,  0.       ,  0.       ]),\n",
       "  (10, 11): array([-0.04313725, -0.03137255, -0.03137255]),\n",
       "  (10, 12): array([-0.01764706,  0.00588235,  0.00588235]),\n",
       "  (10, 13): array([-0.01764706,  0.01764706,  0.01764706]),\n",
       "  (10, 14): array([-0.16274512,  0.08823532,  0.08823532]),\n",
       "  (10, 15): array([-0.37450981,  0.36666667, -0.28431373]),\n",
       "  (11, 0): array([ 0.,  0.,  0.]),\n",
       "  (11, 1): array([ 0.,  0.,  0.]),\n",
       "  (11, 2): array([ 0.,  0.,  0.]),\n",
       "  (11, 3): array([ 0.,  0.,  0.]),\n",
       "  (11, 4): array([ 0.,  0.,  0.]),\n",
       "  (11, 5): array([ 0.,  0.,  0.]),\n",
       "  (11, 6): array([ 0.,  0.,  0.]),\n",
       "  (11, 7): array([ 0.70588241, -0.14117647,  0.03137255]),\n",
       "  (11, 8): array([ 0.77254909,  0.04313726, -0.00784314]),\n",
       "  (11, 9): array([ 0.78039223,  0.        ,  0.        ]),\n",
       "  (11, 10): array([ 0.66274515,  0.11764708,  0.11764708]),\n",
       "  (11, 11): array([ 0.2392157,  0.       ,  0.       ]),\n",
       "  (11, 12): array([ 0.2392157,  0.       ,  0.       ]),\n",
       "  (11, 13): array([ 0.37058826, -0.13137256, -0.13137256]),\n",
       "  (11, 14): array([ 0.44901963, -0.41372552,  0.28823533]),\n",
       "  (11, 15): array([-0.127451,  0.127451,  0.127451]),\n",
       "  (12, 0): array([ 0.,  0.,  0.]),\n",
       "  (12, 1): array([ 0.,  0.,  0.]),\n",
       "  (12, 2): array([ 0.,  0.,  0.]),\n",
       "  (12, 3): array([ 0.,  0.,  0.]),\n",
       "  (12, 4): array([ 0.,  0.,  0.]),\n",
       "  (12, 5): array([ 0.,  0.,  0.]),\n",
       "  (12, 6): array([ 0.,  0.,  0.]),\n",
       "  (12, 7): array([ 0.,  0.,  0.]),\n",
       "  (12, 8): array([ 0.,  0.,  0.]),\n",
       "  (12, 9): array([ 0.,  0.,  0.]),\n",
       "  (12, 10): array([ 0.,  0.,  0.]),\n",
       "  (12, 11): array([ 0.,  0.,  0.]),\n",
       "  (12, 12): array([ 0.,  0.,  0.]),\n",
       "  (12, 13): array([ 0.,  0.,  0.]),\n",
       "  (12, 14): array([ 0.        , -0.32941177,  0.        ]),\n",
       "  (12, 15): array([ 0.,  0.,  0.]),\n",
       "  (13, 0): array([ 0.,  0.,  0.]),\n",
       "  (13, 1): array([ 0.,  0.,  0.]),\n",
       "  (13, 2): array([ 0.,  0.,  0.]),\n",
       "  (13, 3): array([ 0.,  0.,  0.]),\n",
       "  (13, 4): array([ 0.,  0.,  0.]),\n",
       "  (13, 5): array([ 0.,  0.,  0.]),\n",
       "  (13, 6): array([ 0.,  0.,  0.]),\n",
       "  (13, 7): array([ 0.,  0.,  0.]),\n",
       "  (13, 8): array([ 0.,  0.,  0.]),\n",
       "  (13, 9): array([ 0.,  0.,  0.]),\n",
       "  (13, 10): array([ 0.,  0.,  0.]),\n",
       "  (13, 11): array([-0.04901961, -0.04901961,  0.04901961]),\n",
       "  (13, 12): array([-0.67647064, -0.21764708,  0.21764708]),\n",
       "  (13, 13): array([-0.89411771,  0.        ,  0.        ]),\n",
       "  (13, 14): array([-0.4784314 , -0.10196078, -0.09803921]),\n",
       "  (13, 15): array([ 0.,  0.,  0.]),\n",
       "  (14, 0): array([ 0.,  0.,  0.]),\n",
       "  (14, 1): array([ 0.,  0.,  0.]),\n",
       "  (14, 2): array([ 0.,  0.,  0.]),\n",
       "  (14, 3): array([ 0.,  0.,  0.]),\n",
       "  (14, 4): array([ 0.,  0.,  0.]),\n",
       "  (14, 5): array([ 0.,  0.,  0.]),\n",
       "  (14, 6): array([ 0.,  0.,  0.]),\n",
       "  (14, 7): array([ 0.,  0.,  0.]),\n",
       "  (14, 8): array([ 0.,  0.,  0.]),\n",
       "  (14, 9): array([-0.07254902, -0.07254902,  0.07254902]),\n",
       "  (14, 10): array([-0.7294118 , -0.26274513, -0.00392155]),\n",
       "  (14, 11): array([-0.33137256, -0.19803923, -0.19803923]),\n",
       "  (14, 12): array([ 0.06078431,  0.06078431, -0.06078431]),\n",
       "  (14, 13): array([ 0.18823528,  0.        ,  0.        ]),\n",
       "  (14, 14): array([ 0.71568632,  0.01372549, -0.01372549]),\n",
       "  (14, 15): array([ 0.07647058, -0.07647058,  0.07647058]),\n",
       "  (15, 0): array([ 0.,  0.,  0.]),\n",
       "  (15, 1): array([ 0.,  0.,  0.]),\n",
       "  (15, 2): array([ 0.,  0.,  0.]),\n",
       "  (15, 3): array([ 0.,  0.,  0.]),\n",
       "  (15, 4): array([ 0.,  0.,  0.]),\n",
       "  (15, 5): array([ 0.,  0.,  0.]),\n",
       "  (15, 6): array([ 0.,  0.,  0.]),\n",
       "  (15, 7): array([ 0.,  0.,  0.]),\n",
       "  (15, 8): array([ 0.,  0.,  0.]),\n",
       "  (15, 9): array([-0.17843136, -0.37450984, -0.04117647]),\n",
       "  (15, 10): array([ 0.5058824 ,  0.24705882, -0.2       ]),\n",
       "  (15, 11): array([ 0.67058828,  0.21960786,  0.21960786]),\n",
       "  (15, 12): array([ 0.23529413,  0.11372549,  0.11372549]),\n",
       "  (15, 13): array([ 0.,  0.,  0.]),\n",
       "  (15, 14): array([-0.09411766, -0.09411766,  0.09411766]),\n",
       "  (15, 15): array([-0.06078431, -0.15098038, -0.06078431])}}"
      ]
     },
     "execution_count": 15,
     "metadata": {},
     "output_type": "execute_result"
    }
   ],
   "source": [
    "waveImage.get_data()"
   ]
  },
  {
   "cell_type": "code",
   "execution_count": 16,
   "metadata": {},
   "outputs": [],
   "source": [
    "def wave_tensor_flat(batch_x):\n",
    "    batch_size, _ = batch_x.shape\n",
    "    wave_tensor = np.zeros((batch_size, (16 * 16 + 8 * 8 + 4 * 4 + 2 * 2 + 1) * 3 + 1))\n",
    "    for num_batch in range(batch_size):\n",
    "        image = mnist_reshape_32(batch_x[num_batch])\n",
    "        w = WaveImage(image = image)\n",
    "        for h in range(w.get_h_max()):\n",
    "            data_h = w.get_data()[h]\n",
    "            if h == 0:\n",
    "                wave_tensor[num_batch][0] = data_h[(0,0)]\n",
    "                i_ref = 1\n",
    "            else:\n",
    "                for u in data_h:\n",
    "                    wave_tensor[num_batch][i_ref:i_ref + 3] = data_h[u]\n",
    "                    i_ref += 3\n",
    "    return wave_tensor"
   ]
  },
  {
   "cell_type": "markdown",
   "metadata": {
    "collapsed": true
   },
   "source": [
    "# Construction du réseau"
   ]
  },
  {
   "cell_type": "code",
   "execution_count": 17,
   "metadata": {},
   "outputs": [],
   "source": [
    "class Obj:\n",
    "    pass"
   ]
  },
  {
   "cell_type": "code",
   "execution_count": 18,
   "metadata": {},
   "outputs": [],
   "source": [
    "params = Obj()\n",
    "params.batch_size = 100"
   ]
  },
  {
   "cell_type": "code",
   "execution_count": 20,
   "metadata": {},
   "outputs": [],
   "source": [
    "batch = mnist.train.next_batch(params.batch_size)\n",
    "wave_tensor = wave_tensor_flat(batch[0])"
   ]
  },
  {
   "cell_type": "code",
   "execution_count": 23,
   "metadata": {
    "scrolled": false
   },
   "outputs": [
    {
     "data": {
      "image/png": "[encoded data removed]",
      "text/plain": [
       "<matplotlib.figure.Figure at 0x7fc1b02337d0>"
      ]
     },
     "metadata": {},
     "output_type": "display_data"
    }
   ],
   "source": [
    "_ = plt.plot(wave_tensor.T)"
   ]
  },
  {
   "cell_type": "markdown",
   "metadata": {},
   "source": [
    "Construction \n",
    "+ 5 couches convolutionnelles : 16 x 16 --> 8 x 8 ; 8 x 8 --> 4 x 4 etc\n",
    "+ 1 couche FC"
   ]
  },
  {
   "cell_type": "code",
   "execution_count": 24,
   "metadata": {},
   "outputs": [],
   "source": [
    "DEPTH_WAV = 3\n",
    "DIM_WAV = (16 * 16 + 8 * 8 + 4 * 4 + 2 * 2 + 1) * 3 + 1\n",
    "DIM_HIDDEN = 512\n",
    "NB_LABEL = 10\n",
    "STD = 1."
   ]
  },
  {
   "cell_type": "code",
   "execution_count": 25,
   "metadata": {},
   "outputs": [
    {
     "data": {
      "text/plain": [
       "1024"
      ]
     },
     "execution_count": 25,
     "metadata": {},
     "output_type": "execute_result"
    }
   ],
   "source": [
    "(16 * 16 + 8 * 8 + 4 * 4 + 2 * 2 + 1) * 3 + 1"
   ]
  },
  {
   "cell_type": "code",
   "execution_count": 26,
   "metadata": {},
   "outputs": [],
   "source": [
    "def weight_variable(shape, stddev = 0.1, name = \"dummy\"):\n",
    "    #initial = tf.truncated_normal(shape, stddev=0.1)\n",
    "    initial = tf.random_normal(shape, stddev)\n",
    "    #initial = tf.zeros(shape)\n",
    "    return tf.Variable(initial, name = name)"
   ]
  },
  {
   "cell_type": "markdown",
   "metadata": {},
   "source": [
    "### placeholders"
   ]
  },
  {
   "cell_type": "code",
   "execution_count": 27,
   "metadata": {},
   "outputs": [],
   "source": [
    "x = tf.placeholder(tf.float32, shape=[None, DIM_WAV])\n",
    "y = tf.placeholder(tf.float32, shape=[None, 10])\n",
    "#keep_prob = tf.placeholder(tf.float32)\n",
    "#batch_phase = tf.placeholder(tf.bool, name='bn_phase')"
   ]
  },
  {
   "cell_type": "markdown",
   "metadata": {},
   "source": [
    "### Layers"
   ]
  },
  {
   "cell_type": "code",
   "execution_count": 28,
   "metadata": {},
   "outputs": [],
   "source": [
    "# Paramètres\n",
    "W_input_hidden1 = weight_variable([DIM_WAV, DIM_HIDDEN], \\\n",
    "                            stddev = STD / DIM_WAV, \\\n",
    "                            name = \"W_input_hidden1\")\n",
    "# Graph construction\n",
    "h_hidden1 = tf.matmul(x, W_input_hidden1, name = 'h_hidden1')\n",
    "z_hidden1 = tf.nn.relu(h_hidden1)\n",
    "\n",
    "# Paramètres\n",
    "W_hidden1_hidden2 = weight_variable([DIM_HIDDEN, DIM_HIDDEN], \\\n",
    "                            stddev = STD / DIM_HIDDEN, \\\n",
    "                            name = \"W_hidden1_hidden2\")\n",
    "# Graph construction\n",
    "h_hidden2 = tf.matmul(z_hidden1, W_hidden1_hidden2, name = 'h_hidden2')\n",
    "z_hidden2 = tf.nn.relu(h_hidden2)\n",
    "\n",
    "# Paramètres\n",
    "W_hidden2_out = weight_variable([DIM_HIDDEN, NB_LABEL], \\\n",
    "                            stddev = STD / DIM_HIDDEN, \\\n",
    "                            name = \"W_hidden2_out\")\n",
    "# Graph construction\n",
    "h_out = tf.matmul(z_hidden2, W_hidden2_out, name = 'h_out')"
   ]
  },
  {
   "cell_type": "markdown",
   "metadata": {},
   "source": [
    "### Loss graph¶"
   ]
  },
  {
   "cell_type": "code",
   "execution_count": 29,
   "metadata": {},
   "outputs": [],
   "source": [
    "classif_loss = tf.reduce_mean(tf.nn.softmax_cross_entropy_with_logits(labels=y, logits=h_out))"
   ]
  },
  {
   "cell_type": "markdown",
   "metadata": {},
   "source": [
    "### Train graph¶"
   ]
  },
  {
   "cell_type": "code",
   "execution_count": 30,
   "metadata": {},
   "outputs": [],
   "source": [
    "train = tf.train.AdamOptimizer(1e-3).minimize(classif_loss)"
   ]
  },
  {
   "cell_type": "markdown",
   "metadata": {},
   "source": [
    "### Evaluation graph"
   ]
  },
  {
   "cell_type": "code",
   "execution_count": 31,
   "metadata": {},
   "outputs": [],
   "source": [
    "correct_prediction = tf.equal(tf.argmax(h_out, 1), tf.argmax(y, 1))\n",
    "accuracy = tf.reduce_mean(tf.cast(correct_prediction, tf.float32))"
   ]
  },
  {
   "cell_type": "markdown",
   "metadata": {},
   "source": [
    "### Training session"
   ]
  },
  {
   "cell_type": "code",
   "execution_count": 32,
   "metadata": {},
   "outputs": [],
   "source": [
    "sess = tf.InteractiveSession()\n",
    "sess.run(tf.global_variables_initializer())\n",
    "saver = tf.train.Saver()"
   ]
  },
  {
   "cell_type": "code",
   "execution_count": 33,
   "metadata": {},
   "outputs": [],
   "source": [
    "mem = Obj()\n",
    "mem.num_epoch = []\n",
    "mem.classif_eval = []\n",
    "params.n_epochs = 100000"
   ]
  },
  {
   "cell_type": "code",
   "execution_count": null,
   "metadata": {},
   "outputs": [
    {
     "name": "stdout",
     "output_type": "stream",
     "text": [
      "step 2780\t classif : 0.98000"
     ]
    }
   ],
   "source": [
    "for num_epoch in range (params.n_epochs):\n",
    "    if num_epoch % 10 == 0:\n",
    "        mem.num_epoch += [num_epoch]\n",
    "        x_test, y_test = mnist.test.next_batch(params.batch_size)\n",
    "        wave_tensor = wave_tensor_flat(x_test)\n",
    "        classif_eval = accuracy.eval(feed_dict={x: wave_tensor,\\\n",
    "                                                y: y_test})\n",
    "                                                #keep_prob: 1,\\\n",
    "                                                #batch_phase:False})\n",
    "        mem.classif_eval += [classif_eval]\n",
    "        sys.stdout.write('\\rstep %d\\t classif : %.5f' \\\n",
    "                         % (num_epoch, \\\n",
    "                            classif_eval))\n",
    "    batch_x, batch_y = mnist.train.next_batch(params.batch_size) \n",
    "    wave_tensor = wave_tensor_flat(batch_x)\n",
    "    train.run(feed_dict={x: wave_tensor,\\\n",
    "                          y: batch_y})\n",
    "                          #keep_prob: 0.5,\\\n",
    "                          #batch_phase:True})"
   ]
  },
  {
   "cell_type": "code",
   "execution_count": 45,
   "metadata": {},
   "outputs": [
    {
     "data": {
      "text/plain": [
       "[<matplotlib.lines.Line2D at 0x7fc1b28159d0>]"
      ]
     },
     "execution_count": 45,
     "metadata": {},
     "output_type": "execute_result"
    },
    {
     "data": {
      "image/png": "[encoded data removed]",
      "text/plain": [
       "<matplotlib.figure.Figure at 0x7fc1b29dacd0>"
      ]
     },
     "metadata": {},
     "output_type": "display_data"
    }
   ],
   "source": [
    "plt.plot(mem.classif_eval)"
   ]
  },
  {
   "cell_type": "code",
   "execution_count": null,
   "metadata": {
    "scrolled": true
   },
   "outputs": [],
   "source": [
    "plt.plot(mem.classif_eval)"
   ]
  },
  {
   "cell_type": "code",
   "execution_count": 48,
   "metadata": {},
   "outputs": [
    {
     "name": "stdout",
     "output_type": "stream",
     "text": [
      "\r",
      "step 3220\t classif : 0.96870"
     ]
    }
   ],
   "source": [
    "x_test, y_test = mnist.test.images, mnist.test.labels\n",
    "wave_tensor = wave_tensor_flat(x_test)\n",
    "classif_eval = accuracy.eval(feed_dict={x: wave_tensor,\\\n",
    "                                        y: y_test})\n",
    "sys.stdout.write('\\rstep %d\\t classif : %.5f' \\\n",
    "                 % (num_epoch, \\\n",
    "                    classif_eval))"
   ]
  },
  {
   "cell_type": "code",
   "execution_count": null,
   "metadata": {},
   "outputs": [],
   "source": [
    "#saver.save(sess, \"./mnist-waveimage-CNN-pool-bn-256.ckpt\")"
   ]
  },
  {
   "cell_type": "code",
   "execution_count": null,
   "metadata": {},
   "outputs": [],
   "source": [
    "x_test, y_test = mnist.test.next_batch(params.batch_size)\n",
    "y_test"
   ]
  },
  {
   "cell_type": "markdown",
   "metadata": {},
   "source": [
    "### Reconstruction\n"
   ]
  },
  {
   "cell_type": "code",
   "execution_count": null,
   "metadata": {},
   "outputs": [],
   "source": []
  },
  {
   "cell_type": "code",
   "execution_count": null,
   "metadata": {
    "scrolled": true
   },
   "outputs": [],
   "source": [
    "avg_image = {}\n",
    "for c in range(10):\n",
    "    w = WaveImage()\n",
    "    for h in range(6):\n",
    "        for u in calc_U((32, 32), h, 6):\n",
    "            w.set_data( h, u, mu[c][h][u] * (1 - rho[c][h][u]))\n",
    "    avg_image[c] = w.get_image()\n",
    "    plt.figure(figsize=(12,8))\n",
    "    plt.subplot(131)\n",
    "    plt.imshow(w.get_image(), interpolation='nearest', cmap='gray_r')\n",
    "\n"
   ]
  },
  {
   "cell_type": "markdown",
   "metadata": {
    "collapsed": true
   },
   "source": [
    "### Test distribution"
   ]
  },
  {
   "cell_type": "code",
   "execution_count": null,
   "metadata": {
    "scrolled": true
   },
   "outputs": [],
   "source": [
    "fig = plt.figure(figsize = (12,12))\n",
    "ax = fig.add_subplot(111, projection='3d')\n",
    "\n",
    "c = 8\n",
    "h = 3\n",
    "u = (2,2)\n",
    "\n",
    "n = 200\n",
    "\n",
    "test2 = np.random.multivariate_normal(mu[c][h][u], Sigma[c][h][u] , n)\n",
    "#test2 = np.random.multivariate_normal(mu[(c,h,u)], Sig_test * 0 , n)\n",
    "#test2 = np.random.multivariate_normal(-mu[(c,h,u)], np.eye(3,3), n)\n",
    "ax.scatter(test2[:,0], test2[:,1], test2[:,2],c='b', marker = '^')\n",
    "\n",
    "#test3 = np.random.multivariate_normal(-mu[(c,h,u)], np.eye(3,3), n)\n",
    "#ax.scatter(test3[:,0], test3[:,1], test3[:,2],c='g', marker = 'd')\n",
    "\n",
    "index = np.arange(len(Data_train[c][h][u]))\n",
    "np.random.shuffle(index)\n",
    "test = np.array(Data_train[c][h][u])\n",
    "ax.scatter(test[index[:n],0], test[index[:n],1], test[index[:n],2],c='r', marker = 'o')\n",
    "\n",
    "v = Data_test[c][h][u][0]\n",
    "ax.scatter(v[0], v[1], v[2],c='g', marker = 's')\n",
    "\n",
    "ax.view_init(20, -30)"
   ]
  },
  {
   "cell_type": "markdown",
   "metadata": {},
   "source": [
    "## Baseline recognition rate"
   ]
  },
  {
   "cell_type": "code",
   "execution_count": null,
   "metadata": {},
   "outputs": [],
   "source": [
    "NB_CLASSES = 10\n",
    "NB_TRIALS = 100"
   ]
  },
  {
   "cell_type": "code",
   "execution_count": null,
   "metadata": {
    "scrolled": true
   },
   "outputs": [],
   "source": [
    "\n",
    "c_ref = 9\n",
    "#h = 0\n",
    "#u = (0,0)\n",
    "mem_c_out = []\n",
    "mem_classif = []\n",
    "for c_ref in range(NB_CLASSES):\n",
    "    for i in range(NB_TRIALS):\n",
    "        pi = np.ones(10) / 10\n",
    "        log_score = np.zeros(10)\n",
    "        mem_pi = [pi]\n",
    "        for h in range(6):\n",
    "            #print '*************************'\n",
    "            #print '*********' , 'h = ' , h , '************'\n",
    "            #print '*************************'\n",
    "            for u in calc_U((32, 32), h, 6):\n",
    "                #print U[h]\n",
    "                #u = (u_ref[1],u_ref[2])\n",
    "                lik = np.zeros(10)\n",
    "                for c in range(10):\n",
    "                    v = Data_test[c_ref][h][u][i]\n",
    "                    if np.linalg.norm(v) < 1e-16:\n",
    "                        lik[c] = rho[c][h][u]\n",
    "                    else:\n",
    "                        if np.linalg.norm(mu[c][h][u]) > 1e-16:\n",
    "                            dist = multivariate_normal(mean = mu[c][h][u], cov = Sigma[c][h][u])\n",
    "                            #print 'mean =', mu[c][h][u]\n",
    "                            #print 'cov =', Sigma[c][h][u]\n",
    "                            lik[c] = (1-rho[c][h][u]) * dist.pdf(v)\n",
    "                        else:\n",
    "                            lik[c] = 0\n",
    "                    lik[c] = max(lik[c],1e-16)\n",
    "                #print 'lik =' + str(lik) \n",
    "                log_score += np.log(lik) \n",
    "                max_log_score = max(log_score)\n",
    "                #print 'log_score', log_score\n",
    "                #print 'max(log_score) :', max_log_score\n",
    "                log_score -= max_log_score\n",
    "                Z = np.sum(np.exp(log_score))\n",
    "                pi = np.exp(log_score)/Z\n",
    "                mem_pi += [pi]\n",
    "                #for c in range(10):\n",
    "                #    pi[c] = lik[c]/lik.sum()\n",
    "                #print 'pi =' + str(pi)\n",
    "                #print 'max(pi) = ',max(pi)\n",
    "                sum_H = - pi * np.log(lik)\n",
    "                #print np.log(lik)\n",
    "                #print '****', 'c :', c_ref, ', h :', h, ', u :',u, ' ---> ', np.where(pi == max(pi))[0][0]\n",
    "                #print '**** H = ',sum_H.sum()\n",
    "        c_out =  np.where(pi == max(pi))[0][0]\n",
    "        mem_c_out += [c_out]\n",
    "        #print i, c_out\n",
    "        sys.stdout.write('\\rclasse %d, step %d, \\t  rep : %d' % (c_ref, i, c_out)) \n",
    "        sys.stdout.flush()\n",
    "        mem_classif += [c_out == c_ref]\n",
    "    "
   ]
  },
  {
   "cell_type": "code",
   "execution_count": null,
   "metadata": {},
   "outputs": [],
   "source": [
    "np.where(np.array(mem_classif)==True,1,0).sum()/ (NB_CLASSES * NB_TRIALS / 100.0)"
   ]
  },
  {
   "cell_type": "markdown",
   "metadata": {},
   "source": [
    "#### Liste des coordonnées par niveau : U[h], h $\\in$ 0..5"
   ]
  },
  {
   "cell_type": "code",
   "execution_count": null,
   "metadata": {
    "scrolled": true
   },
   "outputs": [],
   "source": [
    "axes = []\n",
    "h_max = 6\n",
    "shape = (32,32)\n",
    "\n",
    "'''for h in range(h_max):\n",
    "    h_opp = 5 - h\n",
    "    b_moins = -.5\n",
    "    b_plus = 27.5\n",
    "    intervalle = b_plus - b_moins\n",
    "    coord_max = int(26.5 / 2**h_opp) + 1\n",
    "    unite = max(intervalle / coord_max, 2**h_opp)\n",
    "    print unite\n",
    "    coords = []\n",
    "    for j in range(coord_max):\n",
    "        coords += [b_moins + (j+.5) * unite]\n",
    "    axes += [coords]\n",
    "print axes\n",
    "print '''''\n",
    "\n",
    "U = {}\n",
    "for h in range(h_max):\n",
    "    #U_ref = {}\n",
    "    #for pos_i in axes[h]:\n",
    "    #    for pos_j in axes[h]:\n",
    "    #        U_ref[h] += [(pos_i, pos_j)]\n",
    "    U [h] = {}\n",
    "    dim_i, dim_j = calc_dim(shape, h, h_max)\n",
    "    for i in range(dim_i):\n",
    "        for j in range(dim_j):\n",
    "            U[h][(i,j)] = 1    \n",
    "    print 'Niveau ', h, ' : '\n",
    "    print ' U[' , h, '] :', U[h]\n",
    "    #print ' U_ref[h] :', U_ref[h]\n",
    "    print ''\n",
    "    \n"
   ]
  },
  {
   "cell_type": "markdown",
   "metadata": {},
   "source": [
    "#### Construction d'un arbre de coordonnées multi-niveau (descendants pour (i,j) au niveau h)"
   ]
  },
  {
   "cell_type": "code",
   "execution_count": null,
   "metadata": {},
   "outputs": [],
   "source": [
    "def fils_rec(shape, h, h_max, i, j):\n",
    "    \n",
    "    if h < h_max :\n",
    "        dim_i, dim_j = calc_dim(shape, h, h_max)\n",
    "        if i < dim_i and j < dim_j :\n",
    "            rep = [(h,(i,j)), [], [], [], []]\n",
    "            rep[1] = fils_rec(shape, h + 1, h_max, i * 2, j * 2)\n",
    "            rep[2] = fils_rec(shape, h + 1, h_max, i * 2, j * 2 + 1)\n",
    "            rep[3] = fils_rec(shape, h + 1, h_max, i * 2 + 1, j * 2)\n",
    "            rep[4] = fils_rec(shape, h + 1, h_max, i * 2 + 1, j * 2 + 1)\n",
    "        else:\n",
    "            rep = []\n",
    "    else:\n",
    "        rep = []\n",
    "    return rep\n",
    "    \n"
   ]
  },
  {
   "cell_type": "code",
   "execution_count": null,
   "metadata": {
    "scrolled": true
   },
   "outputs": [],
   "source": [
    "U_tree = fils_rec(shape, 0, h_max, 0, 0) \n",
    "print U_tree"
   ]
  },
  {
   "cell_type": "markdown",
   "metadata": {
    "collapsed": true
   },
   "source": [
    "#### Calcul des descendants et des parents"
   ]
  },
  {
   "cell_type": "code",
   "execution_count": null,
   "metadata": {},
   "outputs": [],
   "source": [
    "def calcule_desc(U_tree, mem_h_u_todo):\n",
    "    if U_tree == []:\n",
    "        return []\n",
    "    else :\n",
    "        if U_tree[0] in mem_h_u_todo :\n",
    "            rep = [U_tree[0]]\n",
    "        else:\n",
    "            rep = []\n",
    "        if U_tree[1] != [] :\n",
    "            rep += calcule_desc(U_tree[1], mem_h_u_todo)\n",
    "        if U_tree[2] != [] :\n",
    "            rep += calcule_desc(U_tree[2], mem_h_u_todo)\n",
    "        if U_tree[3] != [] :\n",
    "            rep += calcule_desc(U_tree[3], mem_h_u_todo)\n",
    "        if U_tree[4] != [] :\n",
    "            rep += calcule_desc(U_tree[4], mem_h_u_todo)    \n",
    "        return rep"
   ]
  },
  {
   "cell_type": "code",
   "execution_count": null,
   "metadata": {},
   "outputs": [],
   "source": [
    "print calcule_desc(U_tree, [(5, (5, 7)), (4, (2, 3))])"
   ]
  },
  {
   "cell_type": "code",
   "execution_count": null,
   "metadata": {},
   "outputs": [],
   "source": [
    "def find_desc (U_tree, (h, u)):\n",
    "    if U_tree == []:\n",
    "        return None\n",
    "    else :    \n",
    "        if U_tree[0] == (h, u) :\n",
    "            return U_tree\n",
    "        else:\n",
    "            desc_1 = find_desc(U_tree[1], (h, u))\n",
    "            if desc_1 != None:\n",
    "                return desc_1\n",
    "            desc_2 = find_desc(U_tree[2], (h, u))\n",
    "            if desc_2 != None:\n",
    "                return desc_2\n",
    "            desc_3 = find_desc(U_tree[3], (h, u))\n",
    "            if desc_3 != None:\n",
    "                return desc_3\n",
    "            desc_4 = find_desc(U_tree[4], (h, u))\n",
    "            if desc_4 != None:\n",
    "                return desc_4"
   ]
  },
  {
   "cell_type": "code",
   "execution_count": null,
   "metadata": {},
   "outputs": [],
   "source": [
    "print find_desc(U_tree, (4, (2, 3)))"
   ]
  },
  {
   "cell_type": "code",
   "execution_count": null,
   "metadata": {},
   "outputs": [],
   "source": [
    "def calcule_asc_path(h,u):\n",
    "    rep = []\n",
    "    for h_inf in range(h, 0, -1):\n",
    "        i_inf = u[0] / (2 ** (h - h_inf))\n",
    "        j_inf = u[1] / (2 ** (h - h_inf))\n",
    "        rep += [(h_inf, (i_inf, j_inf))]\n",
    "    # racine\n",
    "    rep += [(0, (i_inf, j_inf))]\n",
    "    return rep"
   ]
  },
  {
   "cell_type": "code",
   "execution_count": null,
   "metadata": {},
   "outputs": [],
   "source": [
    "print calcule_asc_path(5,(15,3))"
   ]
  },
  {
   "cell_type": "markdown",
   "metadata": {},
   "source": [
    "#### Etapes de calcul du posterior : likelihood - log-score - posterior"
   ]
  },
  {
   "cell_type": "code",
   "execution_count": null,
   "metadata": {},
   "outputs": [],
   "source": [
    "# Likelihood calculation (over z's, for given v, h and u)\n",
    "\n",
    "def calc_lik(v,h,u):\n",
    "    lik = np.zeros(10)\n",
    "    for c in range(10):\n",
    "        if np.linalg.norm(v) < 1e-16:\n",
    "            if np.linalg.norm(mu[c][h][u]) > 1e-16:\n",
    "                lik[c] = rho[c][h][u]\n",
    "            else:\n",
    "                lik[c] = 1                \n",
    "        else:\n",
    "            if np.linalg.norm(mu[c][h][u]) > 1e-16:\n",
    "                dist = multivariate_normal(mean = mu[c][h][u], cov = Sigma[c][h][u])\n",
    "                lik[c] = (1-rho[c][h][u]) * dist.pdf(v)\n",
    "                #lik[c] =  dist.pdf(v)\n",
    "            else:\n",
    "                lik[c] = 0\n",
    "        lik[c] = max(lik[c],1e-16)    \n",
    "    return lik"
   ]
  },
  {
   "cell_type": "code",
   "execution_count": null,
   "metadata": {},
   "outputs": [],
   "source": [
    "# Log posterior\n",
    "\n",
    "def update_log_score(log_score, lik):\n",
    "    #print 'lik =' + str(lik) \n",
    "    log_score += np.log(lik) \n",
    "    max_log_score = max(log_score)\n",
    "    log_score -= max_log_score\n",
    "    return log_score"
   ]
  },
  {
   "cell_type": "code",
   "execution_count": null,
   "metadata": {},
   "outputs": [],
   "source": [
    "# Posterior (Softmax)\n",
    "    \n",
    "def calc_pi(log_score): # TODO\n",
    "    Z = np.sum(np.exp(log_score))\n",
    "    pi = np.exp(log_score)/Z\n",
    "    #print 'pi =' + str(pi)\n",
    "    #print 'max(pi) = ',max(pi)\n",
    "    return pi"
   ]
  },
  {
   "cell_type": "markdown",
   "metadata": {},
   "source": [
    "#### Métriques"
   ]
  },
  {
   "cell_type": "code",
   "execution_count": null,
   "metadata": {},
   "outputs": [],
   "source": [
    "# Entropy (over counterfactual viewpoint (h_plus, u_plus))\n",
    "\n",
    "def calc_H_plus(log_score, v_plus, h_plus, u_plus):\n",
    "    lik_plus = calc_lik(v_plus, h_plus, u_plus)\n",
    "    log_score_plus = update_log_score(np.copy(log_score), lik_plus)\n",
    "    pi_plus = calc_pi(log_score_plus)\n",
    "    sum_H = - pi_plus * np.log(pi_plus)\n",
    "    #print 'sum_H : ', sum_H\n",
    "    #print np.log(lik)\n",
    "    #print '****', 'c :', c_ref, ', h :', h, ', u :',u, ' ---> ', np.where(pi == max(pi))[0][0]\n",
    "    #print '**** H = ',\n",
    "    return sum_H.sum()\n"
   ]
  },
  {
   "cell_type": "code",
   "execution_count": null,
   "metadata": {},
   "outputs": [],
   "source": [
    "# Free Energy (over counterfactual viewpoint (h_plus, u_plus))\n",
    "\n",
    "def calc_F_plus(pi, log_score, v_plus, h_plus, u_plus):    \n",
    "    lik_plus = calc_lik(v_plus, h_plus, u_plus)\n",
    "    log_score_plus = update_log_score(np.copy(log_score), lik_plus)\n",
    "    pi_plus = calc_pi(log_score_plus)\n",
    "    sum_F = - pi_plus * (np.log(lik_plus) - np.log(pi_plus) + np.log(pi))\n",
    "    #print 'sum_F : ', sum_F\n",
    "    #print np.log(lik)\n",
    "    #print '****', 'c :', c_ref, ', h :', h, ', u :',u, ' ---> ', np.where(pi == max(pi))[0][0]\n",
    "    #print '**** H = ',\n",
    "    return sum_F.sum()   \n"
   ]
  },
  {
   "cell_type": "code",
   "execution_count": null,
   "metadata": {},
   "outputs": [],
   "source": [
    "def calc_IB_plus(pi, log_score, v_plus, h_plus, u_plus):    \n",
    "    lik_plus = calc_lik(v_plus, h_plus, u_plus)\n",
    "    log_score_plus = update_log_score(np.copy(log_score), lik_plus)\n",
    "    pi_plus = calc_pi(log_score_plus)\n",
    "    sum_IB = pi_plus * (np.log(pi_plus) - np.log(pi))\n",
    "    #print 'sum_F : ', sum_F\n",
    "    #print np.log(lik)\n",
    "    #print '****', 'c :', c_ref, ', h :', h, ', u :',u, ' ---> ', np.where(pi == max(pi))[0][0]\n",
    "    #print '**** H = ',\n",
    "    return sum_IB.sum()   \n"
   ]
  },
  {
   "cell_type": "code",
   "execution_count": null,
   "metadata": {
    "scrolled": false
   },
   "outputs": [],
   "source": [
    "# Gibbs Energy\n",
    "\n",
    "def calc_E_plus(pi, v_plus, h_plus, u_plus):    \n",
    "    lik_plus = calc_lik(v_plus, h_plus, u_plus)\n",
    "    sum_E = pi * lik_plus\n",
    "    #print 'sum_F : ', sum_F\n",
    "    #print np.log(lik)\n",
    "    #print '****', 'c :', c_ref, ', h :', h, ', u :',u, ' ---> ', np.where(pi == max(pi))[0][0]\n",
    "    #print '**** H = ',\n",
    "    return sum_E.sum()   "
   ]
  },
  {
   "cell_type": "markdown",
   "metadata": {},
   "source": [
    "#### Generators"
   ]
  },
  {
   "cell_type": "code",
   "execution_count": null,
   "metadata": {},
   "outputs": [],
   "source": [
    "def argmax_generator(c, h, u):\n",
    "    test_pred = rho[c][h][u] < .5       \n",
    "    if test_pred:\n",
    "        return mu[c][h][u]\n",
    "        #v_predictive = np.random.multivariate_normal(mu[c_predictive][h_path][u_path], Sigma[c_predictive][h_path][u_path], 1)[0]\n",
    "    else:\n",
    "        return np.zeros(3)"
   ]
  },
  {
   "cell_type": "code",
   "execution_count": null,
   "metadata": {},
   "outputs": [],
   "source": [
    "def monte_carlo_generator(c, h, u):\n",
    "    if np.random.random() > rho[c][h][u]:\n",
    "        return np.random.multivariate_normal(mu[c][h][u], Sigma[c][h][u], 1)[0]\n",
    "    else:\n",
    "        return np.zeros(3)"
   ]
  },
  {
   "cell_type": "markdown",
   "metadata": {},
   "source": [
    "#### Utilitaires"
   ]
  },
  {
   "cell_type": "code",
   "execution_count": null,
   "metadata": {},
   "outputs": [],
   "source": [
    "def calc_pi_predictive_sorted(pi_predictive): \n",
    "    pi_predictive_sorted = {}\n",
    "    for c in range(10):\n",
    "        pi_predictive_sorted[c] = []\n",
    "        for k in pi_predictive[c]:\n",
    "            pi_predictive_sorted[c] += [(pi_predictive[c][k], k)]\n",
    "        pi_predictive_sorted[c] = sorted(pi_predictive_sorted[c])\n",
    "    return pi_predictive_sorted"
   ]
  },
  {
   "cell_type": "code",
   "execution_count": null,
   "metadata": {},
   "outputs": [],
   "source": [
    "def affiche_path_mnist(path_i, path_j):\n",
    "    col_max = max(15, len(path_i))\n",
    "    colors = plt.cm.rainbow(np.linspace(0, 1, col_max))\n",
    "    b_moins = -.5\n",
    "    b_plus = 31.5\n",
    "    for cpt in range(len(path_i) - 1):\n",
    "        plt.plot(path_j[cpt:cpt + 2],path_i[cpt:cpt + 2], color = colors[col_max - cpt - 1], linewidth= 3)\n",
    "    #plt.plot(path_j,path_i,'r+',markersize=12)\n",
    "    plt.xlim([b_moins,b_plus])\n",
    "    plt.ylim([b_moins,b_plus])\n",
    "    plt.gca().invert_yaxis()"
   ]
  },
  {
   "cell_type": "markdown",
   "metadata": {},
   "source": [
    "#### Likelihood map : `lik_predictive[c][h][u]`"
   ]
  },
  {
   "cell_type": "code",
   "execution_count": null,
   "metadata": {},
   "outputs": [],
   "source": [
    "h_max = 6\n",
    "lik_predictive = {}\n",
    "for c in range(10):\n",
    "    lik_predictive[c] = {}\n",
    "    for h in range(h_max):\n",
    "        lik_predictive[c][h] = {}\n",
    "        for u in U[h]:\n",
    "            log_score = np.zeros(10)\n",
    "            v_predictive = argmax_generator(c, h, u)\n",
    "            lik = calc_lik(v_predictive, h, u)\n",
    "            lik_predictive[c][h][u] = lik"
   ]
  },
  {
   "cell_type": "markdown",
   "metadata": {},
   "source": [
    "#### Basic saliency map : `pi_predictive[c][u]` (h = 5)"
   ]
  },
  {
   "cell_type": "code",
   "execution_count": null,
   "metadata": {
    "scrolled": true
   },
   "outputs": [],
   "source": [
    "pi_predictive = {}\n",
    "h = h_max - 1\n",
    "for c in range(10):\n",
    "    pi_predictive[c] = {}\n",
    "    for i in range(16):\n",
    "        for j in range(16):\n",
    "            u = (i, j)\n",
    "            liste_path = calcule_asc_path(h, u)\n",
    "            log_score_path = np.zeros(10)\n",
    "            for (h_path, u_path) in liste_path[:-1]:\n",
    "                v_predictive = argmax_generator(c, h_path, u_path)\n",
    "                lik_path = calc_lik(v_predictive, h_path, u_path)\n",
    "                log_score_path = update_log_score(log_score_path, lik_path)\n",
    "            pi_path = calc_pi(log_score_path)\n",
    "            pi_predictive[c][u] = pi_path[c]   \n"
   ]
  },
  {
   "cell_type": "code",
   "execution_count": null,
   "metadata": {},
   "outputs": [],
   "source": [
    "liste_path"
   ]
  },
  {
   "cell_type": "code",
   "execution_count": null,
   "metadata": {},
   "outputs": [],
   "source": [
    "c = 0\n",
    "sal_map = np.zeros((16, 16))\n",
    "for i in range(16):\n",
    "    for j in range(16):\n",
    "        sal_map[i,j] = pi_predictive[c][(i,j)] \n",
    "        \n",
    "plt.imshow(sal_map, interpolation = 'nearest', cmap = 'gist_heat')"
   ]
  },
  {
   "cell_type": "markdown",
   "metadata": {},
   "source": [
    "#### Effective saliency map : `pi_predictive[c][u]` (h = 5) "
   ]
  },
  {
   "cell_type": "code",
   "execution_count": null,
   "metadata": {
    "scrolled": true
   },
   "outputs": [],
   "source": [
    "h = h_max - 1\n",
    "pi_predictive_eff = {}\n",
    "for c in range(10):\n",
    "    print c\n",
    "    pi_predictive_eff[c] = {}\n",
    "    \n",
    "    mem_h_u = []\n",
    "    mem_h_u_todo = {}\n",
    "    for u_add in U[h]:\n",
    "        mem_h_u_todo[(5, u_add)] = 1\n",
    "    \n",
    "    while len(mem_h_u_todo) > 0 :    \n",
    "        pi_predictive_plus = {}\n",
    "        for (h, u) in mem_h_u_todo:\n",
    "            liste_path = calcule_asc_path(h, u)\n",
    "            log_score_path = np.zeros(10)\n",
    "            for (h_path, u_path) in liste_path[:-1]:\n",
    "                if (h_path, u_path) not in mem_h_u:\n",
    "                    log_score_path = update_log_score(log_score_path, lik_predictive[c][h_path][u_path])\n",
    "            pi_path = calc_pi(log_score_path)\n",
    "            #print pi_path\n",
    "            pi_predictive_plus[u] = pi_path[c] \n",
    "            #print h_plus, u_plus\n",
    "        keys = pi_predictive_plus.keys()\n",
    "        values = np.array(pi_predictive_plus.values())\n",
    "        k = np.argmax(values)\n",
    "        u_tilde = keys[k]\n",
    "        #print len(pi_predictive_plus), len(mem_h_u), (values[k], (h, u))\n",
    "        \n",
    "        pi_predictive_eff[c][u_tilde] = values[k]\n",
    "        mem_h_u_todo.pop((h, u_tilde)) \n",
    "        liste_path = calcule_asc_path(h, u_tilde)\n",
    "        log_score_path = np.zeros(10)\n",
    "        for (h_path, u_path) in liste_path[:-1]:\n",
    "            if (h_path, u_path) not in mem_h_u:\n",
    "                mem_h_u += [(h_path, u_path)]       \n",
    "        \n",
    "        #print 'CHOIX :', (h, u)\n",
    "        \n",
    "        \n",
    "        "
   ]
  },
  {
   "cell_type": "code",
   "execution_count": null,
   "metadata": {
    "scrolled": true
   },
   "outputs": [],
   "source": [
    "print pi_predictive_eff[5]"
   ]
  },
  {
   "cell_type": "code",
   "execution_count": null,
   "metadata": {},
   "outputs": [],
   "source": [
    "c = 9\n",
    "sal_map = np.zeros((16, 16))\n",
    "for i in range(16):\n",
    "    for j in range(16):\n",
    "        sal_map[i,j] = pi_predictive_eff[c][(i,j)] \n",
    "        \n",
    "plt.imshow(sal_map, interpolation = 'nearest', cmap = 'gist_heat_r')"
   ]
  },
  {
   "cell_type": "code",
   "execution_count": null,
   "metadata": {
    "scrolled": false
   },
   "outputs": [],
   "source": [
    "def affiche_path(pi_predictive): \n",
    "    pi_predictive_sorted = calc_pi_predictive_sorted(pi_predictive)\n",
    "    for c in range(10):\n",
    "        image_moy = avg_image[c] #np.mean(np.array(data_visu[c]),0)\n",
    "        plt.figure(figsize=(12,8))\n",
    "        plt.subplot(131)\n",
    "        plt.imshow(image_moy, interpolation='nearest', cmap='gray_r')\n",
    "        plt.title(c)\n",
    "        path_i = []\n",
    "        path_j = []\n",
    "        image_pi = np.zeros((14,14))\n",
    "        for cpt in range(6):\n",
    "            (pi_pred, u) = pi_predictive_sorted[c][-1-cpt]\n",
    "            #(pi_pred,(h,u)) = pi_predictive_eff[c][cpt]\n",
    "            #print c,pi_pred\n",
    "            path_i += [u[0] * 2 + 1.5]\n",
    "            path_j += [u[1] * 2 + 1.5]\n",
    "        affiche_path_mnist(path_i, path_j)\n",
    "        plt.plot(path_j[0], path_i[0],'+r', markersize = 15, mew = 3)\n",
    "\n",
    "        plt.subplot(132)\n",
    "        sal_map = np.zeros((16, 16))\n",
    "        for i in range(16):\n",
    "            for j in range(16):\n",
    "                sal_map[i,j] = pi_predictive[c][(i,j)] \n",
    "\n",
    "\n",
    "\n",
    "        plt.imshow(sal_map, interpolation='nearest', cmap = 'gist_heat_r', vmin = 0, vmax = 1)\n",
    "\n",
    "    \n"
   ]
  },
  {
   "cell_type": "code",
   "execution_count": null,
   "metadata": {},
   "outputs": [],
   "source": [
    "affiche_path(pi_predictive)"
   ]
  },
  {
   "cell_type": "code",
   "execution_count": null,
   "metadata": {},
   "outputs": [],
   "source": [
    "affiche_path(pi_predictive_eff)"
   ]
  },
  {
   "cell_type": "markdown",
   "metadata": {},
   "source": [
    "#### !!!TODO!!! Posterior predictif : $q(.)|_{\\tilde{z}, \\text{u}}$ basé sur une liste de vues `liste_u`  "
   ]
  },
  {
   "cell_type": "code",
   "execution_count": null,
   "metadata": {},
   "outputs": [],
   "source": [
    "# Monte-Carlo generative model\n",
    "\n",
    "def calc_pi_MC_plus(pi, liste_u, nb_sample):\n",
    "    nb_pos = len(liste_u)\n",
    "    pi_MC_plus = np.zeros(nb_pos)\n",
    "    # !!! Prediction de z selon le prior (a mettre en argument) !!!\n",
    "    tirage = np.random.multinomial(1,pi)\n",
    "    c_MC = np.where(tirage==1)[0][0]\n",
    "    # Accumulation sur liste_u\n",
    "    for k in range(len(liste_u)) : \n",
    "        # choix de u = (h_plus, u_plus)\n",
    "        (h_plus, u_plus) = liste_u[k]\n",
    "        for nb_obs in range(nb_sample):      \n",
    "            v_MC = monte_carlo_generator(c_MC, h_plus, u_plus)\n",
    "            lik_plus = calc_lik(v_MC, h_plus, u_plus)\n",
    "            log_score_plus = update_log_score(np.zeros(10), lik_plus)\n",
    "            pi_plus = calc_pi(log_score_plus)\n",
    "            pi_MC_plus[k] += pi_plus[c_MC] / nb_sample\n",
    "    return pi_MC_plus\n"
   ]
  },
  {
   "cell_type": "code",
   "execution_count": null,
   "metadata": {},
   "outputs": [],
   "source": [
    "# Argmax generative model\n",
    "\n",
    "def calc_pi_predictive_plus(pi,liste_u):\n",
    "    nb_pos = len(liste_u)\n",
    "    pi_predictive_plus = np.zeros(nb_pos)\n",
    "    # !!! Prediction de z selon le prior (a mettre en argument) !!!\n",
    "    c_predictive = np.argmax(pi)\n",
    "    for k in range(len(liste_u)) : \n",
    "        (h_plus, u_plus) = liste_u[k]\n",
    "        '''if rho[c_predictive][h_plus][u_plus] < .5 :\n",
    "            v_predictive = mu[c_predictive][h_plus][u_plus]\n",
    "        else:\n",
    "            v_predictive = np.zeros(3)\n",
    "        lik_plus = calc_lik(v_predictive, h_plus, u_plus)'''\n",
    "        # Lecture de la likelihood map\n",
    "        lik_plus = lik_predictive[c_predictive][h_plus][u_plus]\n",
    "        log_score_plus = update_log_score(np.zeros(10), lik_plus)\n",
    "        pi_plus = calc_pi(log_score_plus)\n",
    "        pi_predictive_plus[k] = pi_plus[c_predictive] \n",
    "    return pi_predictive_plus"
   ]
  },
  {
   "cell_type": "markdown",
   "metadata": {},
   "source": [
    "#### Actual algorithm (see paper)"
   ]
  },
  {
   "cell_type": "code",
   "execution_count": null,
   "metadata": {},
   "outputs": [],
   "source": [
    "def prediction_based_policy(log_score, actions_set, mem_h_u):\n",
    "    # actions_set ne contient que les positions de niveau 5\n",
    "    h = h_max - 1\n",
    "    ## 1 ##\n",
    "    z_tilde = np.argmax(log_score)\n",
    "    pi_predictive_plus = {}\n",
    "    ## 2 ## Utilisation de lik_predictive\n",
    "    for u in actions_set:\n",
    "        liste_path = calcule_asc_path(h, u)\n",
    "        log_score_path = np.zeros(10)\n",
    "        for (h_path, u_path) in liste_path[:-1]:\n",
    "            if (h_path, u_path) not in mem_h_u:\n",
    "                log_score_path = update_log_score(log_score_path, lik_predictive[z_tilde][h_path][u_path])\n",
    "        pi_path = calc_pi(log_score_path)\n",
    "        pi_predictive_plus[u] = pi_path[z_tilde] \n",
    "    ## 3 ##\n",
    "    keys = pi_predictive_plus.keys()\n",
    "    values = np.array(pi_predictive_plus.values())\n",
    "    k = np.argmax(values)\n",
    "    u_tilde = keys[k]\n",
    "    return u_tilde"
   ]
  },
  {
   "cell_type": "code",
   "execution_count": null,
   "metadata": {},
   "outputs": [],
   "source": [
    "def saliency_based_policy(log_score, pi_predictive_sorted, mem_h_u):\n",
    "    h = h_max - 1\n",
    "    ## 1 ##\n",
    "    z_tilde = np.argmax(log_score)\n",
    "    u_tilde = pi_predictive_sorted[z_tilde].pop()[1]\n",
    "    while (h, u_tilde) in mem_h_u:\n",
    "        u_tilde = pi_predictive_sorted[z_tilde].pop()[1]\n",
    "    return u_tilde\n",
    "    "
   ]
  },
  {
   "cell_type": "code",
   "execution_count": null,
   "metadata": {},
   "outputs": [],
   "source": [
    "def random_policy(log_score, mem_h_u):\n",
    "    h = h_max - 1\n",
    "    ## 1 ##\n",
    "    z_tilde = np.argmax(log_score)\n",
    "    #u_tilde = (1 + np.random.randint(14),  1 + np.random.randint(14))\n",
    "    u_tilde = (np.random.randint(16),  np.random.randint(16))\n",
    "    while (h, u_tilde) in mem_h_u:\n",
    "        #u_tilde = (1 + np.random.randint(14),  1 + np.random.randint(14))\n",
    "        u_tilde = (np.random.randint(16),  np.random.randint(16))\n",
    "    return u_tilde"
   ]
  },
  {
   "cell_type": "code",
   "execution_count": null,
   "metadata": {},
   "outputs": [],
   "source": [
    "def scene_exploration(z_ref, ind_test, log_score, actions_set, mem_h_u, record, \\\n",
    "                      POL = 'predictive', AFF = True, THRESHOLD = 1e-4):\n",
    "    \n",
    "    assert POL == 'predictive' or POL == 'saliency-based' or POL == 'random' or POL == 'full'\n",
    "    \n",
    "    if POL == 'full':\n",
    "        THRESHOLD = 0\n",
    "        POL = 'saliency-based'\n",
    "    \n",
    "    TOUR = 0\n",
    "    END = False\n",
    "    h = h_max - 1\n",
    "    \n",
    "    # saliency-based approach\n",
    "    if POL == 'saliency-based':\n",
    "        pi_predictive_sorted = calc_pi_predictive_sorted(pi_predictive_eff)\n",
    "    \n",
    "    while END == False:\n",
    "        \n",
    "        if AFF:\n",
    "            print '************************************'\n",
    "            print '******       TOUR    ' + str(TOUR + 1) + '        ******'\n",
    "            print '************************************'\n",
    "        \n",
    "        # 1. CHOIX\n",
    "        if POL == 'predictive':\n",
    "            u_tilde = prediction_based_policy(log_score, actions_set, mem_h_u)\n",
    "        elif POL == 'saliency-based':\n",
    "            u_tilde = saliency_based_policy(log_score, pi_predictive_sorted, mem_h_u)\n",
    "        else:\n",
    "            u_tilde = random_policy(log_score, mem_h_u)\n",
    "        \n",
    "        if AFF:\n",
    "            print 'CHOIX :', u_tilde\n",
    "        \n",
    "        # 2. LECTURE + UPDATE\n",
    "        liste_path = calcule_asc_path(h, u_tilde)\n",
    "        \n",
    "        for (h_path, u_path) in reversed(liste_path):\n",
    "            if (h_path, u_path) not in mem_h_u:\n",
    "                v = Data_test[z_ref][h_path][u_path][ind_test] \n",
    "                lik_path = calc_lik(v, h_path, u_path)\n",
    "                log_score = update_log_score(log_score, lik_path)\n",
    "                mem_h_u += [(h_path, u_path)]\n",
    "                pi = calc_pi(log_score)\n",
    "                H = np.sum(- pi * np.log(pi))\n",
    "                out = np.argmax(pi)\n",
    "                \n",
    "                if AFF :\n",
    "                    print 'pi : ', pi\n",
    "                    print 'out :', out\n",
    "                    print 'pi[out] : ', pi[out]\n",
    "                    print 'H : ', H\n",
    "                \n",
    "                record.mem_pi += [pi]\n",
    "                record.mem_H += [H]\n",
    "                record.mem_z += [out]\n",
    "                record.mem_h_u += [(h_path, u_path)]\n",
    "                record.nb_coeffs += 3\n",
    "                \n",
    "        # 3. INHIBITION OF RETURN        \n",
    "        actions_set.pop(u_tilde)\n",
    "        \n",
    "        record.mem_u += [u_tilde]\n",
    "        record.nb_saccades += 1\n",
    "                \n",
    "        if AFF:\n",
    "            print '****', 'z :', z_ref, ', u :',u_tilde, ' ---> ', out\n",
    "              \n",
    "        #mem_u_final += [u]\n",
    "        #mem_pi_copy += [list(mem_pi)]\n",
    "        #mem_H_copy += [list(mem_H)]\n",
    "        #mem_out += [out]\n",
    "        #if TOUR == 50 or (TOUR >5 and pi[out] > .99999):   \n",
    "        \n",
    "        if TOUR == len(U[h_max - 1]) - 1 or H < THRESHOLD:\n",
    "        #if TOUR == 50 or H < THRESHOLD:\n",
    "            END = True\n",
    "            if AFF :\n",
    "                print '************************************'\n",
    "                print '******         FINI          *******'\n",
    "                print '************************************' \n",
    "            return out\n",
    "            #mem_out_final += [out]\n",
    "            #mem_turn += [TOUR]\n",
    "        else:\n",
    "            TOUR += 1\n",
    "           \n",
    "        "
   ]
  },
  {
   "cell_type": "markdown",
   "metadata": {},
   "source": [
    "#### Single image exploration (+ record TODO) "
   ]
  },
  {
   "cell_type": "code",
   "execution_count": null,
   "metadata": {},
   "outputs": [],
   "source": [
    "'''class Record:\n",
    "    def __init__(self):\n",
    "        self.POL = None\n",
    "        self.THRESHOLD = None\n",
    "        self.nb_saccades = 0\n",
    "        self.nb_coeffs = 0\n",
    "        self.mem_u = []\n",
    "        self.mem_h_u = []\n",
    "        self.mem_pi = []\n",
    "        self.mem_H = []\n",
    "        self.mem_z = []\n",
    "        self.z_ref = None\n",
    "        self.z_final = None\n",
    "        self.success = None\n",
    "    def __str__(self):\n",
    "        return  'POL : ' + str(self.POL) + '\\n' +\\\n",
    "                'THRESHOLD : ' + str(self.THRESHOLD) + '\\n' +\\\n",
    "                'nb_saccades : ' + str(self.nb_saccades) + '\\n' +\\\n",
    "                'nb_coeffs : ' + str(self.nb_coeffs) + '\\n' +\\\n",
    "                'mem_u : ' + str(self.mem_u) + '\\n' +\\\n",
    "                'mem_h_u : ' + str(self.mem_h_u) + '\\n' +\\\n",
    "                'mem_pi : ' + str(self.mem_pi) + '\\n' +\\\n",
    "                'mem_H : ' + str(self.mem_H) + '\\n' +\\\n",
    "                'mem_z : ' + str(self.mem_z) + '\\n' +\\\n",
    "                'z_ref : ' + str(self.z_ref) + '\\n' +\\\n",
    "                'z_final : ' + str(self.z_final) + '\\n' +\\\n",
    "                'success : ' + str(self.success)'''\n",
    "\n",
    "from record import Record            "
   ]
  },
  {
   "cell_type": "markdown",
   "metadata": {
    "collapsed": true
   },
   "source": [
    "#### Affichage"
   ]
  },
  {
   "cell_type": "code",
   "execution_count": null,
   "metadata": {},
   "outputs": [],
   "source": [
    "'''def affiche_records(records):\n",
    "    \n",
    "    mem_classif = []\n",
    "    mem_saccades = []\n",
    "    mem_coeffs = []\n",
    "    mem_posterior = []\n",
    "    mem_entropy = []\n",
    "    POL = records[0].POL\n",
    "    THRESHOLD = records[0].THRESHOLD\n",
    "\n",
    "    cpt_TRIALS = 0\n",
    "    for z_ref in range(NB_CLASSES):\n",
    "        NB_TRIALS = len(Data_test[z_ref][0][(0,0)])\n",
    "        for ind_test in range(NB_TRIALS):\n",
    "            ind_total = cpt_TRIALS + ind_test\n",
    "            mem_classif += [records[ind_total].success]\n",
    "            mem_saccades += [records[ind_total].nb_saccades]\n",
    "            mem_coeffs += [records[ind_total].nb_coeffs]\n",
    "            pi = records[ind_total].mem_pi[-1]\n",
    "            mem_posterior += [pi[records[ind_total].z_final]] \n",
    "            mem_entropy += [records[ind_total].mem_H[-1]]\n",
    "        cpt_TRIALS += NB_TRIALS\n",
    "\n",
    "    print 'classif rate :', np.mean(np.where(np.array(mem_classif)==True,1,0)) * 100.0\n",
    "    print 'nb_saccades :', np.mean(mem_saccades)  \n",
    "    print 'nb_coeffs :', np.mean(mem_coeffs)  \n",
    "    print 'compression rate :', 100 * (1 - np.mean(mem_coeffs) / 28 / 28)   \n",
    "    print 'final posterior :', np.mean(mem_posterior)\n",
    "    print 'final entropy :', np.mean(mem_entropy)\n",
    "    #plt.plot(mem_entropy)\n",
    "    plt.figure()\n",
    "    plt.hist(mem_saccades, np.arange(0, 270, 4))\n",
    "    plt.yticks([])\n",
    "    plt.xlim([0,260])\n",
    "    plt.xlabel('# saccades')\n",
    "    plt.title(POL + ' policy, $H_{ref}$ = ' + str(THRESHOLD))\n",
    "    a = plt.axes([.35, .5, .5, .3])\n",
    "    n, bins, patches = plt.hist(mem_saccades, np.arange(257))\n",
    "    plt.xlabel('# saccades')\n",
    "    plt.yticks([])\n",
    "    plt.xlim([0,31])'''\n",
    "from record import affiche_records   "
   ]
  },
  {
   "cell_type": "markdown",
   "metadata": {},
   "source": [
    "#### Main"
   ]
  },
  {
   "cell_type": "code",
   "execution_count": null,
   "metadata": {},
   "outputs": [],
   "source": [
    "NB_CLASSES = 10\n",
    "NB_TRIALS = 100"
   ]
  },
  {
   "cell_type": "code",
   "execution_count": null,
   "metadata": {
    "scrolled": false
   },
   "outputs": [],
   "source": [
    "import time\n",
    "dict_records = {}\n",
    "\n",
    "for POL in ('predictive', 'saliency-based', 'random'):\n",
    "    \n",
    "    dict_records[POL] = {}\n",
    "    \n",
    "    for THRESHOLD in (1e-1, 1e-2, 1e-3, 1e-4, 1e-5):\n",
    "        \n",
    "        records = [] \n",
    "        cpt_TRIALS = 0\n",
    "        \n",
    "        for z_ref in range(NB_CLASSES):\n",
    "            tic = time.time()\n",
    "            \n",
    "            NB_TRIALS = len(Data_test[z_ref][0][(0,0)])\n",
    "            \n",
    "            for ind_test in range(NB_TRIALS):\n",
    "\n",
    "                # initial\n",
    "                log_score = np.zeros(10)\n",
    "                pi = np.ones(10) / 10\n",
    "                H = np.sum(- pi * np.log(pi))\n",
    "\n",
    "                record = Record()\n",
    "                record.POL = POL\n",
    "                record.THRESHOLD = THRESHOLD\n",
    "                record.z_ref = z_ref\n",
    "                record.mem_pi += [pi]\n",
    "                record.mem_H += [H]\n",
    "\n",
    "                # global coef --> log_score initial\n",
    "                h, u = 0, (0, 0)\n",
    "                mem_h_u = [(h, u)]\n",
    "                v = Data_test[z_ref][h][u][ind_test]\n",
    "                lik = calc_lik(v,h,u)\n",
    "                log_score = update_log_score(log_score, lik)\n",
    "                pi = calc_pi(log_score)\n",
    "                H = np.sum(- pi * np.log(pi))\n",
    "                z_tilde = np.argmax(log_score)\n",
    "\n",
    "                record.mem_pi += [pi]\n",
    "                record.mem_H += [H]\n",
    "                record.mem_z += [z_tilde]\n",
    "                record.nb_coeffs += 1\n",
    "\n",
    "                # initial actions set\n",
    "                actions_set = {}\n",
    "                for i in range(16):\n",
    "                    for j in range(16):\n",
    "                        actions_set[(i, j)] = 1\n",
    "\n",
    "                z_final = scene_exploration(z_ref, ind_test, log_score, actions_set, mem_h_u, record, \\\n",
    "                                            POL = POL, AFF = False, THRESHOLD = THRESHOLD)\n",
    "                record.z_final = z_final\n",
    "                record.success = z_ref == z_final\n",
    "\n",
    "                records += [record]\n",
    "\n",
    "                #sys.stdout.write('\\rPolicy : %s, threshold : %g, classe %d, step %d, rep : %d' \\\n",
    "                #                     % (POL, THRESHOLD, z_ref, ind_test, z_final)) \n",
    "                #sys.stdout.flush()\n",
    "                \n",
    "            toc = time.time()\n",
    "            print '\\rPolicy : %s, threshold : %g, classe %d, step %d, rep : %d, elapsed time : %g' \\\n",
    "                                % (POL, THRESHOLD, z_ref, ind_test, z_final, toc - tic)   \n",
    "            cpt_TRIALS  += NB_TRIALS\n",
    "\n",
    "        dict_records[POL][THRESHOLD] = records\n",
    "        print '\\n'\n",
    "        print 'Nb trials :', cpt_TRIALS\n",
    "        affiche_records(records)\n",
    "        print '\\n'\n",
    "        "
   ]
  },
  {
   "cell_type": "code",
   "execution_count": null,
   "metadata": {
    "scrolled": false
   },
   "outputs": [],
   "source": [
    "import time\n",
    "\n",
    "POL = 'full'\n",
    "    \n",
    "dict_records[POL] = {}\n",
    "    \n",
    "THRESHOLD = 1\n",
    "\n",
    "records = [] \n",
    "cpt_TRIALS = 0\n",
    "\n",
    "for z_ref in range(NB_CLASSES):\n",
    "    tic = time.time()\n",
    "\n",
    "    NB_TRIALS = len(Data_test[z_ref][0][(0,0)])\n",
    "\n",
    "    for ind_test in range(NB_TRIALS):\n",
    "\n",
    "        # initial\n",
    "        log_score = np.zeros(10)\n",
    "        pi = np.ones(10) / 10\n",
    "        H = np.sum(- pi * np.log(pi))\n",
    "\n",
    "        record = Record()\n",
    "        record.POL = POL\n",
    "        record.THRESHOLD = THRESHOLD\n",
    "        record.z_ref = z_ref\n",
    "        record.mem_pi += [pi]\n",
    "        record.mem_H += [H]\n",
    "\n",
    "        # global coef --> log_score initial\n",
    "        h, u = 0, (0, 0)\n",
    "        mem_h_u = [(h, u)]\n",
    "        v = Data_test[z_ref][h][u][ind_test]\n",
    "        lik = calc_lik(v,h,u)\n",
    "        log_score = update_log_score(log_score, lik)\n",
    "        pi = calc_pi(log_score)\n",
    "        H = np.sum(- pi * np.log(pi))\n",
    "        z_tilde = np.argmax(log_score)\n",
    "\n",
    "        record.mem_pi += [pi]\n",
    "        record.mem_H += [H]\n",
    "        record.mem_z += [z_tilde]\n",
    "        record.nb_coeffs += 1\n",
    "\n",
    "        # initial actions set\n",
    "        actions_set = {}\n",
    "        for i in range(16):\n",
    "            for j in range(16):\n",
    "                actions_set[(i, j)] = 1\n",
    "\n",
    "        z_final = scene_exploration(z_ref, ind_test, log_score, actions_set, mem_h_u, record, \\\n",
    "                                    POL = POL, AFF = False, THRESHOLD = THRESHOLD)\n",
    "        record.z_final = z_final\n",
    "        record.success = z_ref == z_final\n",
    "\n",
    "        records += [record]\n",
    "\n",
    "        #sys.stdout.write('\\rPolicy : %s, threshold : %g, classe %d, step %d, rep : %d' \\\n",
    "        #                     % (POL, THRESHOLD, z_ref, ind_test, z_final)) \n",
    "        #sys.stdout.flush()\n",
    "\n",
    "    toc = time.time()\n",
    "    print '\\rPolicy : %s, threshold : %g, classe %d, step %d, rep : %d, elapsed time : %g' \\\n",
    "                        % (POL, THRESHOLD, z_ref, ind_test, z_final, toc - tic)   \n",
    "    cpt_TRIALS  += NB_TRIALS\n",
    "\n",
    "dict_records[POL][THRESHOLD] = records\n",
    "print '\\n'\n",
    "print 'Nb trials :', cpt_TRIALS\n",
    "affiche_records(records)\n",
    "print '\\n'\n",
    "        "
   ]
  },
  {
   "cell_type": "code",
   "execution_count": null,
   "metadata": {},
   "outputs": [],
   "source": [
    "# records_saliency = records\n",
    "# records_full = records\n",
    "# records_prediction_99999 = records\n",
    "# records_prediction_999 = records\n",
    "# records_saliency_99999 = records\n",
    "# records_saliency_999 = records\n",
    "# records_random_999 = records\n",
    "\n",
    "# records_saliency_H1em5 = records\n",
    "# records_saliency_H1em4 = records\n",
    "# records_saliency_H1em3 = records\n",
    "# records_saliency_H1em2 = records"
   ]
  },
  {
   "cell_type": "code",
   "execution_count": null,
   "metadata": {},
   "outputs": [],
   "source": [
    "#np.save('mnist-waveimage-tests-records', dict_records)\n",
    "from record import Record, affiche_records            \n",
    "dict_records = np.load('mnist-waveimage-tests-records.npy').tolist()\n"
   ]
  },
  {
   "cell_type": "code",
   "execution_count": null,
   "metadata": {},
   "outputs": [],
   "source": [
    "import record"
   ]
  },
  {
   "cell_type": "code",
   "execution_count": null,
   "metadata": {},
   "outputs": [],
   "source": [
    "reload(record)\n",
    "\n",
    "NB_CLASSES = 10\n",
    "\n",
    "liste_NB_TRIALS = []\n",
    "for z in range(NB_CLASSES):\n",
    "    liste_NB_TRIALS += [len(Data_test[z][0][(0,0)])]\n",
    "\n",
    "mem_classif_rate = {}\n",
    "mem_mem_saccades = {}\n",
    "mem_mem_compression_rate = {}\n",
    "\n",
    "for POL in ('predictive', 'saliency-based', 'random'):\n",
    "    mem_classif_rate[POL] = []\n",
    "    mem_mem_saccades[POL] = []\n",
    "    mem_mem_compression_rate[POL] = []\n",
    "    \n",
    "    for THRESHOLD in (1e-1, 1e-2, 1e-3, 1e-4, 1e-5):\n",
    "        classif_rate, mem_saccades, mem_compression_rate = record.affiche_records(dict_records[POL][THRESHOLD], liste_NB_TRIALS)\n",
    "        mem_classif_rate[POL] += [classif_rate]\n",
    "        mem_mem_saccades[POL] += [mem_saccades]\n",
    "        mem_mem_compression_rate[POL] += [mem_compression_rate]\n",
    "\n",
    "POL = 'full'\n",
    "classif_rate, mem_saccades, mem_compression_rate = record.affiche_records(dict_records[POL][1], liste_NB_TRIALS)\n",
    "mem_classif_rate[POL] = [classif_rate]\n",
    "mem_mem_saccades[POL] = [mem_saccades]\n",
    "mem_mem_compression_rate[POL] = [mem_compression_rate]"
   ]
  },
  {
   "cell_type": "code",
   "execution_count": null,
   "metadata": {},
   "outputs": [],
   "source": [
    "f = plt.figure(figsize = (6, 6))\n",
    "liste_col = ['b', 'g', 'r']\n",
    "for i, POL in enumerate(('predictive', 'saliency-based', 'random')):\n",
    "    plt.plot(np.arange(5), mem_classif_rate[POL], liste_col[i], label = POL + ' policy', lw=2)\n",
    "    plt.plot(np.arange(5), mem_classif_rate[POL], liste_col[i]+'d', ms = 10)\n",
    "plt.plot([-.1,4.1], [mem_classif_rate['full'][0]] * 2, 'r--', label = 'exhaustive scan', lw=2)\n",
    "plt.legend(loc = (.4,.1))\n",
    "plt.title('Classification rate', fontsize = 18)\n",
    "plt.xlabel('Threshold', fontsize = 14)\n",
    "plt.xticks(np.arange(5), ('1e-1', '1e-2', '1e-3', '1e-4', '1e-5'), fontsize = 14)\n",
    "plt.yticks(fontsize = 14)\n",
    "plt.xlim([-.2,4.2])\n",
    "plt.ylim([70, 95])\n",
    "f.gca().yaxis.grid(True)\n"
   ]
  },
  {
   "cell_type": "code",
   "execution_count": null,
   "metadata": {},
   "outputs": [],
   "source": [
    "plt.figure(figsize = (22.5, 8))\n",
    "liste_col = ['r', 'g', 'b']\n",
    "\n",
    "axe = plt.subplot(1,3,2)\n",
    "for i, POL in enumerate(('random', 'saliency-based', 'predictive')):\n",
    "    plt.plot(np.arange(5), np.mean(np.array(mem_mem_saccades[POL]), 1), liste_col[i], label = POL + ' policy', lw = 2)\n",
    "    plt.plot(np.arange(5), np.mean(np.array(mem_mem_saccades[POL]), 1), liste_col[i]+'d', ms = 10)\n",
    "    '''asymmetric_error = [np.zeros(5), np.std(np.array(mem_mem_saccades[POL]), 1)]\n",
    "    plt.errorbar(np.arange(5) + .02 * (i - 1), \\\n",
    "                 np.mean(np.array(mem_mem_saccades[POL]), 1), \\\n",
    "                 yerr = asymmetric_error, \\\n",
    "                 marker = '', \\\n",
    "                 color = liste_col[i],\n",
    "                 linestyle = 'None')'''\n",
    "plt.legend(loc = (.1,.8))\n",
    "plt.title('Average #saccades', fontsize = 18)\n",
    "plt.xlabel('Threshold', fontsize = 14)\n",
    "plt.xticks(np.arange(5), ('1e-1', '1e-2', '1e-3', '1e-4', '1e-5'), fontsize = 14)\n",
    "plt.yticks(fontsize = 14)\n",
    "#plt.xlim([-.2,4.2])\n",
    "plt.xlim([-.3,4.3])\n",
    "axe.yaxis.grid(True)\n",
    "plt.ylim([0, 45])    \n",
    "#axe.set_yscale('log')\n",
    "\n",
    "axe = plt.subplot(1,3,3)\n",
    "for i, POL in enumerate(('random', 'saliency-based', 'predictive')):\n",
    "    plt.plot(np.arange(5), np.median(np.array(mem_mem_saccades[POL]), 1), liste_col[i], label = POL + ' policy', lw = 2)\n",
    "    plt.plot(np.arange(5), np.median(np.array(mem_mem_saccades[POL]), 1), liste_col[i]+'d', ms = 10)\n",
    "    '''asymmetric_error = [np.zeros(5), np.std(np.array(mem_mem_saccades[POL]), 1)]\n",
    "    plt.errorbar(np.arange(5) + .02 * (i - 1), \\\n",
    "                 np.mean(np.array(mem_mem_saccades[POL]), 1), \\\n",
    "                 yerr = asymmetric_error, \\\n",
    "                 marker = '', \\\n",
    "                 color = liste_col[i],\n",
    "                 linestyle = 'None')'''\n",
    "plt.legend(loc = (.1,.8))\n",
    "plt.title('Median #saccades', fontsize = 18)\n",
    "plt.xlabel('Threshold', fontsize = 14)\n",
    "plt.xticks(np.arange(5), ('1e-1', '1e-2', '1e-3', '1e-4', '1e-5'), fontsize = 14)\n",
    "plt.yticks(fontsize = 14)\n",
    "#plt.xlim([-.2,4.2])\n",
    "plt.xlim([-.3,4.3])\n",
    "axe.yaxis.grid(True)\n",
    "plt.ylim([0, 45])    \n",
    "#axe.set_yscale('log')\n",
    "\n",
    "axe = plt.subplot(3,3,1)\n",
    "flierprops = dict(marker='.', color=(0, 0, 0, .1), markersize=5, linestyle='none')\n",
    "bplot = plt.boxplot(mem_mem_saccades['predictive'], 1,'.', \\\n",
    "                    labels = ('1e-1', '1e-2', '1e-3', '1e-4', '1e-5'), \\\n",
    "                    patch_artist=True, \\\n",
    "                    flierprops = flierprops\n",
    "                    )  \n",
    "for patch in bplot['boxes']:\n",
    "    patch.set_facecolor('lightblue')\n",
    "plt.title('# saccades distribution', fontsize = 18)\n",
    "plt.ylim((.9,500))\n",
    "axe.set_yscale('log')\n",
    "#axe.xaxis.grid(True)\n",
    "plt.xticks(np.arange(1, 6), ['','','','',''])\n",
    "plt.yticks(fontsize = 14)\n",
    "plt.text (.7, 200, 'predictive policy', fontsize = 12)\n",
    "\n",
    "axe = plt.subplot(3,3,4)\n",
    "bplot = plt.boxplot(mem_mem_saccades['saliency-based'], 1,'.', \\\n",
    "                    labels = ('1e-1', '1e-2', '1e-3', '1e-4', '1e-5'), \\\n",
    "                    patch_artist=True,\\\n",
    "                    flierprops = flierprops\n",
    "                   )\n",
    "for patch in bplot['boxes']:\n",
    "    patch.set_facecolor('lightgreen')\n",
    "plt.ylim((.9,500))\n",
    "axe.set_yscale('log')\n",
    "#axe.xaxis.grid(True)\n",
    "plt.xticks(np.arange(1, 6), ['','','','',''])\n",
    "plt.yticks(fontsize = 14)\n",
    "plt.text (.7, 200, 'saliency-based', fontsize = 12)\n",
    "plt.text (.7, 100, 'policy', fontsize = 12)\n",
    "\n",
    "axe = plt.subplot(3,3,7)\n",
    "bplot = plt.boxplot(mem_mem_saccades['random'], 1,'.', \\\n",
    "                    labels = ('1e-1', '1e-2', '1e-3', '1e-4', '1e-5'), \\\n",
    "                    patch_artist=True,\\\n",
    "                    flierprops = flierprops\n",
    "                   )\n",
    "for patch in bplot['boxes']:\n",
    "    patch.set_facecolor('pink')\n",
    "plt.xlabel('Threshold', fontsize = 14)\n",
    "plt.yticks(fontsize = 14)\n",
    "plt.ylim((.9,500))\n",
    "#axe.xaxis.grid(True)\n",
    "axe.set_yscale('log')\n",
    "#plt.xticks(np.arange(5), ('1e-1', '1e-2', '1e-3', '1e-4', '1e-5'))\n",
    "plt.text (.7, 200, 'random policy', fontsize = 12)"
   ]
  },
  {
   "cell_type": "code",
   "execution_count": null,
   "metadata": {},
   "outputs": [],
   "source": [
    "np.std(np.array(mem_mem_saccades[POL]), 1)\n",
    "#asymmetric_error = [np.zeros(5), np.std(np.array(mem_mem_saccades[POL], 1))]\n",
    "#asymmetric_error"
   ]
  },
  {
   "cell_type": "code",
   "execution_count": null,
   "metadata": {},
   "outputs": [],
   "source": [
    "f = plt.figure(figsize = (12, 6))\n",
    "\n",
    "axe = plt.subplot(1,2,1)\n",
    "liste_col = ['b', 'g', 'r']\n",
    "for i, POL in enumerate(('predictive', 'saliency-based', 'random')):\n",
    "    plt.plot(np.arange(5), np.mean(np.array(mem_mem_compression_rate[POL]), 1), \\\n",
    "             liste_col[i], label = POL + ' policy', lw = 2)\n",
    "    plt.plot(np.arange(5), np.mean(np.array(mem_mem_compression_rate[POL]), 1), \\\n",
    "             liste_col[i]+'d', ms = 10)\n",
    "plt.legend(loc = (.1,.1))\n",
    "plt.title('Average compression rate')\n",
    "plt.xlabel('Threshold')\n",
    "plt.xticks(np.arange(5), ('1e-1', '1e-2', '1e-3', '1e-4', '1e-5'))\n",
    "plt.xlim([-.2,4.2])\n",
    "plt.ylim([70, 100])\n",
    "axe.yaxis.grid(True)\n",
    "\n",
    "axe = plt.subplot(1,2,2)\n",
    "liste_col = ['b', 'g', 'r']\n",
    "for i, POL in enumerate(('predictive', 'saliency-based', 'random')):\n",
    "    plt.plot(np.arange(5), np.median(np.array(mem_mem_compression_rate[POL]), 1), \\\n",
    "             liste_col[i], label = POL + ' policy', lw = 2)\n",
    "    plt.plot(np.arange(5), np.median(np.array(mem_mem_compression_rate[POL]), 1), \\\n",
    "             liste_col[i]+'d', ms = 10)\n",
    "plt.legend(loc = (.1,.1))\n",
    "plt.title('Median compression rate')\n",
    "plt.xlabel('Threshold')\n",
    "plt.xticks(np.arange(5), ('1e-1', '1e-2', '1e-3', '1e-4', '1e-5'))\n",
    "plt.xlim([-.2,4.2])\n",
    "plt.ylim([70, 100])\n",
    "axe.yaxis.grid(True)\n"
   ]
  },
  {
   "cell_type": "code",
   "execution_count": null,
   "metadata": {},
   "outputs": [],
   "source": [
    "\n",
    "#np.array(mem_mem_saccades[POL])\n",
    "np.array(mem_mem_compression_rate[POL])\n",
    "#np.array(mem_mem_compression_rate[POL])"
   ]
  },
  {
   "cell_type": "markdown",
   "metadata": {},
   "source": [
    "**saliency 1e-5*** :\n",
    "classif rate : 89.2\n",
    "nb_saccades : 24.179\n",
    "nb_coeffs : 133.396\n",
    "compression rate : 82.9852040816\n",
    "final posterior : 0.997364034303\n",
    "final entropy : 0.00740025714727\n",
    "\n",
    "**saliency 1e-4*** :\n",
    "classif rate : 88.9\n",
    "nb_saccades : 17.101\n",
    "nb_coeffs : 102.7\n",
    "compression rate : 86.9005102041\n",
    "final posterior : 0.997997509215\n",
    "final entropy : 0.0054279464404\n",
    "\n",
    "**saliency 1e-3*** :\n",
    "classif rate : 88.3\n",
    "nb_saccades : 11.265\n",
    "nb_coeffs : 76.441\n",
    "compression rate : 90.249872449\n",
    "final posterior : 0.998705338792\n",
    "final entropy : 0.00387248066854\n",
    "\n",
    "**saliency 1e-2*** :\n",
    "classif rate : 86.1\n",
    "nb_saccades : 5.117\n",
    "nb_coeffs : 47.971\n",
    "compression rate : 93.88125\n",
    "final posterior : 0.999713437594\n",
    "final entropy : 0.00233471566276"
   ]
  },
  {
   "cell_type": "markdown",
   "metadata": {},
   "source": [
    "** Baseline policy** :\n",
    "  * classif rate : 88.9\n",
    "  * nb_saccades : 256.0\n",
    "  * nb_coeffs : 1024.0\n",
    "  * compression rate : -30.612244898\n",
    "\n",
    "**Prediction-based policy (THRESHOLD = 1e-3)** : \n",
    "  * classif rate : 86.0\n",
    "  * nb_saccades : 4.94\n",
    "  * nb_coeffs : 47.992\n",
    "  * compression rate : 93.8785714286\n",
    "\n",
    "**Prediction-based policy (THRESHOLD = 1e-4)** : \n",
    "  * classif rate : 87.9\n",
    "  * nb_saccades : 9.162\n",
    "  * nb_coeffs : 68.206\n",
    "  * compression rate : 91.300255102\n",
    "  \n",
    "**Prediction-based policy (THRESHOLD = 1e-5)** : \n",
    "  * classif rate : 88.5\n",
    "  * nb_saccades : 16.26\n",
    "  * nb_coeffs : 99.115\n",
    "  * compression rate : 87.3577806122 \n",
    "  \n",
    "**Saliency map-based policy (THRESHOLD = 1e-3)** : \n",
    "  * classif rate : 86.2\n",
    "  * nb_saccades : 5.297\n",
    "  * nb_coeffs : 49.081\n",
    "  * compression rate : 93.7396683673\n",
    "  \n",
    "**Saliency map-based policy (THRESHOLD = 1e-4)** : \n",
    "  * classif rate : 88.4\n",
    "  * nb_saccades : 11.06\n",
    "  * nb_coeffs : 75.595\n",
    "  * compression rate : 90.3577806122\n",
    "  \n",
    "**Saliency map-based policy (THRESHOLD = 1e-5)** : \n",
    "  * classif rate : 88.9\n",
    "  * nb_saccades : 16.395\n",
    "  * nb_coeffs : 99.598\n",
    "  * compression rate : 87.2961734694  \n",
    "  \n",
    "** Random policy (THRESHOLD = 1-1e-3)** :\n",
    "  * classif rate : 80.4\n",
    "  * nb_saccades : 15.907\n",
    "  * nb_coeffs : 115.564\n",
    "  * compression rate : 85.2596938776  \n",
    "\n",
    "** Random policy (THRESHOLD = 1-1e-4)** :\n",
    "  * classif rate : 83.6\n",
    "  * nb_saccades : 24.493\n",
    "  * nb_coeffs : 158.098\n",
    "  * compression rate : 79.8344387755\n",
    "  \n",
    "\n",
    "\n"
   ]
  },
  {
   "cell_type": "code",
   "execution_count": null,
   "metadata": {},
   "outputs": [],
   "source": [
    "1 - 1e-5"
   ]
  },
  {
   "cell_type": "code",
   "execution_count": null,
   "metadata": {},
   "outputs": [],
   "source": []
  },
  {
   "cell_type": "code",
   "execution_count": null,
   "metadata": {},
   "outputs": [],
   "source": [
    "print record"
   ]
  },
  {
   "cell_type": "markdown",
   "metadata": {},
   "source": [
    "## Modèle prédictif exact"
   ]
  },
  {
   "cell_type": "code",
   "execution_count": null,
   "metadata": {
    "scrolled": true
   },
   "outputs": [],
   "source": [
    "h_max = 6\n",
    "c_ref = 2\n",
    "print '*****', c_ref, '*****'\n",
    "#h = 0\n",
    "#u = (0,0)\n",
    "mem_out_final = []\n",
    "mem_turn = []\n",
    "\n",
    "for i in range(100):\n",
    "    pi = np.ones(10) / 10\n",
    "    log_score = np.zeros(10)\n",
    "    mem_pi = [pi]\n",
    "    mem_pi_copy = []\n",
    "    mem_H = [np.sum(- pi * np.log(pi))]\n",
    "    mem_H_copy = []\n",
    "    mem_h_u = []\n",
    "    mem_out = []\n",
    "    \n",
    "    # Initialisation\n",
    "    \n",
    "    (h, u) = (0, (0, 0))\n",
    "    mem_h_u_todo = {(0, (0, 0)):1}\n",
    "    for u_add in U[h_max - 1]:\n",
    "        mem_h_u_todo[(h_max - 1, u_add)] = 1\n",
    "\n",
    "    TOUR = 0\n",
    "    END = False\n",
    "    VU = False\n",
    "    SEUIL = False\n",
    "    liste_u = []\n",
    "    mem_u_final = []\n",
    "\n",
    "    # Premiere estimation pi (0,(0,0))\n",
    "    mem_h_u += [(h,u)]\n",
    "    mem_h_u_todo.pop((h,u))\n",
    "    v = Data_test[c_ref][h][u][i]     \n",
    "    lik = calc_lik(v,h,u)\n",
    "    print 'lik : ', lik\n",
    "    log_score = update_log_score(log_score, lik)\n",
    "    print 'log_score : ', log_score\n",
    "    pi = calc_pi(log_score)\n",
    "    print 'pi : ', pi\n",
    "    mem_pi += [pi]\n",
    "    H = np.sum(- pi * np.log(pi))\n",
    "    print 'H : ', H\n",
    "    mem_H += [H]\n",
    "    print '****', 'c :', c_ref, ', h :', h, ', u :',u, ' ---> ', np.argmax(pi)\n",
    "    out = np.argmax(pi)\n",
    "\n",
    "    while END == False:\n",
    "        \n",
    "        # CHOIX\n",
    "        pi_predictive_plus = {}\n",
    "        c_predictive = np.argmax(pi)\n",
    "        for (h_plus, u_plus) in mem_h_u_todo:\n",
    "            liste_path = calcule_asc_path(h_plus, u_plus)\n",
    "            log_score_path = np.zeros(10)\n",
    "            for (h_path, u_path) in liste_path[:-1]:\n",
    "                if (h_path, u_path) not in mem_h_u:\n",
    "                    '''#test_pred = np.random.random() > rho[c_predictive][h_path][u_path]\n",
    "                    test_pred = rho[c_predictive][h_path][u_path] < .5       \n",
    "                    if test_pred:\n",
    "                        v_predictive = mu[c_predictive][h_path][u_path]\n",
    "                        #v_predictive = np.random.multivariate_normal(mu[c_predictive][h_path][u_path], Sigma[c_predictive][h_path][u_path], 1)[0]\n",
    "                    else:\n",
    "                        v_predictive = np.zeros(3)\n",
    "                    lik_path = calc_lik(v_predictive, h_path, u_path)\n",
    "                    log_score_path = update_log_score(log_score_path, lik_path)'''\n",
    "                    log_score_path = update_log_score(log_score_path, lik_predictive[c_predictive][h_path][u_path])\n",
    "            pi_path = calc_pi(log_score_path)\n",
    "            pi_predictive_plus[(h_plus, u_plus)] = pi_path[c_predictive] \n",
    "            #print h_plus, u_plus\n",
    "        \n",
    "        keys = pi_predictive_plus.keys()\n",
    "        values = np.array(pi_predictive_plus.values())\n",
    "        k_next = np.argmax(values) #np.argmin(values) #\n",
    "        (h, u) = keys[k_next]\n",
    "        \n",
    "        print 'CHOIX :', (h, u)\n",
    "        \n",
    "        # LECTURE\n",
    "        mem_h_u_todo.pop((h,u))\n",
    "        liste_path = calcule_asc_path(h, u)\n",
    "        for (h_path, u_path) in reversed(liste_path):\n",
    "            if (h_path, u_path) not in mem_h_u:\n",
    "                v = Data_test[c_ref][h_path][u_path][i] \n",
    "                lik_path = calc_lik(v, h_path, u_path)\n",
    "                log_score = update_log_score(log_score, lik_path)\n",
    "                mem_h_u += [(h_path, u_path)]\n",
    "                pi = calc_pi(log_score)\n",
    "                print 'pi : ', pi\n",
    "                mem_pi += [pi]\n",
    "                H = np.sum(- pi * np.log(pi))\n",
    "                out = np.argmax(pi)\n",
    "                print 'pi[out] : ', pi[out]\n",
    "                print 'H : ', H\n",
    "                mem_H += [H]\n",
    "                \n",
    "        print '****', 'c :', c_ref, ', h :', h, ', u :',u, ' ---> ', np.argmax(pi)\n",
    "        mem_u_final += [u]\n",
    "        mem_pi_copy += [list(mem_pi)]\n",
    "        mem_H_copy += [list(mem_H)]\n",
    "        mem_out += [out]\n",
    "        #if TOUR == 50 or (TOUR >5 and pi[out] > .99999):   \n",
    "        if TOUR == len(U[h_max - 1]) - 1 or pi[out] > .9999:\n",
    "            END = True\n",
    "            print '************************************'\n",
    "            print '******         FINI          *******'\n",
    "            print '************************************'   \n",
    "            mem_out_final += [out]\n",
    "            mem_turn += [TOUR]\n",
    "        else:\n",
    "            TOUR += 1\n",
    "            print '************************************'\n",
    "            print '******       TOUR    ' + str(TOUR) + '        ******'\n",
    "            print '************************************'\n",
    "        "
   ]
  },
  {
   "cell_type": "code",
   "execution_count": null,
   "metadata": {
    "scrolled": true
   },
   "outputs": [],
   "source": [
    "h_max = 6\n",
    "\n",
    "c_ref = 8\n",
    "print '*****', c_ref, '*****'\n",
    "#h = 0\n",
    "#u = (0,0)\n",
    "\n",
    "mem_out_final = []\n",
    "mem_turn = []\n",
    "\n",
    "\n",
    "for i in range(10):\n",
    "    pi = np.ones(10) / 10\n",
    "    log_score = np.zeros(10)\n",
    "    mem_pi = [pi]\n",
    "    mem_pi_copy = []\n",
    "    mem_H = [np.sum(- pi * np.log(pi))]\n",
    "    mem_H_copy = []\n",
    "    mem_h_u = []\n",
    "    mem_out = []\n",
    "   \n",
    "    (h, u) = (0, (0, 0))\n",
    "    mem_U_tree = U_tree_ref = U_tree\n",
    "    mem_h_u_todo = {(0, (0, 0)) : 1}\n",
    "    TOUR = 0\n",
    "    END = False\n",
    "    VU = False\n",
    "    SEUIL = False\n",
    "    liste_u = []\n",
    "    mem_u_final = []\n",
    "    while END == False:\n",
    "        print h, u\n",
    "        if (h,u) not in mem_h_u:\n",
    "            mem_h_u += [(h,u)]\n",
    "            mem_h_u_todo.pop((h,u))\n",
    "            v = Data_test[c_ref][h][u][i]     \n",
    "            lik = calc_lik(v,h,u)\n",
    "            print 'lik : ', lik\n",
    "            log_score = update_log_score(log_score, lik)\n",
    "            print 'log_score : ', log_score\n",
    "            pi = calc_pi(log_score)\n",
    "            print 'pi : ', pi\n",
    "            mem_pi += [pi]\n",
    "            H = np.sum(- pi * np.log(pi))\n",
    "            print 'H : ', H\n",
    "            mem_H += [H]\n",
    "            out = np.argmax(pi)\n",
    "            print 'pi[out] =', pi[out]\n",
    "            print '****', 'c :', c_ref, ', h :', h, ', u :',u, ' ---> ', np.argmax(pi)\n",
    "            VU = False\n",
    "            if h == h_max - 1 and pi[out] > .999999 :\n",
    "                SEUIL = True\n",
    "        else :\n",
    "            print h, u, 'déjà vu'\n",
    "            #VU = True\n",
    "            print ''\n",
    "        if h < h_max - 1:\n",
    "            if U_tree_ref[1] != [] :\n",
    "                if U_tree_ref[1][0] not in mem_h_u :\n",
    "                    mem_h_u_todo[U_tree_ref[1][0]] = 1\n",
    "            if U_tree_ref[2] != [] :\n",
    "                if U_tree_ref[2][0] not in mem_h_u :\n",
    "                    mem_h_u_todo[U_tree_ref[2][0]] = 1\n",
    "            if U_tree_ref[3] != [] :\n",
    "                if U_tree_ref[3][0] not in mem_h_u :\n",
    "                    mem_h_u_todo[U_tree_ref[3][0]] = 1\n",
    "            if U_tree_ref[4] != [] :\n",
    "                if U_tree_ref[4][0] not in mem_h_u :\n",
    "                    mem_h_u_todo[U_tree_ref[4][0]] = 1\n",
    "            liste_u_desc = calcule_desc(U_tree_ref, mem_h_u_todo)\n",
    "            '''for i_fils in range(1,5):\n",
    "                if U_tree_ref[i_fils] != [] and U_tree_ref[i_fils] not in liste_u and U_tree_ref[i_fils][0] not in mem_h_u:\n",
    "                    liste_u+= [U_tree_ref[i_fils]] \n",
    "            print 'TOUR = ',TOUR, 'h = ', h, 'len(liste_u) =', len(liste_u)'''\n",
    "            print 'liste_u_desc :', liste_u_desc\n",
    "            for pos_test in mem_h_u:\n",
    "                if pos_test in liste_u_desc:\n",
    "                    liste_u_desc.remove(pos_test)\n",
    "            if len(liste_u_desc) == 0 :\n",
    "                print 'HUM!!', 'h = ', h, 'u = ', u\n",
    "                c_in = raw_input()\n",
    "                h = 0\n",
    "                u = (0,0)\n",
    "                mem_U_tree = U_tree_ref = U_tree\n",
    "            else:\n",
    "                #c = raw_input()\n",
    "                '''H_plus = np.zeros(len(liste_u_desc))\n",
    "                F_plus = np.zeros(len(liste_u_desc))\n",
    "                E_plus = np.zeros(len(liste_u_desc))\n",
    "                IB_plus = np.zeros(len(liste_u_desc))\n",
    "                for k in []: #range(len(liste_u_desc)):\n",
    "                    (h_plus, u_plus) = liste_u_desc[k] \n",
    "                    v_plus = Data_test[c_ref][h_plus][u_plus][i]\n",
    "                    H_plus[k] = calc_H_plus(log_score, v_plus, h_plus, u_plus)\n",
    "                    F_plus[k] = calc_F_plus(pi, log_score, v_plus, h_plus, u_plus)\n",
    "                    E_plus[k] = calc_E_plus(pi, v_plus, h_plus, u_plus)\n",
    "                    IB_plus[k] = calc_IB_plus(pi, log_score, v_plus, h_plus, u_plus)'''\n",
    "                #pi_MC_plus = calc_pi_MC_plus(pi, liste_u_desc, 10)\n",
    "                #print 'pi_MC_plus :', pi_MC_plus\n",
    "                pi_predictive_plus = calc_pi_predictive_plus(pi,liste_u_desc)\n",
    "                #print 'pi_predictive_plus :', pi_predictive_plus\n",
    "                #k_plus = np.argmin(H_plus) #where(H_plus == min(H_plus))[0][0]           \n",
    "                #k_plus =  np.argmax(F_plus)\n",
    "                #k_plus =  np.argmin(E_plus)\n",
    "                #k_plus =  np.argmax(IB_plus)\n",
    "                k_plus =  np.argmax(pi_predictive_plus)\n",
    "                #k_plus =  np.argmax(pi_MC_plus)\n",
    "                #print 'H plus :', H_plus\n",
    "                #print 'F plus :', F_plus\n",
    "                #print 'k_plus :', k_plus\n",
    "                (h, u) = liste_u_desc[k_plus]\n",
    "                mem_U_tree = U_tree_ref                \n",
    "                U_tree_ref = find_desc (U_tree_ref, liste_u_desc[k_plus]) #U_tree_ref[k_plus + 1]\n",
    "                #print U_tree_ref\n",
    "                print ''\n",
    "        else:\n",
    "            mem_u_final += [u]\n",
    "            mem_pi_copy += [list(mem_pi)]\n",
    "            mem_H_copy += [list(mem_H)]\n",
    "            mem_out += [out]\n",
    "            if TOUR == 50  or SEUIL:    \n",
    "                END = True\n",
    "                print '************************************'\n",
    "                print '******         FINI          *******'\n",
    "                print '************************************'  \n",
    "                mem_out_final += [out]\n",
    "                mem_turn += [TOUR]\n",
    "            else:\n",
    "                TOUR += 1\n",
    "                print '************************************'\n",
    "                print '******       TOUR    ' + str(TOUR) + '        ******'\n",
    "                print '************************************'\n",
    "                h = 0\n",
    "                u = (0,0)\n",
    "                mem_U_tree = U_tree_ref = U_tree\n",
    "        "
   ]
  },
  {
   "cell_type": "markdown",
   "metadata": {
    "collapsed": true
   },
   "source": [
    "# Probas conditionnelles "
   ]
  },
  {
   "cell_type": "code",
   "execution_count": null,
   "metadata": {},
   "outputs": [],
   "source": [
    "mu_cond = []\n",
    "Sigma_cond = []\n",
    "rho_cond = []\n",
    "for c in range(10):\n",
    "    print c\n",
    "    mu_cond += [{}]\n",
    "    Sigma_cond += [{}]\n",
    "    rho_cond += [{}]\n",
    "    for h in range(6):\n",
    "        mu_cond[c][h] = {}\n",
    "        Sigma_cond[c][h] = {}\n",
    "        rho_cond[c][h] = {}\n",
    "        for u in calc_U((32, 32), h, 6):\n",
    "            if u in Data_train[c][h]:\n",
    "                data = []\n",
    "                n = len(Data_train[c][h][u])\n",
    "                cpt_00 = 0\n",
    "                cpt_01 = 0\n",
    "                cpt_10 = 0\n",
    "                cpt_11 = 0\n",
    "                for i in range(n):\n",
    "                    v = Data_train[c][h][u][i]\n",
    "                    if h > 0:\n",
    "                        v_pere = Data_train[c][h - 1][(u[0] / 2, u[1] / 2)][i]\n",
    "                        if np.linalg.norm(v_pere) < 1e-16 and np.linalg.norm(v) < 1e-16:\n",
    "                            cpt_00 += 1\n",
    "                        elif np.linalg.norm(v_pere) < 1e-16 and np.linalg.norm(v) > 1e-16:\n",
    "                            cpt_01 += 1\n",
    "                        elif np.linalg.norm(v_pere) > 1e-16 and np.linalg.norm(v) < 1e-16:\n",
    "                            cpt_10 += 1\n",
    "                        else :\n",
    "                            cpt_11 += 1\n",
    "                        if np.linalg.norm(v) > 1e-16:\n",
    "                            if h == 1:\n",
    "                                v_cond = np.concatenate(([v_pere], v), axis = 0)\n",
    "                            else:\n",
    "                                v_cond = np.concatenate((v_pere, v), axis = 0)                            \n",
    "                            data += [v_cond]\n",
    "                    else: # h = 0\n",
    "                        if np.linalg.norm(v) < 1e-16:\n",
    "                            cpt_10 += 1\n",
    "                        else:\n",
    "                            cpt_11 += 1\n",
    "                            v_cond = v\n",
    "                            data += [v_cond]\n",
    "                #if h == -1 :\n",
    "                #    print len(data)\n",
    "                if len(data) > 1:\n",
    "                    mu_cond[c][h][u] = np.mean(data, 0) #Data[c][h][u],0)\n",
    "                    Sigma_cond[c][h][u] = np.cov(np.array(data).T) #Data[c][h][u]).T)\n",
    "                    rho_cond[c][h][u] = (float(cpt_00) / n, float(cpt_01) / n, float(cpt_10) / n, float(cpt_11) / n)\n",
    "                else:\n",
    "                    if h == 0:\n",
    "                        mu_cond[c][h][u] = 0\n",
    "                        Sigma_cond[c][h][u] = 0\n",
    "                    elif h == 1:\n",
    "                        mu_cond[c][h][u] = np.zeros(4)\n",
    "                        Sigma_cond[c][h][u] = np.zeros((4,4))\n",
    "                    else:\n",
    "                        mu_cond[c][h][u] = np.zeros(6)\n",
    "                        Sigma_cond[c][h][u] = np.zeros((6,6))\n",
    "                    rho_cond[c][h][u] = (float(cpt_00) / (cpt_00 + cpt_10), 0., float(cpt_10) / (cpt_00 + cpt_10), 0.)\n",
    "            "
   ]
  },
  {
   "cell_type": "code",
   "execution_count": null,
   "metadata": {},
   "outputs": [],
   "source": [
    "\n",
    "c, h, u = 0, 2, (1,1)\n",
    "print c, h, u\n",
    "print ''\n",
    "print mu[c][h][u]\n",
    "print mu_cond[c][h][u]\n",
    "print ''\n",
    "print Sigma[c][h][u]\n",
    "print Sigma_cond[c][h][u]\n",
    "print ''\n",
    "print rho_cond[c][h][u], np.sum(rho_cond[c][h][u])\n",
    "print ''\n",
    "\n",
    "c, h, u = 0, 3, (2,2)\n",
    "print c, h, u\n",
    "print ''\n",
    "print mu[c][h][u]\n",
    "print mu_cond[c][h][u]\n",
    "print ''\n",
    "print Sigma[c][h][u]\n",
    "print Sigma_cond[c][h][u]\n",
    "print ''\n",
    "print rho_cond[c][h][u], np.sum(rho_cond[c][h][u])\n",
    "print ''\n",
    "\n",
    "c, h, u = 0, 3, (2,3)\n",
    "print c, h, u\n",
    "print ''\n",
    "print mu[c][h][u]\n",
    "print mu_cond[c][h][u]\n",
    "print ''\n",
    "print Sigma[c][h][u]\n",
    "print Sigma_cond[c][h][u]\n",
    "print ''\n",
    "print rho_cond[c][h][u], np.sum(rho_cond[c][h][u])\n",
    "print ''\n",
    "\n",
    "c, h, u = 0, 3, (3,2)\n",
    "print c, h, u\n",
    "print ''\n",
    "print mu[c][h][u]\n",
    "print mu_cond[c][h][u]\n",
    "print ''\n",
    "print Sigma[c][h][u]\n",
    "print Sigma_cond[c][h][u]\n",
    "print ''\n",
    "print rho_cond[c][h][u], np.sum(rho_cond[c][h][u])\n",
    "print ''\n",
    "\n",
    "c, h, u = 0, 3, (3,3)\n",
    "print c, h, u\n",
    "print ''\n",
    "print mu[c][h][u]\n",
    "print mu_cond[c][h][u]\n",
    "print ''\n",
    "print Sigma[c][h][u]\n",
    "print Sigma_cond[c][h][u]\n",
    "print ''\n",
    "print rho_cond[c][h][u], np.sum(rho_cond[c][h][u])\n",
    "print ''\n",
    "\n",
    "plt.figure()\n",
    "c, h, u = 0, 2, (1,1)\n",
    "plt.plot(range(6), mu_cond[c][h][u])\n",
    "c, h, u = 0, 3, (2,2)\n",
    "plt.plot(range(3,9), mu_cond[c][h][u])\n",
    "c, h, u = 0, 3, (2,3)\n",
    "plt.plot(range(3,9), mu_cond[c][h][u])\n",
    "c, h, u = 0, 3, (3,2)\n",
    "plt.plot(range(3,9), mu_cond[c][h][u])\n",
    "c, h, u = 0, 3, (3,3)\n",
    "plt.plot(range(3,9), mu_cond[c][h][u])\n",
    "\n",
    "\n",
    "plt.figure(figsize = ((20,5)))\n",
    "\n",
    "c, h, u = 0, 2, (1,1)\n",
    "plt.subplot(151)\n",
    "plt.imshow(Sigma_cond[c][h][u], interpolation = 'nearest', cmap = 'RdBu_r', vmin = -1, vmax = 1)\n",
    "plt.title((c,h,u))\n",
    "c, h, u = 0, 3, (2,2)\n",
    "plt.subplot(152)\n",
    "plt.imshow(Sigma_cond[c][h][u], interpolation = 'nearest', cmap = 'RdBu_r', vmin = -1, vmax = 1)\n",
    "plt.title((c,h,u))\n",
    "c, h, u = 0, 3, (2,3)\n",
    "plt.subplot(153)\n",
    "plt.imshow(Sigma_cond[c][h][u], interpolation = 'nearest', cmap = 'RdBu_r', vmin = -1, vmax = 1)\n",
    "plt.title((c,h,u))\n",
    "c, h, u = 0, 3, (3,2)\n",
    "plt.subplot(154)\n",
    "plt.imshow(Sigma_cond[c][h][u], interpolation = 'nearest', cmap = 'RdBu_r', vmin = -1, vmax = 1)\n",
    "plt.title((c,h,u))\n",
    "c, h, u = 0, 3, (3,3)\n",
    "plt.subplot(155)\n",
    "plt.imshow(Sigma_cond[c][h][u], interpolation = 'nearest', cmap = 'RdBu_r', vmin = -1, vmax = 1)\n",
    "plt.title((c,h,u))\n"
   ]
  },
  {
   "cell_type": "markdown",
   "metadata": {},
   "source": [
    "## Modèle génératif (stochastique conditionnel)\n"
   ]
  },
  {
   "cell_type": "code",
   "execution_count": null,
   "metadata": {
    "scrolled": false
   },
   "outputs": [],
   "source": [
    "\n",
    "def calc_cond(mu_joint, Sigma_joint, v_pere):\n",
    "    if np.isscalar(v_pere):\n",
    "        v_pere = [v_pere]\n",
    "        _i = 1\n",
    "    else:\n",
    "        _i = 3\n",
    "    mu_eff = np.copy(mu_joint[_i:]) \n",
    "    #print mu_eff\n",
    "    Sigma_eff = np.copy(Sigma_joint[_i:, _i:])\n",
    "    #print Sigma_eff\n",
    "    try:\n",
    "        S_inv = np.linalg.inv(Sigma_joint[:_i, :_i])\n",
    "        #print Sigma_joint[:_i, :_i]\n",
    "        #print S_inv\n",
    "        mu_eff += Sigma_joint[_i:, :_i].dot(S_inv).dot(v_pere - mu_joint[:_i])\n",
    "        Sigma_eff -= Sigma_joint[_i:, :_i].dot(S_inv).dot(Sigma_joint[:_i, _i:]) \n",
    "    except:\n",
    "        pass\n",
    "        #print 'Matrice singulière'\n",
    "        S_inv = np.linalg.inv(Sigma_joint[:_i, :_i] + np.eye(_i) * 1e-1)\n",
    "        mu_eff += Sigma_joint[_i:, :_i].dot(S_inv).dot(v_pere - mu_joint[:_i])\n",
    "        Sigma_eff -= Sigma_joint[_i:, :_i].dot(S_inv).dot(Sigma_joint[:_i, _i:]) \n",
    "    return mu_eff, Sigma_eff\n",
    "\n"
   ]
  },
  {
   "cell_type": "code",
   "execution_count": null,
   "metadata": {
    "scrolled": false
   },
   "outputs": [],
   "source": [
    "\n",
    "\n",
    "for c in [2] * 10:\n",
    "    w = WaveImage()\n",
    "    for h in range(6):\n",
    "        for u in calc_U((32, 32), h, 6):\n",
    "            if h == 0:\n",
    "                dist = multivariate_normal(mean = mu_cond[c][h][u], cov = Sigma_cond[c][h][u])\n",
    "                v = dist.rvs()\n",
    "            else:\n",
    "                v_pere = w.get_data()[h - 1][(u[0] / 2, u[1] / 2)]\n",
    "                #print c, h, u, v_pere\n",
    "                if np.linalg.norm(v_pere) < 1e-16 :\n",
    "                    v = np.zeros(3)\n",
    "                else: #v_pere non nul\n",
    "                    rho_ref = rho_cond[c][h][u][3]\n",
    "                    #print rho_ref\n",
    "                    if np.random.rand() > rho_ref:\n",
    "                        v = np.zeros(3)\n",
    "                    else:\n",
    "                        #print 'OK'\n",
    "                        mu_eff, Sigma_eff = calc_cond(mu_cond[c][h][u], Sigma_cond[c][h][u], v_pere) \n",
    "                        #print mu_eff, Sigma_eff\n",
    "                        try:\n",
    "                            #if np.random.rand() < rho_cond[c][h][u][3] :\n",
    "                            dist = multivariate_normal(mean = mu_eff, cov = Sigma_eff)\n",
    "                            v = dist.rvs() \n",
    "                            #else:\n",
    "                            #    v = np.zeros(3)\n",
    "                        except:\n",
    "                            v = np.zeros(3)\n",
    "            w.set_data(h, u, v)\n",
    "    plt.figure(figsize=(4,4))\n",
    "    plt.imshow(w.get_image(), interpolation='nearest', cmap='gray_r')\n"
   ]
  },
  {
   "cell_type": "code",
   "execution_count": null,
   "metadata": {},
   "outputs": [],
   "source": [
    "print Sigma_cond[0][1][(0, 0)]"
   ]
  },
  {
   "cell_type": "markdown",
   "metadata": {},
   "source": [
    "## Test proba conditionnelle"
   ]
  },
  {
   "cell_type": "code",
   "execution_count": null,
   "metadata": {
    "scrolled": true
   },
   "outputs": [],
   "source": [
    "from scipy.stats import multivariate_normal\n",
    "\n",
    "c_ref = 3\n",
    "#h = 0\n",
    "#u = (0,0)\n",
    "mem_c_out = []\n",
    "\n",
    "def is_pos_def(x):\n",
    "    return np.linalg.det(x) > 0 #np.all(np.linalg.eigvals(x) > 0)\n",
    "\n",
    "def is_pd(K):\n",
    "    try:\n",
    "        np.linalg.cholesky(K)\n",
    "        return 1 \n",
    "    except np.linalg.linalg.LinAlgError as err:\n",
    "        if 'Matrix is not positive definite' in err.message:\n",
    "            return 0\n",
    "        \n",
    "eps = 1e-6\n",
    "\n",
    "for i in range(100):\n",
    "    #print i\n",
    "    pi = np.ones(10) / 10\n",
    "    log_score = np.zeros(10)\n",
    "    mem_pi = [pi]\n",
    "    for h in range(6):\n",
    "        #print '*************************'\n",
    "        #print '*********' , 'h = ' , h , '************'\n",
    "        #print '*************************'\n",
    "        for u in calc_U((32, 32), h, 6):\n",
    "            #print U[h]\n",
    "            #u = (u_ref[1],u_ref[2])\n",
    "            lik = np.zeros(10)\n",
    "            for c in range(10):\n",
    "                v = Data_test[c_ref][h][u][i]\n",
    "                if h > 0:\n",
    "                    if h > 1:\n",
    "                        v_pere = Data_test[c_ref][h - 1][(u[0] / 2, u[1] / 2)][i]\n",
    "                    else:\n",
    "                        v_pere = Data_test[c_ref][h - 1][u][i]\n",
    "                        \n",
    "                    if np.linalg.norm(v_pere) < 1e-16 and np.linalg.norm(v) < 1e-16:\n",
    "                        lik[c] = rho_cond[c][h][u][0]\n",
    "                    elif np.linalg.norm(v_pere) < 1e-16 and np.linalg.norm(v) > 1e-16:\n",
    "                        lik[c] = rho_cond[c][h][u][0]\n",
    "                        print ('Petit PB!!')\n",
    "                    elif np.linalg.norm(v_pere) > 1e-16 and np.linalg.norm(v) < 1e-16:\n",
    "                        try:\n",
    "                            lik[c] = rho_cond[c][h][u][2] / (rho_cond[c][h][u][2] + rho_cond[c][h][u][3])\n",
    "                        except :\n",
    "                            lik[c] = 0\n",
    "                    else :  \n",
    "                        try:\n",
    "                            rho_ref = rho_cond[c][h][u][3] / (rho_cond[c][h][u][2] + rho_cond[c][h][u][3])\n",
    "                            mu_eff, Sigma_eff = calc_cond(mu_cond[c][h][u], Sigma_cond[c][h][u], v_pere)\n",
    "                            if np.linalg.norm(mu_eff) > 1e-16:\n",
    "                                try:\n",
    "                                    dist = multivariate_normal(mean = mu_eff, cov = Sigma_eff)\n",
    "                                except:\n",
    "                                    dist = multivariate_normal(mean = mu_eff, cov = np.diagflat(np.diag(np.abs(Sigma_eff))))\n",
    "                                lik[c] = rho_ref * dist.pdf(v)\n",
    "                            else:\n",
    "                                '''try:\n",
    "                                    lik[c] = rho_cond[c][h][u][2] / (rho_cond[c][h][u][2] + rho_cond[c][h][u][3])\n",
    "                                except:\n",
    "                                    lik[c] = 1\n",
    "                                print lik[c]'''\n",
    "                                lik[c] = 0\n",
    "                        except:\n",
    "                            #print c,h,u,'pb : ' , rho_cond[c][h][u][2], rho_cond[c][h][u][3]\n",
    "                            lik[c] = 0\n",
    "                        '''if h > 1:    \n",
    "                            try:\n",
    "                                S_inv = np.linalg.inv(Sigma_cond[c][h][u][:3,:3])\n",
    "                                mu_cond_eff = mu_cond[c][h][u][3:] + Sigma_cond[c][h][u][3:,:3].dot(S_inv).dot(v_pere - mu_cond[c][h][u][:3])\n",
    "                                sigma_cond_eff = Sigma_cond[c][h][u][3:,3:] - Sigma_cond[c][h][u][3:,:3].dot(S_inv).dot(Sigma_cond[c][h][u][:3,3:]) \n",
    "                            except:\n",
    "                                print c,h, u, ':matrice singulière', rho_ref\n",
    "                                #S_inv = np.linalg.inv(Sigma_cond[c][h][u][:3,:3]+eps * np.eye(3,3))\n",
    "                                mu_cond_eff = mu_cond[c][h][u][3:]\n",
    "                                sigma_cond_eff = Sigma_cond[c][h][u][3:,3:]\n",
    "                        else:\n",
    "                            try:\n",
    "                                S_inv = np.linalg.inv(Sigma_cond[c][h][u][:1,:1])\n",
    "                                mu_cond_eff = mu_cond[c][h][u][1:] + Sigma_cond[c][h][u][1:,:1].dot(S_inv).dot(v_pere - mu_cond[c][h][u][:1])\n",
    "                                sigma_cond_eff = Sigma_cond[c][h][u][1:,1:] - Sigma_cond[c][h][u][1:,:1].dot(S_inv).dot(Sigma_cond[c][h][u][:1,1:]) \n",
    "                            except:\n",
    "                                #S_inv = np.linalg.inv(Sigma_cond[c][h][u][:1,:1] + eps)\n",
    "                                print c,h, u, ':matrice singulière'\n",
    "                                mu_cond_eff = mu_cond[c][h][u][1:]\n",
    "                                sigma_cond_eff = Sigma_cond[c][h][u][1:,1:]\n",
    "                        if np.linalg.norm(mu_cond_eff) > 1e-16:\n",
    "                            #if is_pd(sigma_cond_eff):\n",
    "                            try:\n",
    "                                dist = multivariate_normal(mean = mu_cond_eff, cov = sigma_cond_eff)\n",
    "                                #print 'mean =', mu[c][h][u]\n",
    "                                #print 'cov =', Sigma[c][h][u]\n",
    "                            except:\n",
    "                                print 'PB conditionnement!!', c, h, u, rho_ref\n",
    "                                dist = multivariate_normal(mean = mu_cond_eff, cov = np.diagflat(np.diag(np.abs(sigma_cond_eff))))\n",
    "                                #dist = multivariate_normal(mean = mu_cond[c][h][u][3:], cov = Sigma_cond[c][h][u][3:,3:])\n",
    "                            lik[c] = rho_ref * dist.pdf(v)\n",
    "                                #lik[c] = 0\n",
    "                        else:\n",
    "                            lik[c] = 0'''\n",
    "                        \n",
    "                else:\n",
    "                    dist = multivariate_normal(mean = mu_cond[c][h][u], cov = Sigma_cond[c][h][u])\n",
    "                    lik[c] =dist.pdf(v)\n",
    "                lik[c] = max(lik[c],1e-16)\n",
    "            #print 'lik =' + str(lik) \n",
    "            log_score += np.log(lik) \n",
    "            max_log_score = max(log_score)\n",
    "            #print 'log_score', log_score\n",
    "            #print 'max(log_score) :', max_log_score\n",
    "            log_score -= max_log_score\n",
    "            Z = np.sum(np.exp(log_score))\n",
    "            pi = np.exp(log_score)/Z\n",
    "            mem_pi += [pi]\n",
    "            #for c in range(10):\n",
    "            #    pi[c] = lik[c]/lik.sum()\n",
    "            #print 'pi =' + str(pi)\n",
    "            #print 'max(pi) = ',max(pi)\n",
    "            sum_H = - pi * np.log(lik)\n",
    "            #print np.log(lik)\n",
    "            #print '****', 'c :', c_ref, ', h :', h, ', u :',u, ' ---> ', np.where(pi == max(pi))[0][0]\n",
    "            #print '**** H = ',sum_H.sum()\n",
    "    c_out =  np.where(pi == max(pi))[0][0]\n",
    "    mem_c_out += [c_out]\n",
    "    print i, c_out\n",
    "    "
   ]
  },
  {
   "cell_type": "code",
   "execution_count": null,
   "metadata": {},
   "outputs": [],
   "source": [
    "np.where(np.array(mem_c_out)==8,1,0).sum()"
   ]
  },
  {
   "cell_type": "markdown",
   "metadata": {},
   "source": [
    "## Test proba conditionnelle #2"
   ]
  },
  {
   "cell_type": "code",
   "execution_count": null,
   "metadata": {
    "scrolled": true
   },
   "outputs": [],
   "source": [
    "from scipy.stats import multivariate_normal\n",
    "\n",
    "c_ref = 8\n",
    "#h = 0\n",
    "#u = (0,0)\n",
    "mem_c_out = []\n",
    "mem_classif = []\n",
    "        \n",
    "eps = 1e-6\n",
    "for c_ref in range(10):  \n",
    "    for i in range(100):\n",
    "        pi = np.ones(10) / 10\n",
    "        log_score = np.zeros(10)\n",
    "        mem_pi = [pi]\n",
    "        for h in range(6):\n",
    "            #print '*************************'\n",
    "            #print '*********' , 'h = ' , h , '************'\n",
    "            #print '*************************'\n",
    "            for u in calc_U((32, 32), h, 6):\n",
    "                #print U[h]\n",
    "                #u = (u_ref[1],u_ref[2])\n",
    "                lik_joint = np.zeros(10)\n",
    "                lik_pere = np.zeros(10)\n",
    "                #print ''\n",
    "                #print h, u\n",
    "                for c in range(10):\n",
    "                    if h == 0: \n",
    "                        v = Data_test[c_ref][h][u][i]\n",
    "                        dist = multivariate_normal(mean = mu_cond[c][h][u], cov = Sigma_cond[c][h][u])\n",
    "                        lik_joint[c] = dist.pdf(v)\n",
    "                        lik_pere[c] = 1\n",
    "                    else: # h > 1\n",
    "                        if h > 1:\n",
    "                            v_pere = Data_test[c_ref][h - 1][(u[0] / 2, u[1] / 2)][i]\n",
    "                            v = np.concatenate((v_pere, Data_test[c_ref][h][u][i]), axis = 0)\n",
    "                        else:\n",
    "                            v_pere = Data_test[c_ref][h - 1][u][i]\n",
    "                            v = np.concatenate(([v_pere], Data_test[c_ref][h][u][i]), axis = 0)\n",
    "                        v_fils = Data_test[c_ref][h][u][i]\n",
    "\n",
    "                        if np.linalg.norm(v_pere) < 1e-16 and np.linalg.norm(v_fils) < 1e-16:\n",
    "                            #print '#1'\n",
    "                            lik_joint[c] = rho_cond[c][h][u][0]\n",
    "                            lik_pere[c] = rho_cond[c][h][u][0] + rho_cond[c][h][u][1]\n",
    "\n",
    "                        elif np.linalg.norm(v_pere) < 1e-16 and np.linalg.norm(v_fils) > 1e-16:\n",
    "                            '''print '#2'\n",
    "                            try:\n",
    "                                dist_joint = multivariate_normal(mean = mu_cond[c][h][u], cov = Sigma_cond[c][h][u])\n",
    "                            except:\n",
    "                                dist_joint = multivariate_normal(mean = mu_cond[c][h][u], cov = np.diagflat(np.diag(np.abs(Sigma_cond[c][h][u]))))\n",
    "                            rho_joint = rho_cond[c][h][u][1]\n",
    "                            lik_joint[c] = rho_joint * dist_joint.pdf(v)'''\n",
    "                            lik_joint[c] = rho_cond[c][h][u][0]\n",
    "                            lik_pere[c] = rho_cond[c][h][u][0] + rho_cond[c][h][u][1]\n",
    "\n",
    "                        elif np.linalg.norm(v_pere) > 1e-16 and np.linalg.norm(v_fils) < 1e-16:\n",
    "                            #print '#3'\n",
    "                            lik_joint[c] = rho_cond[c][h][u][2] \n",
    "                            #try:\n",
    "                            #    dist_pere = multivariate_normal(mean = mu_cond[c][h][u][:3], cov = Sigma_cond[c][h][u][:3,:3])\n",
    "                            #except:\n",
    "                            #    print 'pb conditionnement pere'\n",
    "                            #    dist_pere = multivariate_normal(mean = mu_cond[c][h][u][:3], cov = np.diagflat(np.diag(np.abs(Sigma_cond[c][h][u][:3,:3]))))\n",
    "                            rho_pere = rho_cond[c][h][u][2] + rho_cond[c][h][u][3]\n",
    "                            lik_pere[c] = rho_pere #* dist_pere.pdf(v_pere)\n",
    "                        else :  \n",
    "                            if np.linalg.norm(mu_cond[c][h][u]) > 1e-16:\n",
    "                                try:\n",
    "                                    dist_joint = multivariate_normal(mean = mu_cond[c][h][u], cov = Sigma_cond[c][h][u])\n",
    "                                except:\n",
    "                                    dist_joint = multivariate_normal(mean = mu_cond[c][h][u], cov = np.diagflat(np.diag(np.abs(Sigma_cond[c][h][u]))))\n",
    "                                    print 'Problème conditionnement proba jointe :', c, h, u  \n",
    "                                rho_joint = rho_cond[c][h][u][3]\n",
    "                                lik_joint[c] = rho_joint * dist_joint.pdf(v)\n",
    "                            else:\n",
    "                                lik_joint[c] = rho_cond[c][h][u][2] \n",
    "                            if h >1 :\n",
    "                                if np.linalg.norm(mu_cond[c][h][u][:3]) > 1e-16:\n",
    "                                    try:\n",
    "                                        dist_pere = multivariate_normal(mean = mu_cond[c][h][u][:3], cov = Sigma_cond[c][h][u][:3,:3])\n",
    "                                    except:\n",
    "                                        dist_pere = multivariate_normal(mean = mu_cond[c][h][u][:3], cov = np.diagflat(np.diag(np.abs(Sigma_cond[c][h][u][:3,:3]))))\n",
    "                                        print 'Problème conditionnement proba pere :', c, h, u \n",
    "                                    rho_pere = rho_cond[c][h][u][2] + rho_cond[c][h][u][3]\n",
    "                                    lik_pere[c] = rho_pere * dist_pere.pdf(v_pere)\n",
    "                                else:\n",
    "                                    # le père est vecteur nul\n",
    "                                    lik_pere[c] = rho_cond[c][h][u][0] + rho_cond[c][h][u][1]\n",
    "                            else:\n",
    "                                try:\n",
    "                                    dist_pere = multivariate_normal(mean = mu_cond[c][h][u][:1], cov = Sigma_cond[c][h][u][:1,:1])\n",
    "                                except:\n",
    "                                    dist_pere = multivariate_normal(mean = mu_cond[c][h][u][:1], cov = np.diagflat(np.diag(np.abs(Sigma_cond[c][h][u][:1,:1]))))\n",
    "                                rho_pere = rho_cond[c][h][u][2] + rho_cond[c][h][u][3]\n",
    "                                lik_pere[c] = rho_pere * dist_pere.pdf(v_pere)\n",
    "\n",
    "                    if np.isnan(lik_pere[c]):\n",
    "                        print 'Problème isnan proba pere :', c, h, u  \n",
    "                        lik_pere[c] = 1\n",
    "                    else:\n",
    "                        lik_pere[c] = max(lik_pere[c],1e-16) \n",
    "                    if np.isnan(lik_joint[c]):\n",
    "                        print 'Problème isnan proba jointe : ', c, h, u  \n",
    "                        lik_joint[c] = 1e-16\n",
    "                    else:\n",
    "                        lik_joint[c] = max(lik_joint[c],1e-16)    \n",
    "                #print 'log_joint :', np.log(lik_joint)\n",
    "                #print 'log_pere :', np.log(lik_pere)\n",
    "                #print 'difference :', np.log(lik_joint) - np.log(lik_pere) \n",
    "                #print 'lik =' + str(lik) \n",
    "                log_score += np.log(lik_joint) - np.log(lik_pere) \n",
    "                max_log_score = max(log_score)\n",
    "                #print 'log_score', log_score\n",
    "                #print 'max(log_score) :', max_log_score\n",
    "                log_score -= max_log_score\n",
    "                Z = np.sum(np.exp(log_score))\n",
    "                pi = np.exp(log_score)/Z\n",
    "                mem_pi += [pi]\n",
    "                #for c in range(10):\n",
    "                #    pi[c] = lik[c]/lik.sum()\n",
    "                #print 'pi =' + str(pi)\n",
    "                #print 'max(pi) = ',max(pi)\n",
    "                sum_H = - pi * np.log(lik)\n",
    "                #print np.log(lik)\n",
    "                #print '****', 'c :', c_ref, ', h :', h, ', u :',u, ' ---> ', np.where(pi == max(pi))[0][0]\n",
    "                #print '**** H = ',sum_H.sum()\n",
    "                #print \"pi :\", pi, np.sum(pi)\n",
    "        c_out =  np.where(pi == max(pi))[0][0]\n",
    "        mem_c_out += [c_out]\n",
    "        mem_classif += [c_out == c_ref]\n",
    "        print i, c_out\n",
    "    "
   ]
  },
  {
   "cell_type": "code",
   "execution_count": null,
   "metadata": {},
   "outputs": [],
   "source": [
    "np.where(np.array(mem_c_out)==8,1,0).sum()"
   ]
  },
  {
   "cell_type": "code",
   "execution_count": null,
   "metadata": {},
   "outputs": [],
   "source": [
    "np.where(np.array(mem_correct)==True,1,0).sum()"
   ]
  },
  {
   "cell_type": "code",
   "execution_count": null,
   "metadata": {
    "scrolled": true
   },
   "outputs": [],
   "source": [
    "for i in range(5):\n",
    "    try:\n",
    "        np.linalg.inv(Sigma_cond[2][5][(14,10)][:3,:3])\n",
    "    except:\n",
    "        print 'error!'"
   ]
  },
  {
   "cell_type": "code",
   "execution_count": null,
   "metadata": {},
   "outputs": [],
   "source": [
    "np.diagflat(np.diag(sigma_cond_eff))"
   ]
  },
  {
   "cell_type": "code",
   "execution_count": null,
   "metadata": {
    "scrolled": true
   },
   "outputs": [],
   "source": [
    "plt.figure(figsize = (12,6))\n",
    "plt.semilogy(mem_pi)\n",
    "plt.ylim([1e-30,10])\n",
    "#plt.legend()"
   ]
  },
  {
   "cell_type": "code",
   "execution_count": null,
   "metadata": {},
   "outputs": [],
   "source": [
    "np.where(np.array(mem_c_out)==3,1,0).sum()"
   ]
  },
  {
   "cell_type": "code",
   "execution_count": null,
   "metadata": {},
   "outputs": [],
   "source": [
    "mem_c_out\n"
   ]
  },
  {
   "cell_type": "markdown",
   "metadata": {},
   "source": [
    "## Test reconnaissance en profondeur (saccade unique)\n",
    "\n",
    "Tests entropie effective \n",
    "\n",
    "On constate un biais de confirmation de l'hypothèse initiale"
   ]
  },
  {
   "cell_type": "markdown",
   "metadata": {},
   "source": [
    "## Modèle prédictif"
   ]
  },
  {
   "cell_type": "markdown",
   "metadata": {},
   "source": [
    "### Test fonctions MAJ"
   ]
  },
  {
   "cell_type": "code",
   "execution_count": null,
   "metadata": {
    "scrolled": true
   },
   "outputs": [],
   "source": [
    "h_max = 6\n",
    "c_ref = 8\n",
    "#h = 0\n",
    "#u = (0,0)\n",
    "mem_out_final = []\n",
    "\n",
    "for i in range(100):\n",
    "    if i % 10 == 0:\n",
    "        print i\n",
    "    pi = np.ones(10) / 10\n",
    "    log_score = np.zeros(10)\n",
    "    mem_pi = [pi]\n",
    "    mem_H = [np.sum(- pi * np.log(pi))]\n",
    "    for h in range(h_max):\n",
    "        #print '*************************'\n",
    "        #print '*********' , 'h = ' , h , '************'\n",
    "        #print '*************************'\n",
    "        for u in U[h]:\n",
    "            v = Data_test[c_ref][h][u][i]\n",
    "            lik = calc_lik(v,h,u)\n",
    "            #print 'lik =' + str(lik) \n",
    "            log_score = update_log_score(log_score, lik)\n",
    "            #print 'log_score =' + str(log_score) \n",
    "            pi_moins = pi\n",
    "            pi = calc_pi(log_score)\n",
    "            mem_pi += [pi]\n",
    "            #print 'pi =' + str(pi)\n",
    "            #print 'max(pi) = ',max(pi)\n",
    "            F = np.sum(- pi * (np.log(lik) - np.log(pi) + np.log(pi_moins)))\n",
    "            H = np.sum(- pi * np.log(pi))\n",
    "            mem_H += [H]\n",
    "            #print '****', 'c :', c_ref, ', h :', h, ', u :',u, ' ---> ', np.where(pi == max(pi))[0][0]\n",
    "            #print '**** H = ', H\n",
    "            #print '**** F = ', F\n",
    "    out = np.argmax(pi)\n",
    "    mem_out_final += [out]\n",
    "    "
   ]
  },
  {
   "cell_type": "code",
   "execution_count": null,
   "metadata": {},
   "outputs": [],
   "source": [
    "np.where(np.array(mem_out_final)==8,1,0).sum()"
   ]
  },
  {
   "cell_type": "code",
   "execution_count": null,
   "metadata": {},
   "outputs": [],
   "source": [
    "plt.figure(figsize = (20,4))\n",
    "plt.subplot(1,3,1)\n",
    "affiche_mnist(Data_test, c_ref, i)\n",
    "plt.subplot(1,3,2)\n",
    "plt.semilogy(mem_pi)\n",
    "plt.ylim([1e-30,10])\n",
    "plt.title('$\\pi$')\n",
    "plt.subplot(1,3,3)\n",
    "plt.plot(mem_H)\n",
    "plt.title('Entropy')\n"
   ]
  },
  {
   "cell_type": "code",
   "execution_count": null,
   "metadata": {},
   "outputs": [],
   "source": [
    "np.where(np.array(mem_out_final)==8,1,0).sum()"
   ]
  },
  {
   "cell_type": "code",
   "execution_count": null,
   "metadata": {},
   "outputs": [],
   "source": [
    "mem_u_final"
   ]
  },
  {
   "cell_type": "markdown",
   "metadata": {},
   "source": [
    "## Affichage"
   ]
  },
  {
   "cell_type": "code",
   "execution_count": null,
   "metadata": {
    "scrolled": true
   },
   "outputs": [],
   "source": [
    "coeffs_aff = init_coeffs_mnist()\n",
    "cpt = 0\n",
    "path_i = []\n",
    "path_j = []\n",
    "for u in mem_u_final :\n",
    "    path_i += [U[4][u][0]]\n",
    "    path_j += [U[4][u][1]]\n",
    "    plt.figure(figsize = (20,4))\n",
    "    plt.subplot(1,4,1)\n",
    "    affiche_mnist(Data_test, c_ref, i)\n",
    "    affiche_path_mnist(path_i, path_j)\n",
    "    plt.title(cpt)\n",
    "    plt.subplot(1,4,2)    \n",
    "    coord = U[4][u]  \n",
    "    print 'coords :', coord\n",
    "    \n",
    "    affiche_mnist_coord(Data_test, coeffs_aff, c_ref, i, coord)\n",
    "    affiche_path_mnist(path_i, path_j)\n",
    "    plt.subplot(1,4,3)\n",
    "    plt.plot(mem_pi_copy[cpt])\n",
    "    plt.title('$\\pi$, out = '+str(mem_out[cpt]))\n",
    "    plt.ylim([0,1.05])\n",
    "    plt.subplot(1,4,4)\n",
    "    plt.plot(mem_H_copy[cpt])\n",
    "    plt.title('Entropy')\n",
    "    plt.ylim([0,2.4])\n",
    "    cpt += 1"
   ]
  },
  {
   "cell_type": "markdown",
   "metadata": {},
   "source": [
    "**Commentaire** : test avec `pi_MC_plus` : les saccades se focalisent sur les petits details, difficulté à atteindre un autre quart d'image que le quart initial (niveau h = 1 trop peu discriminant) ==> il faut appliquer cette technique sur la totalité de l'image."
   ]
  },
  {
   "cell_type": "markdown",
   "metadata": {},
   "source": [
    "## Predictive coding"
   ]
  },
  {
   "cell_type": "code",
   "execution_count": null,
   "metadata": {},
   "outputs": [],
   "source": [
    "pi_predictive_sorted = calc_pi_predictive_sorted()\n",
    "for c in range(10):\n",
    "    image_moy = np.mean(np.array(data_visu[c]),0)\n",
    "    plt.figure(figsize=(12,8))\n",
    "    plt.subplot(131)\n",
    "    plt.imshow(-image_moy, interpolation='nearest', cmap='gray')\n",
    "    plt.title(c)\n",
    "    path_i = []\n",
    "    path_j = []\n",
    "    image_pi = np.zeros((14,14))\n",
    "    for cpt in range(10):\n",
    "        #(pi_pred,(h,u)) = pi_predictive_sorted[c].pop()\n",
    "        (pi_pred,(h,u)) = pi_predictive_eff[c][cpt]\n",
    "        #print c,pi_pred\n",
    "        path_i += [U[4][u][0]]\n",
    "        path_j += [U[4][u][1]]\n",
    "    affiche_path_mnist(path_i, path_j)\n",
    "    \n",
    "    plt.subplot(132)\n",
    "    for cpt in range(196):\n",
    "        (pi_pred,(h,u)) = pi_predictive_eff[c][cpt]\n",
    "        image_pi[u[0],u[1]] = pi_pred\n",
    "        \n",
    "    \n",
    "    plt.imshow(image_pi, interpolation='nearest', cmap = 'gist_heat_r', vmin = 0, vmax = 1)\n",
    "    \n",
    "    \n"
   ]
  },
  {
   "cell_type": "markdown",
   "metadata": {},
   "source": [
    "## Modèle baseline"
   ]
  },
  {
   "cell_type": "code",
   "execution_count": null,
   "metadata": {},
   "outputs": [],
   "source": [
    "mem_out_final = []\n",
    "mem_turn = []\n",
    "\n",
    "for i in range(100):\n",
    "    x = mnist.test.images[i]\n",
    "    scores = []\n",
    "    for c in range(10):\n",
    "        scores += [np.dot(x, lin_mnist[c])]\n",
    "    mem_out_final += [np.argmax(scores) == mnist.test.labels[i]]\n",
    "        "
   ]
  },
  {
   "cell_type": "code",
   "execution_count": null,
   "metadata": {},
   "outputs": [],
   "source": [
    "np.sum(mem_out_final)"
   ]
  },
  {
   "cell_type": "markdown",
   "metadata": {},
   "source": [
    "## Modèle prédictif rapide"
   ]
  },
  {
   "cell_type": "code",
   "execution_count": null,
   "metadata": {},
   "outputs": [],
   "source": [
    "c_ref = 2\n",
    "print '*****', c_ref, '*****'\n",
    "\n",
    "mem_out_final = []\n",
    "mem_turn = []\n",
    "\n",
    "for i in range(100):\n",
    "    pi = np.ones(10) / 10\n",
    "    log_score = np.zeros(10)\n",
    "    mem_pi = [pi]\n",
    "    mem_pi_copy = []\n",
    "    mem_H = [np.sum(- pi * np.log(pi))]\n",
    "    mem_H_copy = []\n",
    "    mem_h_u = []\n",
    "    mem_out = []\n",
    "    \n",
    "    # Initialisation\n",
    "    '''(h,u) = (-1,-1)\n",
    "    v = Data_test[c_ref][h][u][i]     \n",
    "    lik = calc_lik(v,h,u)\n",
    "    print 'lik : ', lik\n",
    "    log_score = update_log_score(log_score, lik)\n",
    "    #print 'log_score : ', log_score\n",
    "    pi = calc_pi(log_score)\n",
    "    print 'pi : ', pi\n",
    "    mem_pi += [pi]\n",
    "    H = np.sum(- pi * np.log(pi))\n",
    "    mem_H += [H]\n",
    "    print '****', 'c :', c_ref, ', h :', h, ', u :',u, ' ---> ', np.where(pi == max(pi))[0][0] '''   \n",
    "    \n",
    "    (h, u) = (0, (0, 0))\n",
    "    mem_h_u_todo = {(0, (0, 0)):1}\n",
    "    for u_add in U[5]:\n",
    "        mem_h_u_todo[(5, u_add)] = 1\n",
    "\n",
    "    \n",
    "    TOUR = 0\n",
    "    END = False\n",
    "    VU = False\n",
    "    SEUIL = False\n",
    "    liste_u = []\n",
    "    mem_u_final = []\n",
    "\n",
    "    # Premiere estimation pi (0,(0,0))\n",
    "    mem_h_u += [(h,u)]\n",
    "    mem_h_u_todo.pop((h,u))\n",
    "    v = Data_test[c_ref][h][u][i]     \n",
    "    lik = calc_lik(v,h,u)\n",
    "    print 'lik : ', lik\n",
    "    log_score = update_log_score(log_score, lik)\n",
    "    print 'log_score : ', log_score\n",
    "    pi = calc_pi(log_score)\n",
    "    print 'pi : ', pi\n",
    "    mem_pi += [pi]\n",
    "    H = np.sum(- pi * np.log(pi))\n",
    "    print 'H : ', H\n",
    "    mem_H += [H]\n",
    "    print '****', 'c :', c_ref, ', h :', h, ', u :',u, ' ---> ', np.argmax(pi)\n",
    "    out = np.argmax(pi)\n",
    "    \n",
    "    pi_predictive_sorted = {} #calc_pi_predictive_sorted()\n",
    "    for c in range(10):\n",
    "        pi_predictive_sorted[c] = sorted(pi_predictive_eff[c])\n",
    "\n",
    "    while END == False:\n",
    "        \n",
    "        # CHOIX\n",
    "        c_predictive = np.argmax(pi)\n",
    "        \n",
    "        #print 'pi_predictive_sorted[', c_predictive, '] :', pi_predictive_sorted[c_predictive]\n",
    "        #c = raw_input()\n",
    "        (pi_plus, (h,u)) = pi_predictive_sorted[c_predictive].pop()\n",
    "        \n",
    "        if (h, u) in mem_h_u_todo:\n",
    "            mem_h_u_todo.pop((h,u))\n",
    "        else:\n",
    "            while (h, u) not in mem_h_u_todo:\n",
    "                (pi_plus, (h,u)) = pi_predictive_sorted[c_predictive].pop()\n",
    "            mem_h_u_todo.pop((h,u))\n",
    "        #print h_plus, u_plus\n",
    "        print 'CHOIX : u =', u        \n",
    "        \n",
    "        # LECTURE\n",
    "        liste_path = calcule_asc_path(h, u)\n",
    "        for (h_path, u_path) in reversed(liste_path):\n",
    "            if (h_path, u_path) not in mem_h_u:\n",
    "                v = Data_test[c_ref][h_path][u_path][i] \n",
    "                lik_path = calc_lik(v, h_path, u_path)\n",
    "                log_score = update_log_score(log_score, lik_path)\n",
    "                mem_h_u += [(h_path, u_path)]\n",
    "                pi = calc_pi(log_score)\n",
    "                print 'pi : ', pi\n",
    "                mem_pi += [pi]\n",
    "                H = np.sum(- pi * np.log(pi))\n",
    "                out = np.argmax(pi)\n",
    "                print 'pi[out] : ', pi[out]\n",
    "                print 'H : ', H\n",
    "                mem_H += [H]\n",
    "                \n",
    "        print '****', 'c :', c_ref, ', h :', h, ', u :',u, ' ---> ', np.argmax(pi)\n",
    "        mem_u_final += [u]\n",
    "        mem_pi_copy += [list(mem_pi)]\n",
    "        mem_H_copy += [list(mem_H)]\n",
    "        mem_out += [out]\n",
    "        #if TOUR == len(U[4]) - 1 or pi[out] > .999999:\n",
    "        if TOUR == len(U[h_max - 1]) - 1 or pi[out] > .9999:\n",
    "        #if TOUR == 8 or pi[out] > .999:\n",
    "            END = True\n",
    "            print '************************************'\n",
    "            print '******         FINI          *******'\n",
    "            print '************************************'        \n",
    "            mem_out_final += [out]\n",
    "            mem_turn += [TOUR]\n",
    "        else:\n",
    "            TOUR += 1\n",
    "            print '************************************'\n",
    "            print '******       TOUR    ' + str(TOUR) + '        ******'\n",
    "            print '************************************'\n"
   ]
  },
  {
   "cell_type": "code",
   "execution_count": null,
   "metadata": {},
   "outputs": [],
   "source": [
    "np.where(np.array(mem_out_final)==2,1,0).sum()"
   ]
  },
  {
   "cell_type": "code",
   "execution_count": null,
   "metadata": {},
   "outputs": [],
   "source": [
    "np.mean(mem_turn)"
   ]
  },
  {
   "cell_type": "code",
   "execution_count": null,
   "metadata": {},
   "outputs": [],
   "source": [
    "np.where(np.array(mem_out_final)==2,1,0).sum()"
   ]
  },
  {
   "cell_type": "code",
   "execution_count": null,
   "metadata": {},
   "outputs": [],
   "source": [
    "np.log(lik)"
   ]
  },
  {
   "cell_type": "code",
   "execution_count": null,
   "metadata": {},
   "outputs": [],
   "source": [
    "np.random.random()"
   ]
  },
  {
   "cell_type": "code",
   "execution_count": null,
   "metadata": {},
   "outputs": [],
   "source": [
    "lik_test = [6.47120236e+00,   1.00000000e-16,   5.20558153e-01,   1.37438396e-02,\n",
    "   2.70854267e-05,   1.95244077e-01,   2.48980440e+00,   1.61746086e-04,\n",
    "   3.05114329e-02,   1.48932662e-03]\n",
    "log_score_test = [-44.72913926, -226.20581543,   -2.30103965,  -30.98412798,  -46.28824072,\n",
    "  -32.42211479,  -30.40021047, -100.38374515,    0.,          -52.30459006]\n",
    "print np.log(lik_test)"
   ]
  },
  {
   "cell_type": "code",
   "execution_count": null,
   "metadata": {},
   "outputs": [],
   "source": [
    "log_score_plus = log_score_test + np.log(lik_test)"
   ]
  },
  {
   "cell_type": "code",
   "execution_count": null,
   "metadata": {},
   "outputs": [],
   "source": [
    "log_score_plus"
   ]
  },
  {
   "cell_type": "code",
   "execution_count": null,
   "metadata": {},
   "outputs": [],
   "source": [
    "b_i_inf = 2**(h-5) * i_moins"
   ]
  },
  {
   "cell_type": "code",
   "execution_count": null,
   "metadata": {},
   "outputs": [],
   "source": [
    "a = np.random.multinomial(1,[.25, .25, .25, .25])\n",
    "np.where(a==1)[0][0]"
   ]
  },
  {
   "cell_type": "code",
   "execution_count": null,
   "metadata": {},
   "outputs": [],
   "source": [
    "l = range(10)\n",
    "print l.pop(), l"
   ]
  },
  {
   "cell_type": "code",
   "execution_count": null,
   "metadata": {},
   "outputs": [],
   "source": [
    "x = range(5)\n",
    "y = sorted(x, reverse = True)\n",
    "y[0] = 2\n",
    "print x\n",
    "print y"
   ]
  },
  {
   "cell_type": "code",
   "execution_count": null,
   "metadata": {},
   "outputs": [],
   "source": [
    "colors = plt.cm.rainbow(np.linspace(0, 1, len(path_i)))"
   ]
  },
  {
   "cell_type": "code",
   "execution_count": null,
   "metadata": {},
   "outputs": [],
   "source": [
    "plt.plot(np.random.rand(10), color = colors[1])"
   ]
  },
  {
   "cell_type": "code",
   "execution_count": null,
   "metadata": {},
   "outputs": [],
   "source": [
    "len(path_i)"
   ]
  },
  {
   "cell_type": "code",
   "execution_count": null,
   "metadata": {},
   "outputs": [],
   "source": []
  }
 ],
 "metadata": {
  "kernelspec": {
   "display_name": "Python 2",
   "language": "python",
   "name": "python2"
  },
  "language_info": {
   "codemirror_mode": {
    "name": "ipython",
    "version": 2
   },
   "file_extension": ".py",
   "mimetype": "text/x-python",
   "name": "python",
   "nbconvert_exporter": "python",
   "pygments_lexer": "ipython2",
   "version": "2.7.13"
  }
 },
 "nbformat": 4,
 "nbformat_minor": 1
}
