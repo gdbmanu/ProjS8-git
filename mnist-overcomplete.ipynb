{
 "cells": [
  {
   "cell_type": "code",
   "execution_count": 1,
   "metadata": {
    "collapsed": true,
    "deletable": true,
    "editable": true
   },
   "outputs": [],
   "source": [
    "%matplotlib inline"
   ]
  },
  {
   "cell_type": "code",
   "execution_count": 2,
   "metadata": {
    "collapsed": true,
    "deletable": true,
    "editable": true
   },
   "outputs": [],
   "source": [
    "import numpy as np\n",
    "import scipy as sp\n",
    "import matplotlib.pyplot as plt"
   ]
  },
  {
   "cell_type": "code",
   "execution_count": 3,
   "metadata": {
    "collapsed": false,
    "deletable": true,
    "editable": true
   },
   "outputs": [
    {
     "name": "stdout",
     "output_type": "stream",
     "text": [
      "Extracting MNIST_data/train-images-idx3-ubyte.gz\n",
      "Extracting MNIST_data/train-labels-idx1-ubyte.gz\n",
      "Extracting MNIST_data/t10k-images-idx3-ubyte.gz\n",
      "Extracting MNIST_data/t10k-labels-idx1-ubyte.gz\n"
     ]
    }
   ],
   "source": [
    "from tensorflow.examples.tutorials.mnist import input_data\n",
    "mnist = input_data.read_data_sets(\"MNIST_data/\")\n"
   ]
  },
  {
   "cell_type": "code",
   "execution_count": 4,
   "metadata": {
    "collapsed": true,
    "deletable": true,
    "editable": true
   },
   "outputs": [],
   "source": [
    "import pywt"
   ]
  },
  {
   "cell_type": "code",
   "execution_count": 63,
   "metadata": {
    "collapsed": false
   },
   "outputs": [
    {
     "name": "stdout",
     "output_type": "stream",
     "text": [
      "0 (2, 21)\n",
      "1 (2, 21) (2, 21) (2, 21)\n"
     ]
    }
   ],
   "source": [
    "coeffs_ref = pywt.wavedec2(np.zeros((3,42)), 'haar')\n",
    "\n",
    "print 0, coeffs_ref[0].shape\n",
    "for i in range(1,len(coeffs_ref)):\n",
    "    print i, coeffs_ref[i][0].shape, coeffs_ref[i][1].shape, coeffs_ref[i][2].shape\n"
   ]
  },
  {
   "cell_type": "code",
   "execution_count": 51,
   "metadata": {
    "collapsed": false,
    "deletable": true,
    "editable": true
   },
   "outputs": [
    {
     "name": "stdout",
     "output_type": "stream",
     "text": [
      "0 (1, 1)\n",
      "1 (1, 1) (1, 1) (1, 1)\n",
      "2 (2, 2) (2, 2) (2, 2)\n",
      "3 (4, 4) (4, 4) (4, 4)\n",
      "4 (8, 8) (8, 8) (8, 8)\n",
      "5 (16, 16) (16, 16) (16, 16)\n",
      "[[ 3.7161767]]\n",
      "(array([[-0.06789216]]), array([[-0.59926475]]), array([[-1.02401967]]))\n"
     ]
    }
   ],
   "source": [
    "data = mnist.train.images[1].reshape(28,28)\n",
    "\n",
    "'''data = np.append(np.zeros((10,28)), data, axis = 0)\n",
    "data = np.append(data, np.zeros((10,28)), axis = 0)\n",
    "data = np.append(np.zeros((48,10)), data, axis = 1)\n",
    "data = np.append(data, np.zeros((48,10)), axis = 1)'''\n",
    "\n",
    "data = np.append(np.zeros((2,28)), data, axis = 0)\n",
    "data = np.append(data, np.zeros((2,28)), axis = 0)\n",
    "data = np.append(np.zeros((32,2)), data, axis = 1)\n",
    "data = np.append(data, np.zeros((32,2)), axis = 1)\n",
    "\n",
    "\n",
    "coeffs_ref = pywt.wavedec2(data, 'haar')\n",
    "\n",
    "print 0, coeffs_ref[0].shape\n",
    "for i in range(1,len(coeffs_ref)):\n",
    "    print i, coeffs_ref[i][0].shape, coeffs_ref[i][1].shape, coeffs_ref[i][2].shape\n",
    "\n",
    "print coeffs_ref[0]\n",
    "\n",
    "print coeffs_ref[1]"
   ]
  },
  {
   "cell_type": "code",
   "execution_count": 44,
   "metadata": {
    "collapsed": false,
    "scrolled": true
   },
   "outputs": [
    {
     "data": {
      "text/plain": [
       "17"
      ]
     },
     "execution_count": 44,
     "metadata": {},
     "output_type": "execute_result"
    }
   ],
   "source": [
    "import math\n",
    "int(math.ceil(33./2))"
   ]
  },
  {
   "cell_type": "code",
   "execution_count": 56,
   "metadata": {
    "collapsed": false
   },
   "outputs": [
    {
     "name": "stdout",
     "output_type": "stream",
     "text": [
      "[-0.06789216 -0.59926475 -1.02401967]\n"
     ]
    }
   ],
   "source": [
    "test = np.append(coeffs_ref[1][0], coeffs_ref[1][1])\n",
    "test = np.append(test, coeffs_ref[1][2])\n",
    "print test"
   ]
  },
  {
   "cell_type": "code",
   "execution_count": 8,
   "metadata": {
    "collapsed": false,
    "deletable": true,
    "editable": true
   },
   "outputs": [
    {
     "data": {
      "text/plain": [
       "<matplotlib.image.AxesImage at 0x7fe33935b190>"
      ]
     },
     "execution_count": 8,
     "metadata": {},
     "output_type": "execute_result"
    },
    {
     "data": {
      "image/png": "[encoded data removed]",
      "text/plain": [
       "<matplotlib.figure.Figure at 0x7fe33960d710>"
      ]
     },
     "metadata": {},
     "output_type": "display_data"
    }
   ],
   "source": [
    "plt.imshow(data, interpolation='nearest', cmap = 'gray_r')"
   ]
  },
  {
   "cell_type": "code",
   "execution_count": 9,
   "metadata": {
    "collapsed": false,
    "deletable": true,
    "editable": true
   },
   "outputs": [],
   "source": [
    "def init_coeffs_mnist(MNIST_SHAPE = [(1, 1), (2, 2), (4, 4), (8, 8), (16, 16)]):\n",
    "    coeffs_zero = [np.zeros((2, 2))]\n",
    "    for h in range(1,6):\n",
    "        coeffs_zero += [[]]   \n",
    "        s = MNIST_SHAPE[h-1]\n",
    "        for k in range(3) :\n",
    "            coeffs_zero[h] += [np.zeros(s)]        \n",
    "    return coeffs_zero    "
   ]
  },
  {
   "cell_type": "code",
   "execution_count": 10,
   "metadata": {
    "collapsed": false,
    "deletable": true,
    "editable": true
   },
   "outputs": [],
   "source": [
    "def init_coeffs_mnist_pos(coeffs_ref, MNIST_SHAPE = [(1, 1), (2, 2), (4, 4), (8, 8), (16, 16)]):\n",
    "    coeffs_pos = init_coeffs_mnist()\n",
    "    coeffs_pos[0] = coeffs_ref[0]\n",
    "    coeffs_pos[1] = coeffs_ref[1]\n",
    "    for h in range(2,6):\n",
    "        s = MNIST_SHAPE[h-1][0]\n",
    "        for k in range(3) :\n",
    "            print s, (s - 1) / 2\n",
    "            coeffs_pos[h][k][(s - 1) / 2][(s - 1) / 2] = coeffs_ref[h][k][(s - 1) / 2][(s - 1) / 2]       \n",
    "            coeffs_pos[h][k][(s - 1) / 2][(s - 1) / 2 + 1] = coeffs_ref[h][k][(s - 1) / 2][(s - 1) / 2 + 1]       \n",
    "            coeffs_pos[h][k][(s - 1) / 2 + 1][(s - 1) / 2] = coeffs_ref[h][k][(s - 1) / 2 + 1][(s - 1) / 2]       \n",
    "            coeffs_pos[h][k][(s - 1) / 2 + 1][(s - 1) / 2 + 1] = coeffs_ref[h][k][(s - 1) / 2 + 1][(s - 1) / 2 + 1]       \n",
    "    return coeffs_pos    "
   ]
  },
  {
   "cell_type": "code",
   "execution_count": 11,
   "metadata": {
    "collapsed": false,
    "deletable": true,
    "editable": true
   },
   "outputs": [],
   "source": [
    "coeffs_zero = init_coeffs_mnist()"
   ]
  },
  {
   "cell_type": "code",
   "execution_count": 12,
   "metadata": {
    "collapsed": false,
    "deletable": true,
    "editable": true
   },
   "outputs": [
    {
     "name": "stdout",
     "output_type": "stream",
     "text": [
      "2 0\n",
      "2 0\n",
      "2 0\n",
      "4 1\n",
      "4 1\n",
      "4 1\n",
      "8 3\n",
      "8 3\n",
      "8 3\n",
      "16 7\n",
      "16 7\n",
      "16 7\n"
     ]
    },
    {
     "data": {
      "image/png": "[encoded data removed]",
      "text/plain": [
       "<matplotlib.figure.Figure at 0x7fe335a37e10>"
      ]
     },
     "metadata": {},
     "output_type": "display_data"
    }
   ],
   "source": [
    "data = mnist.train.images[2].reshape(28,28)\n",
    "\n",
    "data = np.append(np.zeros((2,28)), data, axis = 0)\n",
    "data = np.append(data, np.zeros((2,28)), axis = 0)\n",
    "data = np.append(np.zeros((32,2)), data, axis = 1)\n",
    "data = np.append(data, np.zeros((32,2)), axis = 1)\n",
    "coeffs_ref = pywt.wavedec2(data, 'haar')\n",
    "\n",
    "coeffs_pos = init_coeffs_mnist_pos(coeffs_ref)\n",
    "\n",
    "plt.figure(figsize=(20,8))\n",
    "plt.subplot(1,2,1)\n",
    "plt.imshow(data, interpolation='nearest', cmap='gray_r')\n",
    "plt.subplot(1,2,2)\n",
    "plt.imshow(pywt.waverec2(coeffs_pos, 'haar'), interpolation='nearest', cmap='gray_r')\n",
    "plt.plot([-0.5, 31.5],[15.5, 15.5],'r--')\n",
    "plt.plot([15.5, 15.5],[-0.5, 31.5],'r--')\n",
    "plt.xlim([-0.5, 31.5])\n",
    "plt.ylim([-0.5, 31.5])\n",
    "plt.gca().invert_yaxis()"
   ]
  },
  {
   "cell_type": "code",
   "execution_count": 13,
   "metadata": {
    "collapsed": false,
    "deletable": true,
    "editable": true
   },
   "outputs": [
    {
     "name": "stdout",
     "output_type": "stream",
     "text": [
      "[ 0.25159314] [-0.75306378] [ 0.95943633]\n",
      "[-1.64338244 -1.43700989  0.43235297  0.71691181] [-1.64338244  1.43700989 -0.43235297  2.14485307] [ 1.64338244 -1.43700989 -0.43235297  0.71691181]\n",
      "[-0.21323531 -1.41029419  0.86470594  0.36960787] [-1.20931377 -0.49264709 -0.34705885  2.20980406] [-1.05049027 -0.33186277 -0.34705885 -0.28235296]\n",
      "[-0.85882357 -1.92254914  1.21176479  0.16568628] [ 0.36078432 -0.03431373  0.25490197 -1.40098047] [ 0.59803925 -0.03431373  0.25490197  0.16176471]\n",
      "[-0.52156867  0.81960791  0.27843139] [-0.2627451   0.16470588 -0.29019609] [-0.25490196  0.05098038  0.18431374]\n"
     ]
    }
   ],
   "source": [
    "for h in  range(1,6):\n",
    "    indices_0 = np.nonzero(coeffs_pos[h][0])\n",
    "    indices_1 = np.nonzero(coeffs_pos[h][1])\n",
    "    indices_2 = np.nonzero(coeffs_pos[h][2])\n",
    "    print coeffs_pos[h][0][indices_0], coeffs_pos[h][1][indices_1], coeffs_pos[h][2][indices_2]"
   ]
  },
  {
   "cell_type": "markdown",
   "metadata": {
    "deletable": true,
    "editable": true
   },
   "source": [
    "Idée : à chaque image (magnifiée au centre) est associé un double problème de classification : \n",
    " * position de l'oeil dans l'image : P(u)\n",
    " * classe de l'objet : P(c)\n",
    " \n",
    "Pour chaque image observée: \n",
    " 1. determiner u\n",
    " 1. determiner P(c|u)\n",
    " 1. choisir c\n",
    " 1. determiner u_next = argmax_u' P(c|u')\n",
    " 1. commande Delta_u = u'-u\n"
   ]
  },
  {
   "cell_type": "code",
   "execution_count": 14,
   "metadata": {
    "collapsed": false,
    "deletable": true,
    "editable": true
   },
   "outputs": [
    {
     "ename": "NameError",
     "evalue": "name 'coeffs' is not defined",
     "output_type": "error",
     "traceback": [
      "\u001b[0;31m---------------------------------------------------------------------------\u001b[0m",
      "\u001b[0;31mNameError\u001b[0m                                 Traceback (most recent call last)",
      "\u001b[0;32m<ipython-input-14-cb1687fd38a7>\u001b[0m in \u001b[0;36m<module>\u001b[0;34m()\u001b[0m\n\u001b[0;32m----> 1\u001b[0;31m \u001b[0mnp\u001b[0m\u001b[0;34m.\u001b[0m\u001b[0mshape\u001b[0m\u001b[0;34m(\u001b[0m\u001b[0mcoeffs\u001b[0m\u001b[0;34m[\u001b[0m\u001b[0;36m2\u001b[0m\u001b[0;34m]\u001b[0m\u001b[0;34m)\u001b[0m\u001b[0;34m\u001b[0m\u001b[0m\n\u001b[0m",
      "\u001b[0;31mNameError\u001b[0m: name 'coeffs' is not defined"
     ]
    }
   ],
   "source": [
    "np.shape(coeffs[2])"
   ]
  },
  {
   "cell_type": "code",
   "execution_count": null,
   "metadata": {
    "collapsed": false,
    "deletable": true,
    "editable": true,
    "scrolled": true
   },
   "outputs": [],
   "source": [
    "np.shape(coeffs[5])"
   ]
  },
  {
   "cell_type": "code",
   "execution_count": null,
   "metadata": {
    "collapsed": true,
    "deletable": true,
    "editable": true
   },
   "outputs": [],
   "source": []
  }
 ],
 "metadata": {
  "kernelspec": {
   "display_name": "Python 2",
   "language": "python",
   "name": "python2"
  },
  "language_info": {
   "codemirror_mode": {
    "name": "ipython",
    "version": 2
   },
   "file_extension": ".py",
   "mimetype": "text/x-python",
   "name": "python",
   "nbconvert_exporter": "python",
   "pygments_lexer": "ipython2",
   "version": "2.7.9"
  }
 },
 "nbformat": 4,
 "nbformat_minor": 2
}
