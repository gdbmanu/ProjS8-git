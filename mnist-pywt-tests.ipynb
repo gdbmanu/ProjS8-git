{
 "cells": [
  {
   "cell_type": "code",
   "execution_count": null,
   "metadata": {
    "collapsed": true,
    "deletable": true,
    "editable": true
   },
   "outputs": [],
   "source": [
    "%matplotlib inline"
   ]
  },
  {
   "cell_type": "code",
   "execution_count": null,
   "metadata": {
    "collapsed": false,
    "deletable": true,
    "editable": true
   },
   "outputs": [],
   "source": [
    "import numpy as np\n",
    "import scipy as sp\n",
    "import matplotlib.pyplot as plt"
   ]
  },
  {
   "cell_type": "code",
   "execution_count": null,
   "metadata": {
    "collapsed": false,
    "deletable": true,
    "editable": true
   },
   "outputs": [],
   "source": [
    "from tensorflow.examples.tutorials.mnist import input_data\n",
    "mnist = input_data.read_data_sets(\"MNIST_data/\")\n"
   ]
  },
  {
   "cell_type": "code",
   "execution_count": null,
   "metadata": {
    "collapsed": false,
    "deletable": true,
    "editable": true,
    "scrolled": true
   },
   "outputs": [],
   "source": [
    "mnist.train.labels[0]"
   ]
  },
  {
   "cell_type": "code",
   "execution_count": null,
   "metadata": {
    "collapsed": false,
    "deletable": true,
    "editable": true
   },
   "outputs": [],
   "source": [
    "mnist.train.images[0][251:260]"
   ]
  },
  {
   "cell_type": "code",
   "execution_count": null,
   "metadata": {
    "collapsed": false,
    "deletable": true,
    "editable": true,
    "scrolled": true
   },
   "outputs": [],
   "source": [
    "for i in range(100):\n",
    "    plt.figure()\n",
    "    plt.imshow(-mnist.train.images[i].reshape(28,28),interpolation='nearest', cmap='gray')\n",
    "    plt.title(mnist.train.labels[i])"
   ]
  },
  {
   "cell_type": "code",
   "execution_count": null,
   "metadata": {
    "collapsed": false,
    "deletable": true,
    "editable": true
   },
   "outputs": [],
   "source": [
    "import pywt"
   ]
  },
  {
   "cell_type": "code",
   "execution_count": null,
   "metadata": {
    "collapsed": false,
    "deletable": true,
    "editable": true
   },
   "outputs": [],
   "source": [
    "data = mnist.train.images[0].reshape(28,28)\n",
    "coeffs = pywt.wavedec2(data, 'haar')\n",
    "for i in range(1,len(coeffs)):\n",
    "    print i, coeffs[i][0].shape, coeffs[i][1].shape, coeffs[i][2].shape"
   ]
  },
  {
   "cell_type": "code",
   "execution_count": null,
   "metadata": {
    "collapsed": true,
    "deletable": true,
    "editable": true
   },
   "outputs": [],
   "source": [
    "def init_coeffs_mnist(coeffs):\n",
    "    coeffs_zero = [np.zeros((2,2))]\n",
    "    for h in range(1,5):\n",
    "        coeffs_zero += [[]]   \n",
    "        for k in range(3) :\n",
    "            s = np.shape(coeffs[h][k])        \n",
    "            coeffs_zero[h] += [np.zeros(s)]        \n",
    "    return coeffs_zero    "
   ]
  },
  {
   "cell_type": "code",
   "execution_count": null,
   "metadata": {
    "collapsed": true,
    "deletable": true,
    "editable": true
   },
   "outputs": [],
   "source": [
    "def add_coeffs_coord(coeffs_ref, coeffs_add, coord):\n",
    "    v_test = np.array(coeffs_add[0])\n",
    "    if np.linalg.norm(v_test) < 1e-16:\n",
    "        coeffs_add[0] = np.copy(coeffs_ref[0])\n",
    "    for h in range(1,5):\n",
    "        h_opp = 5 - h\n",
    "        i = int(coord[0] / 2**h_opp) \n",
    "        j = int(coord[1] / 2**h_opp)\n",
    "        print i, j\n",
    "        v_test = np.array([coeffs_add[h][0][i,j], coeffs_add[h][1][i,j], coeffs_add[h][2][i,j]])\n",
    "        if np.linalg.norm(v_test) < 1e-16:\n",
    "            for k in range(3) :\n",
    "                coeffs_add[h][k][i,j] = coeffs_ref[h][k][i,j]\n",
    "            "
   ]
  },
  {
   "cell_type": "code",
   "execution_count": null,
   "metadata": {
    "collapsed": false,
    "deletable": true,
    "editable": true
   },
   "outputs": [],
   "source": [
    "def copy_coeffs_mnist(coeffs):\n",
    "    coeffs_copy = []\n",
    "    coeffs_copy += [coeffs[0].copy()]\n",
    "    for h in range(1,5):\n",
    "        coeffs_copy += [[]]    \n",
    "        for k in range(3) :\n",
    "            coeffs_copy[h] += [np.copy(coeffs[h][k])]\n",
    "    return coeffs_copy    "
   ]
  },
  {
   "cell_type": "code",
   "execution_count": null,
   "metadata": {
    "collapsed": true,
    "deletable": true,
    "editable": true
   },
   "outputs": [],
   "source": [
    "def calcule_path(coord, axes):\n",
    "    path_i = []\n",
    "    path_j = []\n",
    "    for h in range(0,5):\n",
    "        h_opp = 5 - h\n",
    "        coord_i = int(coord[0] / 2**h_opp) \n",
    "        coord_j = int(coord[1] / 2**h_opp)    \n",
    "        path_i += [axes[h][coord_i]]\n",
    "        path_j += [axes[h][coord_j]]\n",
    "    return path_i, path_j"
   ]
  },
  {
   "cell_type": "code",
   "execution_count": null,
   "metadata": {
    "collapsed": false,
    "deletable": true,
    "editable": true
   },
   "outputs": [],
   "source": [
    "coeffs_test = copy_coeffs_mnist(coeffs)\n",
    "coeffs_zero = init_coeffs_mnist(coeffs)\n",
    "        \n",
    "plt.figure(figsize=(12,8))\n",
    "plt.subplot(131)\n",
    "plt.imshow(-pywt.waverec2(coeffs_test, 'haar'), interpolation='nearest', cmap='gray')\n",
    "\n",
    "for k in range(3) :\n",
    "    coeffs_test[4][k] *= 0\n",
    "    coeffs_zero[4][k] = np.copy(coeffs[4][k])\n",
    "    \n",
    "plt.subplot(132)\n",
    "plt.imshow(-pywt.waverec2(coeffs_test, 'haar'), interpolation='nearest', cmap='gray')\n",
    "\n",
    "plt.subplot(133)\n",
    "plt.imshow(-pywt.waverec2(coeffs_zero, 'haar'), interpolation='nearest', cmap='gray')"
   ]
  },
  {
   "cell_type": "code",
   "execution_count": null,
   "metadata": {
    "collapsed": false,
    "deletable": true,
    "editable": true
   },
   "outputs": [],
   "source": [
    "axes = []\n",
    "for h in range(0,5):\n",
    "    h_opp = 5 - h\n",
    "    b_moins = -.5\n",
    "    b_plus = 27.5\n",
    "    intervalle = b_plus - b_moins\n",
    "    coord_max = int(26.5 / 2**h_opp) + 1\n",
    "    unite = max(intervalle / coord_max, 2**h_opp)\n",
    "    print unite\n",
    "    coords = []\n",
    "    for j in range(coord_max):\n",
    "        coords += [b_moins + (j+.5) * unite]\n",
    "    axes += [coords]\n",
    "print axes\n",
    "print ''\n",
    "\n",
    "U = []\n",
    "for h in range(len(axes)):\n",
    "    #U_ref = {}\n",
    "    #for pos_i in axes[h]:\n",
    "    #    for pos_j in axes[h]:\n",
    "    #        U_ref[h] += [(pos_i, pos_j)]\n",
    "    U += [{}]\n",
    "    for i in range(len(axes[h])):\n",
    "        for j in range(len(axes[h])):\n",
    "            U[h][(i,j)] = (axes[h][i], axes[h][j])    \n",
    "    print 'Niveau ', h, ' : '\n",
    "    print ' U[' , h, '] :', U[h]\n",
    "    #print ' U_ref[h] :', U_ref[h]\n",
    "    print ''\n",
    "    \n",
    "bsup = [1,2,4,7,14, 0]\n",
    "\n",
    "def fils_rec(h,i,j):\n",
    "    if h < 5 and i < bsup[h] and j < bsup[h] :\n",
    "        rep = [(h,(i,j)), [], [], [], []]\n",
    "        rep[1] = fils_rec(h+1,i*2, j*2)\n",
    "        rep[2] = fils_rec(h+1,i*2, j*2 + 1)\n",
    "        rep[3] = fils_rec(h+1,i*2 + 1, j*2)\n",
    "        rep[4] = fils_rec(h+1,i*2 + 1, j*2 + 1)\n",
    "    else:\n",
    "        rep = []\n",
    "    return rep\n",
    "    \n",
    "U_tree = fils_rec(0,0,0) \n",
    "\n",
    "print U_tree\n"
   ]
  },
  {
   "cell_type": "code",
   "execution_count": null,
   "metadata": {
    "collapsed": false,
    "deletable": true,
    "editable": true
   },
   "outputs": [],
   "source": [
    "#coord = (10.5,10.5)\n",
    "#coord = (8.5,16.5)\n",
    "#coord = (16.5,4.5)\n",
    "\n",
    "t = 1\n",
    "\n",
    "data = mnist.train.images[t].reshape(28,28)\n",
    "coeffs = pywt.wavedec2(data, 'haar')\n",
    "\n",
    "coeffs_coord = init_coeffs_mnist(coeffs)\n",
    "\n",
    "for coord in [(10.5,10.5), (8.5,16.5), (16.5,4.5)]:\n",
    "    add_coeffs_coord(coeffs, coeffs_coord, coord)\n",
    "\n",
    "    plt.figure(figsize=(20,12))\n",
    "\n",
    "    path_i, path_j = calcule_path(coord, axes)\n",
    "\n",
    "    plt.subplot(131)\n",
    "    plt.imshow(-pywt.waverec2(coeffs, 'haar'), interpolation='nearest', cmap='gray')\n",
    "    #for u in U_ref:\n",
    "    #    plt.plot(u[1],u[0],'+',color='b',markersize=12)\n",
    "    plt.plot(path_j,path_i,'r')\n",
    "    plt.plot(path_j,path_i,'r+',markersize=12)\n",
    "    plt.plot(coord[1],coord[0],'+',color='r',markersize=12)\n",
    "    plt.xlim([b_moins,b_plus])\n",
    "    plt.ylim([b_moins,b_plus])\n",
    "    plt.gca().invert_yaxis()\n",
    "\n",
    "    plt.subplot(132)\n",
    "    plt.imshow(-pywt.waverec2(coeffs_coord, 'haar'), interpolation='nearest', cmap='gray')\n",
    "    plt.plot(path_j,path_i,'r')\n",
    "    plt.plot(path_j,path_i,'r+',markersize=12)\n",
    "    plt.plot(coord[1],coord[0],'+',color='r',markersize=12)\n",
    "    plt.xlim([b_moins,b_plus])\n",
    "    plt.ylim([b_moins,b_plus])\n",
    "    plt.gca().invert_yaxis()\n"
   ]
  },
  {
   "cell_type": "markdown",
   "metadata": {
    "collapsed": true,
    "deletable": true,
    "editable": true
   },
   "source": [
    "## Creation de la base"
   ]
  },
  {
   "cell_type": "code",
   "execution_count": null,
   "metadata": {
    "collapsed": false,
    "deletable": true,
    "editable": true
   },
   "outputs": [],
   "source": [
    "len(mnist.train.images)"
   ]
  },
  {
   "cell_type": "code",
   "execution_count": null,
   "metadata": {
    "collapsed": false,
    "deletable": true,
    "editable": true
   },
   "outputs": [],
   "source": [
    "B = []\n",
    "for i in range(len(mnist.train.images)):\n",
    "    c = mnist.train.labels[i]\n",
    "    x = mnist.train.images[i].reshape(28,28)\n",
    "    coeffs = pywt.wavedec2(x, 'haar')\n",
    "    u0 = (0,0) #U[0][0]\n",
    "    v0 = np.array([coeffs[0][0][1], coeffs[0][1][0], coeffs[0][1][1]])\n",
    "    B += [(v0,(c, 0, u0))]\n",
    "    for h in range(1,5):\n",
    "        for u in U[h]:\n",
    "            #v = np.array([coeffs[h][0][u[1]][u[2]], coeffs[h][1][u[1]][u[2]], coeffs[h][2][u[1]][u[2]]])\n",
    "            v = np.array([coeffs[h][0][u[0]][u[1]], coeffs[h][1][u[0]][u[1]], coeffs[h][2][u[0]][u[1]]])\n",
    "            #if np.linalg.norm(v) > 1e-16:\n",
    "            #B += [(v,(c,u))]\n",
    "            B += [(v,(c,h,u))]            "
   ]
  },
  {
   "cell_type": "markdown",
   "metadata": {
    "collapsed": false,
    "deletable": true,
    "editable": true,
    "scrolled": false
   },
   "source": [
    "## Base de test"
   ]
  },
  {
   "cell_type": "code",
   "execution_count": null,
   "metadata": {
    "collapsed": true,
    "deletable": true,
    "editable": true
   },
   "outputs": [],
   "source": [
    "B_test = []\n",
    "for i in range(len(mnist.test.images)):\n",
    "    c = mnist.test.labels[i]\n",
    "    x = mnist.test.images[i].reshape(28,28)\n",
    "    coeffs = pywt.wavedec2(x, 'haar')\n",
    "    u0 = (0,0) #U[0][0]\n",
    "    v0 = np.array([coeffs[0][0][1], coeffs[0][1][0], coeffs[0][1][1]])\n",
    "    B_test += [(v0,(c, 0, u0))]\n",
    "    for h in range(1,5):\n",
    "        for u in U[h]:\n",
    "            #v = np.array([coeffs[h][0][u[1]][u[2]], coeffs[h][1][u[1]][u[2]], coeffs[h][2][u[1]][u[2]]])\n",
    "            v = np.array([coeffs[h][0][u[0]][u[1]], coeffs[h][1][u[0]][u[1]], coeffs[h][2][u[0]][u[1]]])\n",
    "            #if np.linalg.norm(v) > 1e-16:\n",
    "            #B += [(v,(c,u))]\n",
    "            B_test += [(v,(c,h,u))]            "
   ]
  },
  {
   "cell_type": "markdown",
   "metadata": {
    "collapsed": false,
    "deletable": true,
    "editable": true
   },
   "source": [
    "## Test images simple"
   ]
  },
  {
   "cell_type": "code",
   "execution_count": null,
   "metadata": {
    "collapsed": false,
    "deletable": true,
    "editable": true
   },
   "outputs": [],
   "source": [
    "data_visu = [[],[],[],[],[],[],[],[],[],[]]\n",
    "for i in range(len(mnist.train.images)):\n",
    "    c = mnist.train.labels[i]\n",
    "    x = mnist.train.images[i].reshape(28,28)\n",
    "    data_visu[c] += [x]\n"
   ]
  },
  {
   "cell_type": "code",
   "execution_count": null,
   "metadata": {
    "collapsed": false,
    "deletable": true,
    "editable": true
   },
   "outputs": [],
   "source": [
    "image_moy_moy = np.zeros((28,28))\n",
    "for c in range(10):\n",
    "    image_moy = np.mean(np.array(data_visu[c]),0)\n",
    "    image_moy_moy += image_moy\n",
    "    plt.figure(figsize=(12,8))\n",
    "    plt.subplot(131)\n",
    "    plt.imshow(-image_moy, interpolation='nearest', cmap='gray')\n",
    "    plt.title(c)\n",
    "plt.figure(figsize=(12,8))\n",
    "plt.subplot(131)\n",
    "plt.imshow(-image_moy_moy, interpolation='nearest', cmap='gray')\n",
    "plt.title('all')"
   ]
  },
  {
   "cell_type": "markdown",
   "metadata": {
    "deletable": true,
    "editable": true
   },
   "source": [
    "## Dictionnaire"
   ]
  },
  {
   "cell_type": "code",
   "execution_count": null,
   "metadata": {
    "collapsed": false,
    "deletable": true,
    "editable": true
   },
   "outputs": [],
   "source": [
    "Data = [[],[],[],[],[],[],[],[],[],[]]\n",
    "for c in range(10):\n",
    "    Data[c] = [{},{},{},{},{}] \n",
    "    \n",
    "for d in B:\n",
    "    v = d[0]\n",
    "    c = d[1][0]\n",
    "    h = d[1][1]\n",
    "    pos = d[1][2]\n",
    "    if pos in Data[c][h]:\n",
    "        Data[c][h][pos] += [v]\n",
    "    else:\n",
    "        Data[c][h][pos] = [v]\n"
   ]
  },
  {
   "cell_type": "markdown",
   "metadata": {
    "deletable": true,
    "editable": true
   },
   "source": [
    "## Base de test"
   ]
  },
  {
   "cell_type": "code",
   "execution_count": null,
   "metadata": {
    "collapsed": true,
    "deletable": true,
    "editable": true
   },
   "outputs": [],
   "source": [
    "Data_test = [[],[],[],[],[],[],[],[],[],[]]\n",
    "for c in range(10):\n",
    "    Data_test[c] = [{},{},{},{},{}] \n",
    "    \n",
    "for d in B_test:\n",
    "    v = d[0]\n",
    "    c = d[1][0]\n",
    "    h = d[1][1]\n",
    "    pos = d[1][2]\n",
    "    if pos in Data_test[c][h]:\n",
    "        Data_test[c][h][pos] += [v]\n",
    "    else:\n",
    "        Data_test[c][h][pos] = [v]\n"
   ]
  },
  {
   "cell_type": "code",
   "execution_count": null,
   "metadata": {
    "collapsed": false,
    "deletable": true,
    "editable": true
   },
   "outputs": [],
   "source": [
    "print np.mean(Data[0][0][(0,0)],0)\n",
    "print np.mean(Data[0][1][(0,0)],0)\n",
    "print np.mean(Data[0][1][(0,1)],0)\n",
    "print np.mean(Data[0][2][(0,0)],0)\n",
    "print np.mean(Data[0][2][(0,1)],0)\n"
   ]
  },
  {
   "cell_type": "code",
   "execution_count": null,
   "metadata": {
    "collapsed": false,
    "deletable": true,
    "editable": true
   },
   "outputs": [],
   "source": [
    "c = 1\n",
    "h = 0\n",
    "i = 0\n",
    "j = 0\n",
    "len(Data[c][h][(i,j)])"
   ]
  },
  {
   "cell_type": "code",
   "execution_count": null,
   "metadata": {
    "collapsed": false,
    "deletable": true,
    "editable": true
   },
   "outputs": [],
   "source": [
    "from mpl_toolkits.mplot3d import Axes3D\n",
    "fig = plt.figure(figsize = (12,12))\n",
    "ax = fig.add_subplot(111, projection='3d')\n",
    "\n",
    "h = 0 #4\n",
    "i = 0 #5\n",
    "j = 0 #5\n",
    "\n",
    "test = np.array(Data[0][h][(i,j)])\n",
    "ax.scatter(test[:,0], test[:,1], test[:,2],c='r', marker = 'o')\n",
    "\n",
    "test2 = np.array(Data[1][h][(i,j)])\n",
    "ax.scatter(test2[:,0], test2[:,1], test2[:,2],c='b', marker = '^')\n",
    "\n",
    "test3 = np.array(Data[3][h][(i,j)])\n",
    "ax.scatter(test3[:,0], test3[:,1], test3[:,2],c='g', marker = 'd')\n",
    "\n",
    "ax.view_init(20, -30)\n",
    "\n",
    "'''for angle in range(0, 360):\n",
    "    ax.view_init(30, angle)\n",
    "    plt.draw()\n",
    "    plt.pause(.001)'''"
   ]
  },
  {
   "cell_type": "markdown",
   "metadata": {
    "collapsed": true,
    "deletable": true,
    "editable": true
   },
   "source": [
    "## Probas elementaires "
   ]
  },
  {
   "cell_type": "code",
   "execution_count": null,
   "metadata": {
    "collapsed": false,
    "deletable": true,
    "editable": true
   },
   "outputs": [],
   "source": [
    "mu = []\n",
    "Sigma = []\n",
    "rho = []\n",
    "for c in range(10):\n",
    "    mu += [[]]\n",
    "    Sigma += [[]]\n",
    "    rho += [[]]\n",
    "    for h in range(5):\n",
    "        mu[c] += [{}]\n",
    "        Sigma[c] += [{}]\n",
    "        rho[c] += [{}]\n",
    "        for u in U[h]:\n",
    "            if u in Data[c][h]:\n",
    "                data = []\n",
    "                cpt = 0\n",
    "                for v in Data[c][h][u]:\n",
    "                    if np.linalg.norm(v) < 1e-16:\n",
    "                        cpt += 1\n",
    "                    else:\n",
    "                        data += [v]\n",
    "                if len(data) > 1:\n",
    "                    mu[c][h][u] = np.mean(Data[c][h][u],0)\n",
    "                    Sigma[c][h][u] = np.cov(np.array(Data[c][h][u]).T)\n",
    "                    rho[c][h][u] = float(cpt) / len(Data[c][h][u])\n",
    "                else:\n",
    "                    mu[c][h][u] = np.zeros(3)\n",
    "                    Sigma[c][h][u] = np.zeros((3,3))\n",
    "                    rho[c][h][u] = 1.\n",
    "            "
   ]
  },
  {
   "cell_type": "code",
   "execution_count": null,
   "metadata": {
    "collapsed": false,
    "deletable": true,
    "editable": true
   },
   "outputs": [],
   "source": [
    "c = 0\n",
    "h = 0 # 4\n",
    "u = (0,0) #(12,12)\n",
    "print mu[c][h][u]\n",
    "print Sigma[c][h][u]\n",
    "print rho[c][h][u]\n"
   ]
  },
  {
   "cell_type": "markdown",
   "metadata": {
    "deletable": true,
    "editable": true
   },
   "source": [
    "## Reconstruction\n"
   ]
  },
  {
   "cell_type": "code",
   "execution_count": null,
   "metadata": {
    "collapsed": false,
    "deletable": true,
    "editable": true,
    "scrolled": true
   },
   "outputs": [],
   "source": [
    "for c in range(10):\n",
    "    coeffs_zero = init_coeffs_mnist(coeffs)\n",
    "\n",
    "    coeffs_zero[0][0,1]= mu[c][0][(0,0)][0]\n",
    "    coeffs_zero[0][1,0] = mu[c][0][(0,0)][1]\n",
    "    coeffs_zero[0][1,1] = mu[c][0][(0,0)][2]\n",
    "    for h in range(1,5):\n",
    "        for u in U[h]:\n",
    "            coeffs_zero[h][0][u[0]][u[1]] = mu[c][h][u][0]\n",
    "            coeffs_zero[h][1][u[0]][u[1]] = mu[c][h][u][1]\n",
    "            coeffs_zero[h][2][u[0]][u[1]] = mu[c][h][u][2]\n",
    "\n",
    "    plt.figure(figsize=(12,8))\n",
    "    plt.subplot(131)\n",
    "    plt.imshow(-pywt.waverec2(coeffs_zero, 'haar'), interpolation='nearest', cmap='gray')\n",
    "\n"
   ]
  },
  {
   "cell_type": "markdown",
   "metadata": {
    "collapsed": true,
    "deletable": true,
    "editable": true
   },
   "source": [
    "## Test distribution"
   ]
  },
  {
   "cell_type": "code",
   "execution_count": null,
   "metadata": {
    "collapsed": false,
    "deletable": true,
    "editable": true
   },
   "outputs": [],
   "source": [
    "fig = plt.figure(figsize = (12,12))\n",
    "ax = fig.add_subplot(111, projection='3d')\n",
    "\n",
    "c = 0\n",
    "h = 3\n",
    "u = (5,5)\n",
    "\n",
    "n = 200\n",
    "\n",
    "test2 = np.random.multivariate_normal(mu[c][h][u], Sigma[c][h][u] , n)\n",
    "#test2 = np.random.multivariate_normal(mu[(c,h,u)], Sig_test * 0 , n)\n",
    "#test2 = np.random.multivariate_normal(-mu[(c,h,u)], np.eye(3,3), n)\n",
    "ax.scatter(test2[:,0], test2[:,1], test2[:,2],c='b', marker = '^')\n",
    "\n",
    "#test3 = np.random.multivariate_normal(-mu[(c,h,u)], np.eye(3,3), n)\n",
    "#ax.scatter(test3[:,0], test3[:,1], test3[:,2],c='g', marker = 'd')\n",
    "\n",
    "index = np.arange(len(Data[c][h][u]))\n",
    "np.random.shuffle(index)\n",
    "test = np.array(Data[c][h][u])\n",
    "ax.scatter(test[index[:n],0], test[index[:n],1], test[index[:n],2],c='r', marker = 'o')\n",
    "\n",
    "ax.view_init(20, -30)"
   ]
  },
  {
   "cell_type": "markdown",
   "metadata": {
    "deletable": true,
    "editable": true
   },
   "source": [
    "## Test proba"
   ]
  },
  {
   "cell_type": "code",
   "execution_count": null,
   "metadata": {
    "collapsed": false,
    "deletable": true,
    "editable": true
   },
   "outputs": [],
   "source": [
    "from scipy.stats import multivariate_normal\n",
    "\n",
    "c_ref = 5\n",
    "#h = 0\n",
    "#u = (0,0)\n",
    "\n",
    "for i in [2]:\n",
    "    pi = np.ones(10) / 10\n",
    "    log_score = np.zeros(10)\n",
    "    mem_pi = [pi]\n",
    "    for h in range(5):\n",
    "        print '*************************'\n",
    "        print '*********' , 'h = ' , h , '************'\n",
    "        print '*************************'\n",
    "        for u in U[h]:\n",
    "            #print U[h]\n",
    "            #u = (u_ref[1],u_ref[2])\n",
    "            lik = np.zeros(10)\n",
    "            for c in range(10):\n",
    "                v = Data_test[c_ref][h][u][i]\n",
    "                if np.linalg.norm(v) < 1e-16:\n",
    "                    lik[c] = rho[c][h][u]\n",
    "                else:\n",
    "                    if np.linalg.norm(mu[c][h][u]) > 1e-16:\n",
    "                        dist = multivariate_normal(mean = mu[c][h][u], cov = Sigma[c][h][u])\n",
    "                        #print 'mean =', mu[c][h][u]\n",
    "                        #print 'cov =', Sigma[c][h][u]\n",
    "                        lik[c] = (1-rho[c][h][u]) * dist.pdf(v)\n",
    "                    else:\n",
    "                        lik[c] = 0\n",
    "                lik[c] = max(lik[c],1e-16)\n",
    "            print 'lik =' + str(lik) \n",
    "            log_score += np.log(lik) \n",
    "            max_log_score = max(log_score)\n",
    "            print 'log_score', log_score\n",
    "            print 'max(log_score) :', max_log_score\n",
    "            log_score -= max_log_score\n",
    "            Z = np.sum(np.exp(log_score))\n",
    "            pi = np.exp(log_score)/Z\n",
    "            mem_pi += [pi]\n",
    "            #for c in range(10):\n",
    "            #    pi[c] = lik[c]/lik.sum()\n",
    "            print 'pi =' + str(pi)\n",
    "            print 'max(pi) = ',max(pi)\n",
    "            sum_H = - pi * np.log(lik)\n",
    "            #print np.log(lik)\n",
    "            print '****', 'c :', c_ref, ', h :', h, ', u :',u, ' ---> ', np.where(pi == max(pi))[0][0]\n",
    "            print '**** H = ',sum_H.sum()\n",
    "    "
   ]
  },
  {
   "cell_type": "code",
   "execution_count": null,
   "metadata": {
    "collapsed": false,
    "deletable": true,
    "editable": true
   },
   "outputs": [],
   "source": [
    "plt.figure(figsize = (12,6))\n",
    "plt.semilogy(mem_pi)\n",
    "plt.ylim([1e-30,10])\n",
    "#plt.legend()"
   ]
  },
  {
   "cell_type": "code",
   "execution_count": null,
   "metadata": {
    "collapsed": false,
    "deletable": true,
    "editable": true
   },
   "outputs": [],
   "source": [
    "mu[c][h][u]"
   ]
  },
  {
   "cell_type": "code",
   "execution_count": null,
   "metadata": {
    "collapsed": false,
    "deletable": true,
    "editable": true
   },
   "outputs": [],
   "source": [
    "np.log(0.06455255)"
   ]
  },
  {
   "cell_type": "code",
   "execution_count": null,
   "metadata": {
    "collapsed": true,
    "deletable": true,
    "editable": true
   },
   "outputs": [],
   "source": []
  }
 ],
 "metadata": {
  "kernelspec": {
   "display_name": "Python 2",
   "language": "python",
   "name": "python2"
  },
  "language_info": {
   "codemirror_mode": {
    "name": "ipython",
    "version": 2
   },
   "file_extension": ".py",
   "mimetype": "text/x-python",
   "name": "python",
   "nbconvert_exporter": "python",
   "pygments_lexer": "ipython2",
   "version": "2.7.9"
  }
 },
 "nbformat": 4,
 "nbformat_minor": 0
}
