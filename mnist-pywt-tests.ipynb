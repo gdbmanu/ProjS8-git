{
 "cells": [
  {
   "cell_type": "code",
   "execution_count": null,
   "metadata": {
    "collapsed": true,
    "deletable": true,
    "editable": true
   },
   "outputs": [],
   "source": [
    "%matplotlib inline"
   ]
  },
  {
   "cell_type": "code",
   "execution_count": null,
   "metadata": {
    "collapsed": false,
    "deletable": true,
    "editable": true
   },
   "outputs": [],
   "source": [
    "import numpy as np\n",
    "import scipy as sp\n",
    "import matplotlib.pyplot as plt"
   ]
  },
  {
   "cell_type": "code",
   "execution_count": null,
   "metadata": {
    "collapsed": false,
    "deletable": true,
    "editable": true
   },
   "outputs": [],
   "source": [
    "from tensorflow.examples.tutorials.mnist import input_data\n",
    "mnist = input_data.read_data_sets(\"MNIST_data/\", one_hot=True)\n"
   ]
  },
  {
   "cell_type": "code",
   "execution_count": null,
   "metadata": {
    "collapsed": false,
    "deletable": true,
    "editable": true,
    "scrolled": true
   },
   "outputs": [],
   "source": [
    "mnist.train.images[0].shape"
   ]
  },
  {
   "cell_type": "code",
   "execution_count": null,
   "metadata": {
    "collapsed": false,
    "deletable": true,
    "editable": true
   },
   "outputs": [],
   "source": [
    "mnist.train.images[0][251:260]"
   ]
  },
  {
   "cell_type": "code",
   "execution_count": null,
   "metadata": {
    "collapsed": false,
    "deletable": true,
    "editable": true,
    "scrolled": true
   },
   "outputs": [],
   "source": [
    "for i in range(100):\n",
    "    plt.figure()\n",
    "    plt.imshow(-mnist.train.images[i].reshape(28,28),interpolation='nearest', cmap='gray')\n",
    "    plt.title(mnist.train.labels[i])"
   ]
  },
  {
   "cell_type": "code",
   "execution_count": null,
   "metadata": {
    "collapsed": false,
    "deletable": true,
    "editable": true
   },
   "outputs": [],
   "source": [
    "import pywt"
   ]
  },
  {
   "cell_type": "code",
   "execution_count": null,
   "metadata": {
    "collapsed": false,
    "deletable": true,
    "editable": true
   },
   "outputs": [],
   "source": [
    "data = mnist.train.images[0].reshape(28,28)\n",
    "coeffs = pywt.wavedec2(data, 'haar')\n",
    "for i in range(1,len(coeffs)):\n",
    "    print i, coeffs[i][0].shape, coeffs[i][1].shape, coeffs[i][2].shape"
   ]
  },
  {
   "cell_type": "code",
   "execution_count": null,
   "metadata": {
    "collapsed": true,
    "deletable": true,
    "editable": true
   },
   "outputs": [],
   "source": [
    "def init_coeffs_mnist(coeffs):\n",
    "    coeffs_zero = [np.zeros((2,2))]\n",
    "    for i in range(1,5):\n",
    "        coeffs_zero += [[]]   \n",
    "        for j in range(3) :\n",
    "            s = np.shape(coeffs[i][j])        \n",
    "            coeffs_zero[i] += [np.zeros(s)]        \n",
    "    return coeffs_zero    "
   ]
  },
  {
   "cell_type": "code",
   "execution_count": null,
   "metadata": {
    "collapsed": true,
    "deletable": true,
    "editable": true
   },
   "outputs": [],
   "source": [
    "def copy_coeffs_mnist(coeffs):\n",
    "    coeffs_test = []\n",
    "    coeffs_test += [coeffs[0].copy()]\n",
    "    for i in range(1,5):\n",
    "        coeffs_test += [[]]    \n",
    "        for j in range(3) :\n",
    "            coeffs_test[i] += [np.copy(coeffs[i][j])]\n",
    "    return coeffs_test    "
   ]
  },
  {
   "cell_type": "code",
   "execution_count": null,
   "metadata": {
    "collapsed": true,
    "deletable": true,
    "editable": true
   },
   "outputs": [],
   "source": [
    "def calcule_path(coord, axes):\n",
    "    path_i = []\n",
    "    path_j = []\n",
    "    for h in range(0,5):\n",
    "        h_opp = 5 - h\n",
    "        coord_i = int(coord[0] / 2**h_opp) \n",
    "        coord_j = int(coord[1] / 2**h_opp)    \n",
    "        path_i += [axes[h][coord_i]]\n",
    "        path_j += [axes[h][coord_j]]\n",
    "    return path_i, path_j"
   ]
  },
  {
   "cell_type": "code",
   "execution_count": null,
   "metadata": {
    "collapsed": false,
    "deletable": true,
    "editable": true
   },
   "outputs": [],
   "source": [
    "coeffs_test = copy_coeffs_mnist(coeffs)\n",
    "coeffs_zero = init_coeffs_mnist(coeffs)\n",
    "        \n",
    "plt.figure(figsize=(12,8))\n",
    "plt.subplot(131)\n",
    "plt.imshow(-pywt.waverec2(coeffs_test, 'haar'), interpolation='nearest', cmap='gray')\n",
    "\n",
    "for j in range(3) :\n",
    "    coeffs_test[4][j] *= 0\n",
    "    coeffs_zero[4][j] = np.copy(coeffs[4][j])\n",
    "    \n",
    "plt.subplot(132)\n",
    "plt.imshow(-pywt.waverec2(coeffs_test, 'haar'), interpolation='nearest', cmap='gray')\n",
    "\n",
    "plt.subplot(133)\n",
    "plt.imshow(-pywt.waverec2(coeffs_zero, 'haar'), interpolation='nearest', cmap='gray')"
   ]
  },
  {
   "cell_type": "code",
   "execution_count": null,
   "metadata": {
    "collapsed": false,
    "deletable": true,
    "editable": true
   },
   "outputs": [],
   "source": [
    "axes = []\n",
    "for h in range(0,5):\n",
    "    h_opp = 5 - h\n",
    "    b_moins = -.5\n",
    "    b_plus = 27.5\n",
    "    intervalle = b_plus - b_moins\n",
    "    coord_max = int(26.5 / 2**h_opp) + 1\n",
    "    unite = max(intervalle / coord_max, 2**h_opp)\n",
    "    print unite\n",
    "    coords = []\n",
    "    for j in range(coord_max):\n",
    "        coords += [b_moins + (j+.5) * unite]\n",
    "    axes += [coords]\n",
    "print axes"
   ]
  },
  {
   "cell_type": "code",
   "execution_count": null,
   "metadata": {
    "collapsed": false,
    "deletable": true,
    "editable": true
   },
   "outputs": [],
   "source": [
    "U_ref = []\n",
    "U = []\n",
    "for h in range(len(axes)):\n",
    "    U_ref += [[]]\n",
    "    for i in axes[h]:\n",
    "        for j in axes[h]:\n",
    "            U_ref[h] += [(i,j)]\n",
    "    U += [[]]\n",
    "    for i in range(len(axes[h])):\n",
    "        for j in range(len(axes[h])):\n",
    "            U[h] += [(h,i,j)]    \n",
    "    print U[h]\n",
    "    print U_ref[h]\n"
   ]
  },
  {
   "cell_type": "code",
   "execution_count": null,
   "metadata": {
    "collapsed": false,
    "deletable": true,
    "editable": true
   },
   "outputs": [],
   "source": [
    "#coord = (10.5,10.5)\n",
    "#coord = (7.5,16.5)\n",
    "coord = (16.5,4.5)\n",
    "\n",
    "coeffs_coord = init_coeffs_mnist(coeffs)\n",
    "coeffs_coord[0] = np.copy(coeffs[0])\n",
    "for h in range(1,5):\n",
    "    h_opp = 5 - h\n",
    "    coord_i = int(coord[0] / 2**h_opp) \n",
    "    coord_j = int(coord[1] / 2**h_opp)\n",
    "    print coord_i, coord_j\n",
    "    for j in range(3) :\n",
    "        coeffs_coord[h][j][coord_i,coord_j] = coeffs[h][j][coord_i,coord_j]\n",
    "        \n",
    "plt.figure(figsize=(20,12))\n",
    "\n",
    "path_i, path_j = calcule_path(coord, axes)\n",
    "\n",
    "plt.subplot(131)\n",
    "plt.imshow(-pywt.waverec2(coeffs, 'haar'), interpolation='nearest', cmap='gray')\n",
    "#for u in U_ref:\n",
    "#    plt.plot(u[1],u[0],'+',color='b',markersize=12)\n",
    "plt.plot(path_j,path_i,'r')\n",
    "plt.plot(path_j,path_i,'r+',markersize=12)\n",
    "plt.plot(coord[1],coord[0],'+',color='r',markersize=12)\n",
    "plt.xlim([b_moins,b_plus])\n",
    "plt.ylim([b_moins,b_plus])\n",
    "plt.gca().invert_yaxis()\n",
    "\n",
    "plt.subplot(132)\n",
    "plt.imshow(-pywt.waverec2(coeffs_coord, 'haar'), interpolation='nearest', cmap='gray')\n",
    "plt.plot(path_j,path_i,'r')\n",
    "plt.plot(path_j,path_i,'r+',markersize=12)\n",
    "plt.plot(coord[1],coord[0],'+',color='r',markersize=12)\n",
    "plt.xlim([b_moins,b_plus])\n",
    "plt.ylim([b_moins,b_plus])\n",
    "plt.gca().invert_yaxis()\n"
   ]
  },
  {
   "cell_type": "markdown",
   "metadata": {
    "collapsed": true,
    "deletable": true,
    "editable": true
   },
   "source": [
    "## Creation de la base"
   ]
  },
  {
   "cell_type": "code",
   "execution_count": null,
   "metadata": {
    "collapsed": false,
    "deletable": true,
    "editable": true
   },
   "outputs": [],
   "source": [
    "len(mnist.train.images)"
   ]
  },
  {
   "cell_type": "code",
   "execution_count": null,
   "metadata": {
    "collapsed": false,
    "deletable": true,
    "editable": true
   },
   "outputs": [],
   "source": [
    "B = []\n",
    "for i in range(len(mnist.train.images)):\n",
    "    c = np.where(mnist.train.labels[i] ==1)[0][0]\n",
    "    x = mnist.train.images[i].reshape(28,28)\n",
    "    coeffs = pywt.wavedec2(x, 'haar')\n",
    "    u0 = U[0][0]\n",
    "    v0 = np.array([coeffs[0][0][1], coeffs[0][1][0], coeffs[0][1][1]])\n",
    "    B += [(v0,(c,u0))]\n",
    "    for h in range(1,5):\n",
    "        for u in U[h]:\n",
    "            v = np.array([coeffs[h][0][u[1]][u[2]], coeffs[h][1][u[1]][u[2]], coeffs[h][2][u[1]][u[2]]])\n",
    "            #if np.linalg.norm(v) > 1e-16:\n",
    "            B += [(v,(c,u))]"
   ]
  },
  {
   "cell_type": "code",
   "execution_count": null,
   "metadata": {
    "collapsed": false,
    "deletable": true,
    "editable": true,
    "scrolled": false
   },
   "outputs": [],
   "source": [
    "len(B)"
   ]
  },
  {
   "cell_type": "code",
   "execution_count": null,
   "metadata": {
    "collapsed": false,
    "deletable": true,
    "editable": true
   },
   "outputs": [],
   "source": [
    "B[2]"
   ]
  },
  {
   "cell_type": "markdown",
   "metadata": {
    "deletable": true,
    "editable": true
   },
   "source": [
    "## Dictionnaire"
   ]
  },
  {
   "cell_type": "code",
   "execution_count": null,
   "metadata": {
    "collapsed": false,
    "deletable": true,
    "editable": true
   },
   "outputs": [],
   "source": [
    "Data = [[],[],[],[],[],[],[],[],[],[]]\n",
    "for c in range(10):\n",
    "    Data[c] = [{},{},{},{},{}] \n",
    "    \n",
    "for d in B:\n",
    "    v = d[0]\n",
    "    c = d[1][0]\n",
    "    h = d[1][1][0]\n",
    "    pos = (d[1][1][1],d[1][1][2])\n",
    "    if pos in Data[c][h]:\n",
    "        Data[c][h][pos] += [v]\n",
    "    else:\n",
    "        Data[c][h][pos] = [v]\n"
   ]
  },
  {
   "cell_type": "code",
   "execution_count": null,
   "metadata": {
    "collapsed": false,
    "deletable": true,
    "editable": true
   },
   "outputs": [],
   "source": [
    "print np.mean(Data[0][0][(0,0)],0)\n",
    "print np.mean(Data[0][1][(0,0)],0)\n",
    "print np.mean(Data[0][1][(0,1)],0)\n",
    "print np.mean(Data[0][2][(0,0)],0)\n",
    "print np.mean(Data[0][2][(0,1)],0)\n"
   ]
  },
  {
   "cell_type": "code",
   "execution_count": null,
   "metadata": {
    "collapsed": false
   },
   "outputs": [],
   "source": [
    "c = 1\n",
    "h = 0\n",
    "i = 0\n",
    "j = 0\n",
    "len(Data[c][h][(i,j)])"
   ]
  },
  {
   "cell_type": "code",
   "execution_count": null,
   "metadata": {
    "collapsed": false,
    "deletable": true,
    "editable": true
   },
   "outputs": [],
   "source": [
    "from mpl_toolkits.mplot3d import Axes3D\n",
    "fig = plt.figure(figsize = (12,12))\n",
    "ax = fig.add_subplot(111, projection='3d')\n",
    "\n",
    "h = 4\n",
    "i = 5\n",
    "j = 5\n",
    "\n",
    "test = np.array(Data[0][h][(i,j)])\n",
    "ax.scatter(test[:,2], test[:,1], test[:,2],c='r', marker = 'o')\n",
    "\n",
    "test2 = np.array(Data[1][h][(i,j)])\n",
    "ax.scatter(test2[:,0], test2[:,1], test2[:,2],c='b', marker = '^')\n",
    "\n",
    "test3 = np.array(Data[3][h][(i,j)])\n",
    "ax.scatter(test3[:,0], test3[:,1], test3[:,2],c='g', marker = 'd')\n",
    "\n",
    "ax.view_init(20, -30)\n",
    "\n",
    "'''for angle in range(0, 360):\n",
    "    ax.view_init(30, angle)\n",
    "    plt.draw()\n",
    "    plt.pause(.001)'''"
   ]
  },
  {
   "cell_type": "markdown",
   "metadata": {
    "collapsed": true,
    "deletable": true,
    "editable": true
   },
   "source": [
    "## Probas elementaires "
   ]
  },
  {
   "cell_type": "code",
   "execution_count": null,
   "metadata": {
    "collapsed": false
   },
   "outputs": [],
   "source": [
    "mu = {}\n",
    "Sigma = {}\n",
    "for c in range(10):\n",
    "    for h in range(5):\n",
    "        for u in U[h]:\n",
    "            u_ref = (u[1],u[2])\n",
    "            if u_ref in Data[c][h]:\n",
    "                if len(Data[c][h][u_ref]) > 1:\n",
    "                    mu[(c,h,u_ref)] = np.mean(Data[c][h][u_ref],0)\n",
    "                    Sigma[(c,h,u_ref)] = np.cov(np.array(Data[c][h][u_ref]).T)\n",
    "            "
   ]
  },
  {
   "cell_type": "code",
   "execution_count": null,
   "metadata": {
    "collapsed": false
   },
   "outputs": [],
   "source": [
    "c = 0\n",
    "h = 4\n",
    "u = (0,0)\n",
    "print mu[(c,h,u)]\n",
    "print Sigma[(c,h,u)]"
   ]
  },
  {
   "cell_type": "code",
   "execution_count": null,
   "metadata": {
    "collapsed": false
   },
   "outputs": [],
   "source": [
    "np.random.randn(3)"
   ]
  },
  {
   "cell_type": "code",
   "execution_count": null,
   "metadata": {
    "collapsed": false
   },
   "outputs": [],
   "source": [
    "## Reconstruction\n",
    "for c in range(10):\n",
    "    coeffs_zero = init_coeffs_mnist(coeffs)\n",
    "\n",
    "    coeffs_zero[0][0,1]= mu[(c,0,(0,0))][0]\n",
    "    coeffs_zero[0][1,0] = mu[(c,0,(0,0))][1]\n",
    "    coeffs_zero[0][1,1] = mu[(c,0,(0,0))][2]\n",
    "    for h in range(1,5):\n",
    "        for u in U[h]:\n",
    "            u_ref = (u[1],u[2])\n",
    "            coeffs_zero[h][0][u[1]][u[2]] = mu[(c,h,u_ref)][0]\n",
    "\n",
    "    plt.figure(figsize=(12,8))\n",
    "    plt.subplot(131)\n",
    "    plt.imshow(-pywt.waverec2(coeffs_zero, 'haar'), interpolation='nearest', cmap='gray')\n",
    "\n"
   ]
  },
  {
   "cell_type": "code",
   "execution_count": null,
   "metadata": {
    "collapsed": true
   },
   "outputs": [],
   "source": []
  }
 ],
 "metadata": {
  "kernelspec": {
   "display_name": "Python 2",
   "language": "python",
   "name": "python2"
  },
  "language_info": {
   "codemirror_mode": {
    "name": "ipython",
    "version": 2
   },
   "file_extension": ".py",
   "mimetype": "text/x-python",
   "name": "python",
   "nbconvert_exporter": "python",
   "pygments_lexer": "ipython2",
   "version": "2.7.9"
  }
 },
 "nbformat": 4,
 "nbformat_minor": 0
}
