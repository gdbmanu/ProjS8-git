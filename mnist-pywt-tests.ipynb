{
 "cells": [
  {
   "cell_type": "code",
   "execution_count": null,
   "metadata": {
    "collapsed": true,
    "deletable": true,
    "editable": true
   },
   "outputs": [],
   "source": [
    "%matplotlib inline"
   ]
  },
  {
   "cell_type": "code",
   "execution_count": null,
   "metadata": {
    "collapsed": false,
    "deletable": true,
    "editable": true
   },
   "outputs": [],
   "source": [
    "import numpy as np\n",
    "import scipy as sp\n",
    "import matplotlib.pyplot as plt"
   ]
  },
  {
   "cell_type": "code",
   "execution_count": null,
   "metadata": {
    "collapsed": false,
    "deletable": true,
    "editable": true
   },
   "outputs": [],
   "source": [
    "from tensorflow.examples.tutorials.mnist import input_data\n",
    "mnist = input_data.read_data_sets(\"MNIST_data/\")\n"
   ]
  },
  {
   "cell_type": "code",
   "execution_count": null,
   "metadata": {
    "collapsed": false,
    "deletable": true,
    "editable": true,
    "scrolled": true
   },
   "outputs": [],
   "source": [
    "mnist.train.labels[0]"
   ]
  },
  {
   "cell_type": "code",
   "execution_count": null,
   "metadata": {
    "collapsed": false,
    "deletable": true,
    "editable": true
   },
   "outputs": [],
   "source": [
    "mnist.train.images[0][251:260]"
   ]
  },
  {
   "cell_type": "code",
   "execution_count": null,
   "metadata": {
    "collapsed": false,
    "deletable": true,
    "editable": true,
    "scrolled": true
   },
   "outputs": [],
   "source": [
    "for i in range(100):\n",
    "    plt.figure()\n",
    "    plt.imshow(-mnist.train.images[i].reshape(28,28),interpolation='nearest', cmap='gray')\n",
    "    plt.title(mnist.train.labels[i])"
   ]
  },
  {
   "cell_type": "code",
   "execution_count": null,
   "metadata": {
    "collapsed": false,
    "deletable": true,
    "editable": true
   },
   "outputs": [],
   "source": [
    "import pywt"
   ]
  },
  {
   "cell_type": "code",
   "execution_count": null,
   "metadata": {
    "collapsed": false,
    "deletable": true,
    "editable": true
   },
   "outputs": [],
   "source": [
    "data = mnist.train.images[0].reshape(28,28)\n",
    "coeffs = pywt.wavedec2(data, 'haar')\n",
    "for i in range(1,len(coeffs)):\n",
    "    print i, coeffs[i][0].shape, coeffs[i][1].shape, coeffs[i][2].shape"
   ]
  },
  {
   "cell_type": "code",
   "execution_count": null,
   "metadata": {
    "collapsed": true,
    "deletable": true,
    "editable": true
   },
   "outputs": [],
   "source": [
    "def init_coeffs_mnist():\n",
    "    MNIST_SHAPE = [(1, 1), (2, 2), (4, 4), (7, 7), (14, 14)]\n",
    "    coeffs_zero = [np.zeros((2, 2))]\n",
    "    for h in range(1 ,5):\n",
    "        coeffs_zero += [[]]   \n",
    "        s = MNIST_SHAPE[h]\n",
    "        for k in range(3) :\n",
    "            coeffs_zero[h] += [np.zeros(s)]        \n",
    "    return coeffs_zero    "
   ]
  },
  {
   "cell_type": "code",
   "execution_count": null,
   "metadata": {
    "collapsed": true,
    "deletable": true,
    "editable": true
   },
   "outputs": [],
   "source": [
    "def add_coeffs_coord(coeffs_ref, coeffs_add, coord):\n",
    "    v_test = np.array(coeffs_add[0])\n",
    "    if np.linalg.norm(v_test) < 1e-16:\n",
    "        coeffs_add[0] = np.copy(coeffs_ref[0])\n",
    "    for h in range(1,5):\n",
    "        h_opp = 5 - h\n",
    "        i = int(coord[0] / 2**h_opp) \n",
    "        j = int(coord[1] / 2**h_opp)\n",
    "        #print i, j\n",
    "        v_test = np.array([coeffs_add[h][0][i,j], coeffs_add[h][1][i,j], coeffs_add[h][2][i,j]])\n",
    "        if np.linalg.norm(v_test) < 1e-16:\n",
    "            for k in range(3) :\n",
    "                coeffs_add[h][k][i,j] = coeffs_ref[h][k][i,j]\n",
    "            "
   ]
  },
  {
   "cell_type": "code",
   "execution_count": null,
   "metadata": {
    "collapsed": false,
    "deletable": true,
    "editable": true
   },
   "outputs": [],
   "source": [
    "def copy_coeffs_mnist(coeffs):\n",
    "    coeffs_copy = []\n",
    "    coeffs_copy += [coeffs[0].copy()]\n",
    "    for h in range(1,5):\n",
    "        coeffs_copy += [[]]    \n",
    "        for k in range(3) :\n",
    "            coeffs_copy[h] += [np.copy(coeffs[h][k])]\n",
    "    return coeffs_copy    "
   ]
  },
  {
   "cell_type": "code",
   "execution_count": null,
   "metadata": {
    "collapsed": true,
    "deletable": true,
    "editable": true
   },
   "outputs": [],
   "source": [
    "def calcule_path(coord, axes):\n",
    "    path_i = []\n",
    "    path_j = []\n",
    "    for h in range(0,5):\n",
    "        h_opp = 5 - h\n",
    "        coord_i = int(coord[0] / 2**h_opp) \n",
    "        coord_j = int(coord[1] / 2**h_opp)    \n",
    "        path_i += [axes[h][coord_i]]\n",
    "        path_j += [axes[h][coord_j]]\n",
    "    return path_i, path_j"
   ]
  },
  {
   "cell_type": "code",
   "execution_count": null,
   "metadata": {
    "collapsed": true,
    "deletable": true,
    "editable": true
   },
   "outputs": [],
   "source": [
    "def calcule_axes_mnist():\n",
    "    axes = []\n",
    "    for h in range(5):\n",
    "        h_opp = 5 - h\n",
    "        b_moins = -.5\n",
    "        b_plus = 27.5\n",
    "        intervalle = b_plus - b_moins\n",
    "        coord_max = int(26.5 / 2**h_opp) + 1\n",
    "        unite = max(intervalle / coord_max, 2**h_opp)\n",
    "        print unite\n",
    "        coords = []\n",
    "        for j in range(coord_max):\n",
    "            coords += [b_moins + (j+.5) * unite]\n",
    "        axes += [coords]\n",
    "    return axes"
   ]
  },
  {
   "cell_type": "code",
   "execution_count": null,
   "metadata": {
    "collapsed": false,
    "deletable": true,
    "editable": true
   },
   "outputs": [],
   "source": [
    "def ajoute_coeffs(coeffs, v, h, u ):\n",
    "    if h == -1 :\n",
    "        coeffs[0][0,0]= v\n",
    "    elif h == 0:\n",
    "        coeffs[0][0,1]= v[0]\n",
    "        coeffs[0][1,0] = v[1]\n",
    "        coeffs[0][1,1] = v[2]\n",
    "    else: \n",
    "        coeffs[h][0][u[0]][u[1]] = v[0]\n",
    "        coeffs[h][1][u[0]][u[1]] = v[1]\n",
    "        coeffs[h][2][u[0]][u[1]] = v[2] \n",
    "\n",
    "def calcule_coeffs_mnist(Data, c, i):\n",
    "    coeffs = init_coeffs_mnist()\n",
    "    for h in range(-1,5):\n",
    "        for u in U[h]:\n",
    "            v = Data[c][h][u][i]\n",
    "            ajoute_coeffs(coeffs, v, h, u)\n",
    "    return coeffs\n",
    "    \n",
    "def affiche_mnist(Data, c, i): \n",
    "    coeffs_aff = calcule_coeffs_mnist(Data, c, i)\n",
    "    plt.imshow(-pywt.waverec2(coeffs_aff, 'haar'), interpolation='nearest', cmap='gray')\n",
    "\n",
    "def affiche_mnist_coord(Data, coeffs_aff, c, i, coord):\n",
    "    coeffs_ref = calcule_coeffs_mnist(Data, c, i)\n",
    "    add_coeffs_coord(coeffs_ref, coeffs_aff, coord)\n",
    "    plt.imshow(-pywt.waverec2(coeffs_aff, 'haar'), interpolation='nearest', cmap='gray')\n",
    "    '''axes = calcule_axes_mnist()\n",
    "    path_i, path_j = calcule_path(coord, axes)\n",
    "    plt.plot(path_j,path_i,'r')\n",
    "    plt.plot(path_j,path_i,'r+',markersize=12)\n",
    "    plt.plot(coord[1],coord[0],'+',color='r',markersize=12)\n",
    "    plt.xlim([b_moins,b_plus])\n",
    "    plt.ylim([b_moins,b_plus])\n",
    "    plt.gca().invert_yaxis()'''\n",
    "\n",
    "def affiche_path_mnist(path_i, path_j):\n",
    "    b_moins = -.5\n",
    "    b_plus = 27.5\n",
    "    plt.plot(path_j,path_i,'r')\n",
    "    plt.plot(path_j,path_i,'r+',markersize=12)\n",
    "    plt.xlim([b_moins,b_plus])\n",
    "    plt.ylim([b_moins,b_plus])\n",
    "    plt.gca().invert_yaxis()"
   ]
  },
  {
   "cell_type": "code",
   "execution_count": null,
   "metadata": {
    "collapsed": false,
    "deletable": true,
    "editable": true
   },
   "outputs": [],
   "source": [
    "coeffs_test = copy_coeffs_mnist(coeffs)\n",
    "coeffs_zero = init_coeffs_mnist()\n",
    "        \n",
    "plt.figure(figsize=(12,8))\n",
    "plt.subplot(131)\n",
    "plt.imshow(-pywt.waverec2(coeffs_test, 'haar'), interpolation='nearest', cmap='gray')\n",
    "\n",
    "for k in range(3) :\n",
    "    coeffs_test[4][k] *= 0\n",
    "    coeffs_zero[4][k] = np.copy(coeffs[4][k])\n",
    "    \n",
    "plt.subplot(132)\n",
    "plt.imshow(-pywt.waverec2(coeffs_test, 'haar'), interpolation='nearest', cmap='gray')\n",
    "\n",
    "plt.subplot(133)\n",
    "plt.imshow(-pywt.waverec2(coeffs_zero, 'haar'), interpolation='nearest', cmap='gray')"
   ]
  },
  {
   "cell_type": "code",
   "execution_count": null,
   "metadata": {
    "collapsed": false,
    "deletable": true,
    "editable": true
   },
   "outputs": [],
   "source": [
    "axes = []\n",
    "for h in range(0,5):\n",
    "    h_opp = 5 - h\n",
    "    b_moins = -.5\n",
    "    b_plus = 27.5\n",
    "    intervalle = b_plus - b_moins\n",
    "    coord_max = int(26.5 / 2**h_opp) + 1\n",
    "    unite = max(intervalle / coord_max, 2**h_opp)\n",
    "    print unite\n",
    "    coords = []\n",
    "    for j in range(coord_max):\n",
    "        coords += [b_moins + (j+.5) * unite]\n",
    "    axes += [coords]\n",
    "print axes\n",
    "print ''\n",
    "\n",
    "U = {-1 : {-1 : -1}}\n",
    "print 'Niveau -1 :'\n",
    "print 'U[-1] :', U[-1]\n",
    "print ''\n",
    "for h in range(len(axes)):\n",
    "    #U_ref = {}\n",
    "    #for pos_i in axes[h]:\n",
    "    #    for pos_j in axes[h]:\n",
    "    #        U_ref[h] += [(pos_i, pos_j)]\n",
    "    U [h] = {}\n",
    "    for i in range(len(axes[h])):\n",
    "        for j in range(len(axes[h])):\n",
    "            U[h][(i,j)] = (axes[h][i], axes[h][j])    \n",
    "    print 'Niveau ', h, ' : '\n",
    "    print ' U[' , h, '] :', U[h]\n",
    "    #print ' U_ref[h] :', U_ref[h]\n",
    "    print ''\n",
    "    \n",
    "bsup = [1,2,4,7,14, 0]\n",
    "\n",
    "def fils_rec(h,i,j):\n",
    "    if h < 5 and i < bsup[h] and j < bsup[h] :\n",
    "        rep = [(h,(i,j)), [], [], [], []]\n",
    "        rep[1] = fils_rec(h+1,i*2, j*2)\n",
    "        rep[2] = fils_rec(h+1,i*2, j*2 + 1)\n",
    "        rep[3] = fils_rec(h+1,i*2 + 1, j*2)\n",
    "        rep[4] = fils_rec(h+1,i*2 + 1, j*2 + 1)\n",
    "    else:\n",
    "        rep = []\n",
    "    return rep\n",
    "    \n",
    "U_tree = fils_rec(0,0,0) \n",
    "\n",
    "print U_tree\n"
   ]
  },
  {
   "cell_type": "code",
   "execution_count": null,
   "metadata": {
    "collapsed": false,
    "deletable": true,
    "editable": true,
    "scrolled": true
   },
   "outputs": [],
   "source": [
    "#coord = (10.5,10.5)\n",
    "#coord = (8.5,16.5)\n",
    "#coord = (16.5,4.5)\n",
    "\n",
    "t = 1\n",
    "\n",
    "data = mnist.train.images[t].reshape(28,28)\n",
    "coeffs = pywt.wavedec2(data, 'haar')\n",
    "\n",
    "coeffs_coord = init_coeffs_mnist()\n",
    "\n",
    "for coord in [(10.5,10.5), (8.5,16.5), (16.5,4.5)]:\n",
    "    add_coeffs_coord(coeffs, coeffs_coord, coord)\n",
    "\n",
    "    plt.figure(figsize=(20,12))\n",
    "\n",
    "    path_i, path_j = calcule_path(coord, axes)\n",
    "\n",
    "    plt.subplot(131)\n",
    "    plt.imshow(-pywt.waverec2(coeffs, 'haar'), interpolation='nearest', cmap='gray')\n",
    "    #for u in U_ref:\n",
    "    #    plt.plot(u[1],u[0],'+',color='b',markersize=12)\n",
    "    plt.plot(path_j,path_i,'r')\n",
    "    plt.plot(path_j,path_i,'r+',markersize=12)\n",
    "    plt.plot(coord[1],coord[0],'+',color='r',markersize=12)\n",
    "    plt.xlim([b_moins,b_plus])\n",
    "    plt.ylim([b_moins,b_plus])\n",
    "    plt.gca().invert_yaxis()\n",
    "\n",
    "    plt.subplot(132)\n",
    "    plt.imshow(-pywt.waverec2(coeffs_coord, 'haar'), interpolation='nearest', cmap='gray')\n",
    "    plt.plot(path_j,path_i,'r')\n",
    "    plt.plot(path_j,path_i,'r+',markersize=12)\n",
    "    plt.plot(coord[1],coord[0],'+',color='r',markersize=12)\n",
    "    plt.xlim([b_moins,b_plus])\n",
    "    plt.ylim([b_moins,b_plus])\n",
    "    plt.gca().invert_yaxis()\n"
   ]
  },
  {
   "cell_type": "markdown",
   "metadata": {
    "collapsed": true,
    "deletable": true,
    "editable": true
   },
   "source": [
    "## Creation de la base d'apprentissage"
   ]
  },
  {
   "cell_type": "code",
   "execution_count": null,
   "metadata": {
    "collapsed": false,
    "deletable": true,
    "editable": true
   },
   "outputs": [],
   "source": [
    "len(mnist.train.images)"
   ]
  },
  {
   "cell_type": "code",
   "execution_count": null,
   "metadata": {
    "collapsed": false,
    "deletable": true,
    "editable": true
   },
   "outputs": [],
   "source": [
    "B = []\n",
    "for i in range(len(mnist.train.images)):\n",
    "    c = mnist.train.labels[i]\n",
    "    x = mnist.train.images[i].reshape(28,28)\n",
    "    coeffs = pywt.wavedec2(x, 'haar')\n",
    "    u_m1 = -1\n",
    "    v_m1 = coeffs[0][0][0]\n",
    "    B += [(v_m1,(c, -1, u_m1))]\n",
    "    u0 = (0,0) #U[0][0]\n",
    "    v0 = np.array([coeffs[0][0][1], coeffs[0][1][0], coeffs[0][1][1]])\n",
    "    B += [(v0,(c, 0, u0))]\n",
    "    for h in range(1,5):\n",
    "        for u in U[h]:\n",
    "            #v = np.array([coeffs[h][0][u[1]][u[2]], coeffs[h][1][u[1]][u[2]], coeffs[h][2][u[1]][u[2]]])\n",
    "            v = np.array([coeffs[h][0][u[0]][u[1]], coeffs[h][1][u[0]][u[1]], coeffs[h][2][u[0]][u[1]]])\n",
    "            #if np.linalg.norm(v) > 1e-16:\n",
    "            #B += [(v,(c,u))]\n",
    "            B += [(v,(c,h,u))]            "
   ]
  },
  {
   "cell_type": "markdown",
   "metadata": {
    "collapsed": false,
    "deletable": true,
    "editable": true,
    "scrolled": false
   },
   "source": [
    "## Base de test"
   ]
  },
  {
   "cell_type": "code",
   "execution_count": null,
   "metadata": {
    "collapsed": true,
    "deletable": true,
    "editable": true
   },
   "outputs": [],
   "source": [
    "B_test = []\n",
    "for i in range(len(mnist.test.images)):\n",
    "    c = mnist.test.labels[i]\n",
    "    x = mnist.test.images[i].reshape(28,28)\n",
    "    coeffs = pywt.wavedec2(x, 'haar')\n",
    "    u_m1 = -1\n",
    "    v_m1 = coeffs[0][0][0]\n",
    "    B_test += [(v_m1,(c, -1, u_m1))]\n",
    "    u0 = (0,0) #U[0][0]\n",
    "    v0 = np.array([coeffs[0][0][1], coeffs[0][1][0], coeffs[0][1][1]])\n",
    "    B_test += [(v0,(c, 0, u0))]\n",
    "    for h in range(1,5):\n",
    "        for u in U[h]:\n",
    "            #v = np.array([coeffs[h][0][u[1]][u[2]], coeffs[h][1][u[1]][u[2]], coeffs[h][2][u[1]][u[2]]])\n",
    "            v = np.array([coeffs[h][0][u[0]][u[1]], coeffs[h][1][u[0]][u[1]], coeffs[h][2][u[0]][u[1]]])\n",
    "            #if np.linalg.norm(v) > 1e-16:\n",
    "            #B += [(v,(c,u))]\n",
    "            B_test += [(v,(c,h,u))]            "
   ]
  },
  {
   "cell_type": "markdown",
   "metadata": {
    "collapsed": false,
    "deletable": true,
    "editable": true
   },
   "source": [
    "## Test images simple"
   ]
  },
  {
   "cell_type": "code",
   "execution_count": null,
   "metadata": {
    "collapsed": false,
    "deletable": true,
    "editable": true
   },
   "outputs": [],
   "source": [
    "data_visu = [[],[],[],[],[],[],[],[],[],[]]\n",
    "for i in range(len(mnist.train.images)):\n",
    "    c = mnist.train.labels[i]\n",
    "    x = mnist.train.images[i].reshape(28,28)\n",
    "    data_visu[c] += [x]\n"
   ]
  },
  {
   "cell_type": "code",
   "execution_count": null,
   "metadata": {
    "collapsed": false,
    "deletable": true,
    "editable": true
   },
   "outputs": [],
   "source": [
    "image_moy_moy = np.zeros((28,28))\n",
    "for c in range(10):\n",
    "    image_moy = np.mean(np.array(data_visu[c]),0)\n",
    "    image_moy_moy += image_moy\n",
    "    plt.figure(figsize=(12,8))\n",
    "    plt.subplot(131)\n",
    "    plt.imshow(-image_moy, interpolation='nearest', cmap='gray')\n",
    "    plt.title(c)\n",
    "plt.figure(figsize=(12,8))\n",
    "plt.subplot(131)\n",
    "plt.imshow(-image_moy_moy, interpolation='nearest', cmap='gray')\n",
    "plt.title('all')"
   ]
  },
  {
   "cell_type": "markdown",
   "metadata": {
    "deletable": true,
    "editable": true
   },
   "source": [
    "## Dictionnaire (Base d'apprentissage)"
   ]
  },
  {
   "cell_type": "code",
   "execution_count": null,
   "metadata": {
    "collapsed": false,
    "deletable": true,
    "editable": true
   },
   "outputs": [],
   "source": [
    "Data = [[],[],[],[],[],[],[],[],[],[]]\n",
    "for c in range(10):\n",
    "    Data[c] = [{},{},{},{},{}] \n",
    "    \n",
    "for d in B:\n",
    "    v = d[0]\n",
    "    c = d[1][0]\n",
    "    h = d[1][1]\n",
    "    u = d[1][2]\n",
    "    if u in Data[c][h]:\n",
    "        Data[c][h][u] += [v]\n",
    "    else:\n",
    "        Data[c][h][u] = [v]\n"
   ]
  },
  {
   "cell_type": "markdown",
   "metadata": {
    "deletable": true,
    "editable": true
   },
   "source": [
    "## Dictionnaire (Base de test)"
   ]
  },
  {
   "cell_type": "code",
   "execution_count": null,
   "metadata": {
    "collapsed": true,
    "deletable": true,
    "editable": true
   },
   "outputs": [],
   "source": [
    "Data_test = [[],[],[],[],[],[],[],[],[],[]]\n",
    "for c in range(10):\n",
    "    Data_test[c] = [{},{},{},{},{}] \n",
    "    \n",
    "for d in B_test:\n",
    "    v = d[0]\n",
    "    c = d[1][0]\n",
    "    h = d[1][1]\n",
    "    u = d[1][2]\n",
    "    if u in Data_test[c][h]:\n",
    "        Data_test[c][h][u] += [v]\n",
    "    else:\n",
    "        Data_test[c][h][u] = [v]\n"
   ]
  },
  {
   "cell_type": "code",
   "execution_count": null,
   "metadata": {
    "collapsed": false,
    "deletable": true,
    "editable": true
   },
   "outputs": [],
   "source": [
    "print np.mean(Data[0][0][(0,0)],0)\n",
    "print np.mean(Data[0][1][(0,0)],0)\n",
    "print np.mean(Data[0][1][(0,1)],0)\n",
    "print np.mean(Data[0][2][(0,0)],0)\n",
    "print np.mean(Data[0][2][(0,1)],0)\n"
   ]
  },
  {
   "cell_type": "code",
   "execution_count": null,
   "metadata": {
    "collapsed": false,
    "deletable": true,
    "editable": true
   },
   "outputs": [],
   "source": [
    "print Data[5][0][(0,0)]"
   ]
  },
  {
   "cell_type": "code",
   "execution_count": null,
   "metadata": {
    "collapsed": false,
    "deletable": true,
    "editable": true
   },
   "outputs": [],
   "source": [
    "c = 1\n",
    "h = -1\n",
    "i = 0\n",
    "j = 0\n",
    "len(Data[c][h][(i,j)])"
   ]
  },
  {
   "cell_type": "code",
   "execution_count": null,
   "metadata": {
    "collapsed": false,
    "deletable": true,
    "editable": true
   },
   "outputs": [],
   "source": [
    "from mpl_toolkits.mplot3d import Axes3D\n",
    "fig = plt.figure(figsize = (12,12))\n",
    "ax = fig.add_subplot(111, projection='3d')\n",
    "\n",
    "h = 0 #4\n",
    "i = 0 #5\n",
    "j = 0 #5\n",
    "\n",
    "test = np.array(Data[0][h][(i,j)])\n",
    "ax.scatter(test[:,0], test[:,1], test[:,2],c='r', marker = 'o')\n",
    "\n",
    "test2 = np.array(Data[1][h][(i,j)])\n",
    "ax.scatter(test2[:,0], test2[:,1], test2[:,2],c='b', marker = '^')\n",
    "\n",
    "test3 = np.array(Data[3][h][(i,j)])\n",
    "ax.scatter(test3[:,0], test3[:,1], test3[:,2],c='g', marker = 'd')\n",
    "\n",
    "ax.view_init(20, -30)\n",
    "\n",
    "'''for angle in range(0, 360):\n",
    "    ax.view_init(30, angle)\n",
    "    plt.draw()\n",
    "    plt.pause(.001)'''"
   ]
  },
  {
   "cell_type": "markdown",
   "metadata": {
    "collapsed": true,
    "deletable": true,
    "editable": true
   },
   "source": [
    "## Probas elementaires "
   ]
  },
  {
   "cell_type": "code",
   "execution_count": null,
   "metadata": {
    "collapsed": false,
    "deletable": true,
    "editable": true
   },
   "outputs": [],
   "source": [
    "mu = []\n",
    "Sigma = []\n",
    "rho = []\n",
    "for c in range(10):\n",
    "    mu += [{}]\n",
    "    Sigma += [{}]\n",
    "    rho += [{}]\n",
    "    for h in range(-1,5):\n",
    "        mu[c][h] = {}\n",
    "        Sigma[c][h] = {}\n",
    "        rho[c][h] = {}\n",
    "        for u in U[h]:\n",
    "            if u in Data[c][h]:\n",
    "                data = []\n",
    "                cpt = 0\n",
    "                for v in Data[c][h][u]:\n",
    "                    if np.linalg.norm(v) < 1e-16:\n",
    "                        cpt += 1\n",
    "                    else:\n",
    "                        data += [v]\n",
    "                if h == -1 :\n",
    "                    print len(data)\n",
    "                if len(data) > 1:\n",
    "                    mu[c][h][u] = np.mean(data, 0) #Data[c][h][u],0)\n",
    "                    Sigma[c][h][u] = np.cov(np.array(data).T) #Data[c][h][u]).T)\n",
    "                    rho[c][h][u] = float(cpt) / len(Data[c][h][u])\n",
    "                else:\n",
    "                    mu[c][h][u] = np.zeros(3)\n",
    "                    Sigma[c][h][u] = np.zeros((3,3))\n",
    "                    rho[c][h][u] = 1.\n",
    "            "
   ]
  },
  {
   "cell_type": "code",
   "execution_count": null,
   "metadata": {
    "collapsed": false,
    "deletable": true,
    "editable": true
   },
   "outputs": [],
   "source": [
    "c = 0\n",
    "h = -1 # 4\n",
    "u = -1 #(12,12)\n",
    "print mu[c][h][u]\n",
    "print Sigma[c][h][u]\n",
    "print rho[c][h][u]\n"
   ]
  },
  {
   "cell_type": "code",
   "execution_count": null,
   "metadata": {
    "collapsed": false,
    "deletable": true,
    "editable": true
   },
   "outputs": [],
   "source": [
    "mu[0][-1][-1]"
   ]
  },
  {
   "cell_type": "markdown",
   "metadata": {
    "deletable": true,
    "editable": true
   },
   "source": [
    "## Reconstruction\n"
   ]
  },
  {
   "cell_type": "code",
   "execution_count": null,
   "metadata": {
    "collapsed": false,
    "deletable": true,
    "editable": true,
    "scrolled": true
   },
   "outputs": [],
   "source": [
    "for c in range(10):\n",
    "    coeffs_zero = init_coeffs_mnist()\n",
    "    coeffs_zero[0][0,0]= (1 - rho[c][-1][-1]) * mu[c][-1][-1]\n",
    "    coeffs_zero[0][0,1]= (1 - rho[c][0][(0,0)]) * mu[c][0][(0,0)][0]\n",
    "    coeffs_zero[0][1,0] = (1 - rho[c][0][(0,0)]) * mu[c][0][(0,0)][1]\n",
    "    coeffs_zero[0][1,1] = (1 - rho[c][0][(0,0)]) * mu[c][0][(0,0)][2]\n",
    "    for h in range(1,5):\n",
    "        for u in U[h]:\n",
    "            coeffs_zero[h][0][u[0]][u[1]] = (1 - rho[c][h][u]) * mu[c][h][u][0]\n",
    "            coeffs_zero[h][1][u[0]][u[1]] = (1 - rho[c][h][u]) * mu[c][h][u][1]\n",
    "            coeffs_zero[h][2][u[0]][u[1]] = (1 - rho[c][h][u]) * mu[c][h][u][2]\n",
    "\n",
    "    plt.figure(figsize=(12,8))\n",
    "    plt.subplot(131)\n",
    "    plt.imshow(-pywt.waverec2(coeffs_zero, 'haar'), interpolation='nearest', cmap='gray')\n",
    "\n"
   ]
  },
  {
   "cell_type": "markdown",
   "metadata": {
    "collapsed": true,
    "deletable": true,
    "editable": true
   },
   "source": [
    "## Test distribution"
   ]
  },
  {
   "cell_type": "code",
   "execution_count": null,
   "metadata": {
    "collapsed": false,
    "deletable": true,
    "editable": true
   },
   "outputs": [],
   "source": [
    "fig = plt.figure(figsize = (12,12))\n",
    "ax = fig.add_subplot(111, projection='3d')\n",
    "\n",
    "c = 8\n",
    "h = 3\n",
    "u = (4,1)\n",
    "\n",
    "n = 200\n",
    "\n",
    "test2 = np.random.multivariate_normal(mu[c][h][u], Sigma[c][h][u] , n)\n",
    "#test2 = np.random.multivariate_normal(mu[(c,h,u)], Sig_test * 0 , n)\n",
    "#test2 = np.random.multivariate_normal(-mu[(c,h,u)], np.eye(3,3), n)\n",
    "ax.scatter(test2[:,0], test2[:,1], test2[:,2],c='b', marker = '^')\n",
    "\n",
    "#test3 = np.random.multivariate_normal(-mu[(c,h,u)], np.eye(3,3), n)\n",
    "#ax.scatter(test3[:,0], test3[:,1], test3[:,2],c='g', marker = 'd')\n",
    "\n",
    "index = np.arange(len(Data[c][h][u]))\n",
    "np.random.shuffle(index)\n",
    "test = np.array(Data[c][h][u])\n",
    "ax.scatter(test[index[:n],0], test[index[:n],1], test[index[:n],2],c='r', marker = 'o')\n",
    "\n",
    "v = Data_test[c][h][u][0]\n",
    "ax.scatter(v[0], v[1], v[2],c='g', marker = 's')\n",
    "\n",
    "ax.view_init(20, -30)"
   ]
  },
  {
   "cell_type": "markdown",
   "metadata": {
    "deletable": true,
    "editable": true
   },
   "source": [
    "## Test proba"
   ]
  },
  {
   "cell_type": "code",
   "execution_count": null,
   "metadata": {
    "collapsed": false,
    "deletable": true,
    "editable": true
   },
   "outputs": [],
   "source": [
    "from scipy.stats import multivariate_normal\n",
    "\n",
    "c_ref = 0\n",
    "#h = 0\n",
    "#u = (0,0)\n",
    "\n",
    "for i in [0]:\n",
    "    pi = np.ones(10) / 10\n",
    "    log_score = np.zeros(10)\n",
    "    mem_pi = [pi]\n",
    "    for h in range(-1,5):\n",
    "        print '*************************'\n",
    "        print '*********' , 'h = ' , h , '************'\n",
    "        print '*************************'\n",
    "        for u in U[h]:\n",
    "            #print U[h]\n",
    "            #u = (u_ref[1],u_ref[2])\n",
    "            lik = np.zeros(10)\n",
    "            for c in range(10):\n",
    "                v = Data_test[c_ref][h][u][i]\n",
    "                if np.linalg.norm(v) < 1e-16:\n",
    "                    lik[c] = rho[c][h][u]\n",
    "                else:\n",
    "                    if np.linalg.norm(mu[c][h][u]) > 1e-16:\n",
    "                        dist = multivariate_normal(mean = mu[c][h][u], cov = Sigma[c][h][u])\n",
    "                        #print 'mean =', mu[c][h][u]\n",
    "                        #print 'cov =', Sigma[c][h][u]\n",
    "                        lik[c] = (1-rho[c][h][u]) * dist.pdf(v)\n",
    "                    else:\n",
    "                        lik[c] = 0\n",
    "                lik[c] = max(lik[c],1e-16)\n",
    "            print 'lik =' + str(lik) \n",
    "            log_score += np.log(lik) \n",
    "            max_log_score = max(log_score)\n",
    "            print 'log_score', log_score\n",
    "            print 'max(log_score) :', max_log_score\n",
    "            log_score -= max_log_score\n",
    "            Z = np.sum(np.exp(log_score))\n",
    "            pi = np.exp(log_score)/Z\n",
    "            mem_pi += [pi]\n",
    "            #for c in range(10):\n",
    "            #    pi[c] = lik[c]/lik.sum()\n",
    "            print 'pi =' + str(pi)\n",
    "            print 'max(pi) = ',max(pi)\n",
    "            sum_H = - pi * np.log(lik)\n",
    "            #print np.log(lik)\n",
    "            print '****', 'c :', c_ref, ', h :', h, ', u :',u, ' ---> ', np.where(pi == max(pi))[0][0]\n",
    "            print '**** H = ',sum_H.sum()\n",
    "    "
   ]
  },
  {
   "cell_type": "code",
   "execution_count": null,
   "metadata": {
    "collapsed": false,
    "deletable": true,
    "editable": true
   },
   "outputs": [],
   "source": [
    "plt.figure(figsize = (12,6))\n",
    "plt.semilogy(mem_pi)\n",
    "plt.ylim([1e-30,10])\n",
    "#plt.legend()"
   ]
  },
  {
   "cell_type": "code",
   "execution_count": null,
   "metadata": {
    "collapsed": false,
    "deletable": true,
    "editable": true,
    "scrolled": false
   },
   "outputs": [],
   "source": [
    "def calc_lik(v,h,u):\n",
    "    lik = np.zeros(10)\n",
    "    for c in range(10):\n",
    "        if np.linalg.norm(v) < 1e-16:\n",
    "            if np.linalg.norm(mu[c][h][u]) > 1e-16:\n",
    "                lik[c] = rho[c][h][u]\n",
    "            else:\n",
    "                lik[c] = 1                \n",
    "        else:\n",
    "            if np.linalg.norm(mu[c][h][u]) > 1e-16:\n",
    "                dist = multivariate_normal(mean = mu[c][h][u], cov = Sigma[c][h][u])\n",
    "                lik[c] = (1-rho[c][h][u]) * dist.pdf(v)\n",
    "                #lik[c] =  dist.pdf(v)\n",
    "            else:\n",
    "                lik[c] = 0\n",
    "        lik[c] = max(lik[c],1e-16)    \n",
    "    return lik\n",
    "\n",
    "def update_log_score(log_score, lik):\n",
    "    #print 'lik =' + str(lik) \n",
    "    log_score += np.log(lik) \n",
    "    max_log_score = max(log_score)\n",
    "    log_score -= max_log_score\n",
    "    return log_score\n",
    "    \n",
    "def calc_pi(log_score): # TODO\n",
    "    Z = np.sum(np.exp(log_score))\n",
    "    pi = np.exp(log_score)/Z\n",
    "    #print 'pi =' + str(pi)\n",
    "    #print 'max(pi) = ',max(pi)\n",
    "    return pi\n",
    "    \n",
    "def calc_H_plus(log_score, v_plus, h_plus, u_plus):\n",
    "    lik_plus = calc_lik(v_plus, h_plus, u_plus)\n",
    "    log_score_plus = update_log_score(np.copy(log_score), lik_plus)\n",
    "    pi_plus = calc_pi(log_score_plus)\n",
    "    sum_H = - pi_plus * np.log(pi_plus)\n",
    "    #print 'sum_H : ', sum_H\n",
    "    #print np.log(lik)\n",
    "    #print '****', 'c :', c_ref, ', h :', h, ', u :',u, ' ---> ', np.where(pi == max(pi))[0][0]\n",
    "    #print '**** H = ',\n",
    "    return sum_H.sum()\n",
    "\n",
    "def calc_F_plus(pi, log_score, v_plus, h_plus, u_plus):    \n",
    "    lik_plus = calc_lik(v_plus, h_plus, u_plus)\n",
    "    log_score_plus = update_log_score(np.copy(log_score), lik_plus)\n",
    "    pi_plus = calc_pi(log_score_plus)\n",
    "    sum_F = - pi_plus * (np.log(lik_plus) - np.log(pi_plus) + np.log(pi))\n",
    "    #print 'sum_F : ', sum_F\n",
    "    #print np.log(lik)\n",
    "    #print '****', 'c :', c_ref, ', h :', h, ', u :',u, ' ---> ', np.where(pi == max(pi))[0][0]\n",
    "    #print '**** H = ',\n",
    "    return sum_F.sum()   \n",
    "\n",
    "def calc_E_plus(pi, v_plus, h_plus, u_plus):    \n",
    "    lik_plus = calc_lik(v_plus, h_plus, u_plus)\n",
    "    sum_E = pi * lik_plus\n",
    "    #print 'sum_F : ', sum_F\n",
    "    #print np.log(lik)\n",
    "    #print '****', 'c :', c_ref, ', h :', h, ', u :',u, ' ---> ', np.where(pi == max(pi))[0][0]\n",
    "    #print '**** H = ',\n",
    "    return sum_E.sum()   "
   ]
  },
  {
   "cell_type": "markdown",
   "metadata": {
    "deletable": true,
    "editable": true
   },
   "source": [
    "### Test fonctions MAJ"
   ]
  },
  {
   "cell_type": "code",
   "execution_count": null,
   "metadata": {
    "collapsed": false,
    "deletable": true,
    "editable": true
   },
   "outputs": [],
   "source": [
    "c_ref = 8\n",
    "#h = 0\n",
    "#u = (0,0)\n",
    "\n",
    "for i in [0]:\n",
    "    pi = np.ones(10) / 10\n",
    "    log_score = np.zeros(10)\n",
    "    mem_pi = [pi]\n",
    "    mem_H = [np.sum(- pi * np.log(pi))]\n",
    "    for h in range(-1,5):\n",
    "        print '*************************'\n",
    "        print '*********' , 'h = ' , h , '************'\n",
    "        print '*************************'\n",
    "        for u in U[h]:\n",
    "            v = Data_test[c_ref][h][u][i]\n",
    "            lik = calc_lik(v,h,u)\n",
    "            print 'lik =' + str(lik) \n",
    "            log_score = update_log_score(log_score, lik)\n",
    "            print 'log_score =' + str(log_score) \n",
    "            pi_moins = pi\n",
    "            pi = calc_pi(log_score)\n",
    "            mem_pi += [pi]\n",
    "            print 'pi =' + str(pi)\n",
    "            print 'max(pi) = ',max(pi)\n",
    "            F = np.sum(- pi * (np.log(lik) - np.log(pi) + np.log(pi_moins)))\n",
    "            H = np.sum(- pi * np.log(pi))\n",
    "            mem_H += [H]\n",
    "            #print np.log(lik)\n",
    "            print '****', 'c :', c_ref, ', h :', h, ', u :',u, ' ---> ', np.where(pi == max(pi))[0][0]\n",
    "            print '**** H = ', H\n",
    "            print '**** F = ', F\n",
    "    "
   ]
  },
  {
   "cell_type": "code",
   "execution_count": null,
   "metadata": {
    "collapsed": false,
    "deletable": true,
    "editable": true
   },
   "outputs": [],
   "source": [
    "plt.figure(figsize = (20,4))\n",
    "plt.subplot(1,3,1)\n",
    "affiche_mnist(Data_test, c_ref, i)\n",
    "plt.subplot(1,3,2)\n",
    "plt.semilogy(mem_pi)\n",
    "plt.ylim([1e-30,10])\n",
    "plt.title('$\\pi$')\n",
    "plt.subplot(1,3,3)\n",
    "plt.plot(mem_H)\n",
    "plt.title('Entropy')\n"
   ]
  },
  {
   "cell_type": "markdown",
   "metadata": {
    "collapsed": false,
    "deletable": true,
    "editable": true
   },
   "source": [
    "## Test reconnaissance en profondeur (saccade unique)\n",
    "\n",
    "Tests entropie effective \n",
    "\n",
    "On constate un biais de confirmation de l'hypothèse initiale"
   ]
  },
  {
   "cell_type": "code",
   "execution_count": null,
   "metadata": {
    "collapsed": false,
    "deletable": true,
    "editable": true,
    "scrolled": true
   },
   "outputs": [],
   "source": [
    "c_ref = 8\n",
    "print '*****', c_ref, '*****'\n",
    "#h = 0\n",
    "#u = (0,0)\n",
    "\n",
    "for i in [0]:\n",
    "    pi = np.ones(10) / 10\n",
    "    log_score = np.zeros(10)\n",
    "    mem_pi = [pi]\n",
    "    mem_pi_copy = []\n",
    "    mem_H = [np.sum(- pi * np.log(pi))]\n",
    "    mem_H_copy = []\n",
    "    mem_h_u = []\n",
    "    mem_out = []\n",
    "    (h,u) = (-1,-1)\n",
    "    v = Data_test[c_ref][h][u][i]     \n",
    "    lik = calc_lik(v,h,u)\n",
    "    print 'lik : ', lik\n",
    "    log_score = update_log_score(log_score, lik)\n",
    "    #print 'log_score : ', log_score\n",
    "    pi = calc_pi(log_score)\n",
    "    print 'pi : ', pi\n",
    "    mem_pi += [pi]\n",
    "    H = np.sum(- pi * np.log(pi))\n",
    "    mem_H += [H]\n",
    "    print '****', 'c :', c_ref, ', h :', h, ', u :',u, ' ---> ', np.where(pi == max(pi))[0][0]    \n",
    "    \n",
    "    (h, u) = (0, (0, 0))\n",
    "    U_tree_ref = U_tree\n",
    "    TOUR = 0\n",
    "    END = False\n",
    "    VU = False\n",
    "    SEUIL = False\n",
    "    liste_u = []\n",
    "    mem_u_final = []\n",
    "    while END == False:\n",
    "        print h, u\n",
    "        if (h,u) not in mem_h_u:\n",
    "            mem_h_u += [(h,u)]\n",
    "            v = Data_test[c_ref][h][u][i]     \n",
    "            lik = calc_lik(v,h,u)\n",
    "            print 'lik : ', lik\n",
    "            log_score = update_log_score(log_score, lik)\n",
    "            print 'log_score : ', log_score\n",
    "            pi = calc_pi(log_score)\n",
    "            print 'pi : ', pi\n",
    "            mem_pi += [pi]\n",
    "            H = np.sum(- pi * np.log(pi))\n",
    "            print 'H : ', H\n",
    "            mem_H += [H]\n",
    "            print '****', 'c :', c_ref, ', h :', h, ', u :',u, ' ---> ', np.argmax(pi)\n",
    "            out = np.argmax(pi)\n",
    "            VU = False\n",
    "            if h == 4 and pi[out] > .9999 :\n",
    "                print pi[out]\n",
    "                SEUIL = True\n",
    "        else :\n",
    "            print h, u, 'déjà vu'\n",
    "            #VU = True\n",
    "            print ''\n",
    "        if h < 4:\n",
    "            for i_fils in range(1,5):\n",
    "                if U_tree_ref[i_fils] != [] and U_tree_ref[i_fils] not in liste_u and U_tree_ref[i_fils][0] not in mem_h_u:\n",
    "                    liste_u+= [U_tree_ref[i_fils]] \n",
    "            print 'TOUR = ',TOUR, 'h = ', h, 'len(liste_u) =', len(liste_u)\n",
    "            #c = raw_input()\n",
    "            H_plus = np.zeros(len(liste_u))\n",
    "            F_plus = np.zeros(len(liste_u))\n",
    "            E_plus = np.zeros(len(liste_u))\n",
    "            for k in range(len(liste_u)):\n",
    "                if liste_u[k] != []:\n",
    "                    (h_plus, u_plus) = liste_u[k][0]\n",
    "                    if (h_plus, u_plus) not in mem_h_u :\n",
    "                        #print 'hplus, u_plus :', (h_plus, u_plus)\n",
    "                        v_plus = Data_test[c_ref][h_plus][u_plus][i]\n",
    "                        H_plus[k] = calc_H_plus(log_score, v_plus, h_plus, u_plus)\n",
    "                        F_plus[k] = calc_F_plus(pi, log_score, v_plus, h_plus, u_plus)\n",
    "                        E_plus[k] = calc_E_plus(pi, v_plus, h_plus, u_plus)\n",
    "                    else :\n",
    "                        H_plus[k] = 9999999\n",
    "                        F_plus[k] = -9999999                        \n",
    "                        E_plus[k] = 9999999                        \n",
    "                else:\n",
    "                    H_plus[k] = 9999999\n",
    "                    F_plus[k] = -9999999\n",
    "                    E_plus[k] = 9999999                        \n",
    "\n",
    "            #k_plus = np.argmin(H_plus) #where(H_plus == min(H_plus))[0][0]\n",
    "            test = True\n",
    "            while test:\n",
    "                #k_plus =  np.argmax(F_plus) #np.where(F_plus == min(F_plus))[0][0]\n",
    "                #k_plus = np.argmax(H_plus)\n",
    "                k_plus = np.argmin(E_plus)\n",
    "                h_plus = liste_u[k_plus][0][0]\n",
    "                i_plus = liste_u[k_plus][0][1][0]\n",
    "                i_moins = u[0]/2\n",
    "                b_i_inf = 2**(h_plus-h+1) * i_moins\n",
    "                b_i_sup = 2**(h_plus-h+1) * (i_moins + 1)\n",
    "                j_plus = liste_u[k_plus][0][1][1]\n",
    "                j_moins = u[1]/2\n",
    "                b_j_inf = 2**(h_plus-h+1) * j_moins\n",
    "                b_j_sup = 2**(h_plus-h+1) * (j_moins + 1)\n",
    "                print 'i_plus :', i_plus, ' in [', b_i_inf, ',', b_i_sup, ']?', h\n",
    "                print 'j_plus :', j_plus, ' in [', b_j_inf, ',', b_j_sup, ']?', h\n",
    "                if h_plus > h and i_plus in range(b_i_inf,b_i_sup) and j_plus in range(b_j_inf,b_j_sup):\n",
    "                    test = False              \n",
    "                else:\n",
    "                    F_plus[k_plus] = -9999999\n",
    "                    H_plus[k_plus] = -9999999\n",
    "                    E_plus[k_plus] = 9999999                \n",
    "            print 'H plus :', H_plus\n",
    "            print 'F plus :', F_plus\n",
    "            print 'k_plus :', k_plus\n",
    "            (h, u) = liste_u[k_plus][0]\n",
    "            U_tree_ref = liste_u[k_plus] #U_tree_ref[k_plus + 1]\n",
    "            #print U_tree_ref\n",
    "            print ''\n",
    "        else:\n",
    "            mem_u_final += [u]\n",
    "            mem_pi_copy += [list(mem_pi)]\n",
    "            mem_H_copy += [list(mem_H)]\n",
    "            mem_out += [out]\n",
    "            if TOUR == 20  or SEUIL:    \n",
    "                END = True\n",
    "                print '************************************'\n",
    "                print '******         FINI          *******'\n",
    "                print '************************************'                \n",
    "            else:\n",
    "                TOUR += 1\n",
    "                print '************************************'\n",
    "                print '******       TOUR    ' + str(TOUR) + '        ******'\n",
    "                print '************************************'\n",
    "                h = 0\n",
    "                u = (0,0)\n",
    "                U_tree_ref = U_tree\n",
    "        "
   ]
  },
  {
   "cell_type": "code",
   "execution_count": null,
   "metadata": {
    "collapsed": false,
    "deletable": true,
    "editable": true,
    "scrolled": false
   },
   "outputs": [],
   "source": [
    "coeffs_aff = init_coeffs_mnist()\n",
    "cpt = 0\n",
    "path_i = []\n",
    "path_j = []\n",
    "for u in mem_u_final :\n",
    "    path_i += [U[4][u][0]]\n",
    "    path_j += [U[4][u][1]]\n",
    "    plt.figure(figsize = (20,4))\n",
    "    plt.subplot(1,4,1)\n",
    "    affiche_mnist(Data_test, c_ref, i)\n",
    "    affiche_path_mnist(path_i, path_j)\n",
    "    plt.title(cpt)\n",
    "    plt.subplot(1,4,2)    \n",
    "    coord = U[4][u]  \n",
    "    print 'coords :', coord\n",
    "    \n",
    "    affiche_mnist_coord(Data_test, coeffs_aff, c_ref, i, coord)\n",
    "    affiche_path_mnist(path_i, path_j)\n",
    "    plt.subplot(1,4,3)\n",
    "    plt.plot(mem_pi_copy[cpt])\n",
    "    plt.title('$\\pi$, out = '+str(mem_out[cpt]))\n",
    "    plt.ylim([0,1.05])\n",
    "    plt.subplot(1,4,4)\n",
    "    plt.plot(mem_H_copy[cpt])\n",
    "    plt.title('Entropy')\n",
    "    plt.ylim([0,2.4])\n",
    "    cpt += 1"
   ]
  },
  {
   "cell_type": "markdown",
   "metadata": {
    "collapsed": false,
    "deletable": true,
    "editable": true
   },
   "source": [
    "## Test en largeur d'abord (bottom up)"
   ]
  },
  {
   "cell_type": "code",
   "execution_count": null,
   "metadata": {
    "collapsed": false,
    "deletable": true,
    "editable": true
   },
   "outputs": [],
   "source": [
    "U_tree[i_fils][1][0]"
   ]
  },
  {
   "cell_type": "code",
   "execution_count": null,
   "metadata": {
    "collapsed": false,
    "deletable": true,
    "editable": true
   },
   "outputs": [],
   "source": [
    "mem_h_u"
   ]
  },
  {
   "cell_type": "code",
   "execution_count": null,
   "metadata": {
    "collapsed": false,
    "deletable": true,
    "editable": true
   },
   "outputs": [],
   "source": [
    "U[4][(5,10)]"
   ]
  },
  {
   "cell_type": "code",
   "execution_count": null,
   "metadata": {
    "collapsed": false,
    "deletable": true,
    "editable": true
   },
   "outputs": [],
   "source": [
    "lik"
   ]
  },
  {
   "cell_type": "code",
   "execution_count": null,
   "metadata": {
    "collapsed": false
   },
   "outputs": [],
   "source": [
    "np.log(lik)"
   ]
  },
  {
   "cell_type": "code",
   "execution_count": null,
   "metadata": {
    "collapsed": false
   },
   "outputs": [],
   "source": [
    "pi[out]"
   ]
  },
  {
   "cell_type": "code",
   "execution_count": null,
   "metadata": {
    "collapsed": false
   },
   "outputs": [],
   "source": [
    "lik_test = [6.47120236e+00,   1.00000000e-16,   5.20558153e-01,   1.37438396e-02,\n",
    "   2.70854267e-05,   1.95244077e-01,   2.48980440e+00,   1.61746086e-04,\n",
    "   3.05114329e-02,   1.48932662e-03]\n",
    "log_score_test = [-44.72913926, -226.20581543,   -2.30103965,  -30.98412798,  -46.28824072,\n",
    "  -32.42211479,  -30.40021047, -100.38374515,    0.,          -52.30459006]\n",
    "print np.log(lik_test)"
   ]
  },
  {
   "cell_type": "code",
   "execution_count": null,
   "metadata": {
    "collapsed": true
   },
   "outputs": [],
   "source": [
    "log_score_plus = log_score_test + np.log(lik_test)"
   ]
  },
  {
   "cell_type": "code",
   "execution_count": null,
   "metadata": {
    "collapsed": false
   },
   "outputs": [],
   "source": [
    "log_score_plus"
   ]
  },
  {
   "cell_type": "code",
   "execution_count": null,
   "metadata": {
    "collapsed": false
   },
   "outputs": [],
   "source": [
    "b_i_inf = 2**(h-5) * i_moins"
   ]
  },
  {
   "cell_type": "code",
   "execution_count": null,
   "metadata": {
    "collapsed": false
   },
   "outputs": [],
   "source": [
    "2**(5-h) "
   ]
  },
  {
   "cell_type": "code",
   "execution_count": null,
   "metadata": {
    "collapsed": false
   },
   "outputs": [],
   "source": [
    "h"
   ]
  },
  {
   "cell_type": "code",
   "execution_count": null,
   "metadata": {
    "collapsed": true
   },
   "outputs": [],
   "source": []
  }
 ],
 "metadata": {
  "kernelspec": {
   "display_name": "Python 2",
   "language": "python",
   "name": "python2"
  },
  "language_info": {
   "codemirror_mode": {
    "name": "ipython",
    "version": 2
   },
   "file_extension": ".py",
   "mimetype": "text/x-python",
   "name": "python",
   "nbconvert_exporter": "python",
   "pygments_lexer": "ipython2",
   "version": "2.7.9"
  }
 },
 "nbformat": 4,
 "nbformat_minor": 0
}
